{
 "cells": [
  {
   "cell_type": "code",
   "execution_count": 2,
   "metadata": {},
   "outputs": [
    {
     "name": "stdout",
     "output_type": "stream",
     "text": [
      "lal.G_SI != G\n",
      "lal.MSUN_SI != Msun\n",
      "setting __package__ to gwsurrogate.new so relative imports work\n",
      "__name__ = gwsurrogate.new.spline_evaluation\n",
      "__package__= gwsurrogate.new\n",
      "setting __package__ to gwsurrogate.new so relative imports work\n",
      "setting __package__ to gwsurrogate.new so relative imports work\n"
     ]
    },
    {
     "name": "stderr",
     "output_type": "stream",
     "text": [
      "/Users/zohaggard/anaconda2/envs/igwn-py37/lib/python3.7/site-packages/gwtools/rotations.py:63: UserWarning: Could not import GWFrames, needed for rotations module\n",
      "  _warnings.warn(\"Could not import GWFrames, needed for rotations module\")\n",
      "/Users/zohaggard/anaconda2/envs/igwn-py37/lib/python3.7/site-packages/gwtools/__init__.py:11: UserWarning: Could not import rotations, decompositions, or fitfuncs. These are not needed by GWSurrogate.\n",
      "  _warnings.warn(\"Could not import rotations, decompositions, or fitfuncs. These are not needed by GWSurrogate.\")\n"
     ]
    }
   ],
   "source": [
    "import gwsurrogate\n",
    "import numpy as np\n",
    "import matplotlib.pyplot as plt\n",
    "import bilby\n",
    "from gwpy.timeseries import TimeSeries"
   ]
  },
  {
   "cell_type": "code",
   "execution_count": 3,
   "metadata": {},
   "outputs": [],
   "source": [
    "def sigmoid(x,x0,L,k):\n",
    "    \n",
    "    sig = []\n",
    "    \n",
    "    for item in x:\n",
    "        value=L/(1+np.exp(-k*(item-x0)))\n",
    "        sig.append(value)\n",
    "    return sig"
   ]
  },
  {
   "cell_type": "code",
   "execution_count": 4,
   "metadata": {},
   "outputs": [],
   "source": [
    "def create_bru_values(m_odd, em, M, a, n_ref):\n",
    "    \n",
    "    \"\"\" \n",
    "    m_odd is odd integer, g_s is string coupling (GR == 1), em is 2,\n",
    "    M is total mass, a is dimensionless spin, and amplitude_qnm is \n",
    "    the amplitude of the mode of interest \n",
    "    \n",
    "    returns amplitude (quantum), omega_real, tau, and tp\n",
    "    \n",
    "    \"\"\"\n",
    "    \n",
    "    g_s = 1/n_ref\n",
    "    c = 3e8\n",
    "    G = 6.67e-11\n",
    "    Msun = 1.989e30\n",
    "    \n",
    "    conversion_w = (c**3)/(G * M * Msun)\n",
    "    R_con = (2 * G * M * Msun) / (c**2)\n",
    "    \n",
    "    r_s = (R_con + np.sqrt((R_con**2) - 4*(a**2)))/2 #units m\n",
    "    omega_real = (m_odd * np.pi /(2 * r_s * n_ref)) * c   #units 1/m --> 1/s\n",
    "    omega_im = - (1/r_s) * (1/(n_ref**2)) * c\n",
    "    \n",
    "    tau = 1/omega_im\n",
    "    tp = 1/omega_real \n",
    "    \n",
    "    print(\"Q freq is {}\".format(omega_real/(2*np.pi)))\n",
    "    print(\"Q tau is {}\".format(tau))\n",
    "    \n",
    "    return {'omega_real_Q': omega_real, 'omega_img_Q': omega_im,\n",
    "            'tau_Q': tau, 'tp_Q': tp, 'freq_Q': (omega_real/(2*np.pi)),\n",
    "           'rs_Q': r_s}"
   ]
  },
  {
   "cell_type": "code",
   "execution_count": 5,
   "metadata": {},
   "outputs": [],
   "source": [
    "def bru_sine(time, amplitude, tau, tp, omega_real, phase, **kwargs):\n",
    "    \n",
    "    \"\"\"\n",
    "    returns damped complex sine as h (type=array) \n",
    "    assumes that tau is negative number\n",
    "\n",
    "    \"\"\"\n",
    "    \n",
    "    \n",
    "    h = np.zeros(len(time), dtype=np.complex128)\n",
    "    tidx = time >= tp\n",
    "    \n",
    "    damp_arg = (time[tidx])/tau\n",
    "    sin_arg = (omega_real * (time[tidx])) - phase\n",
    "    h[tidx] = amplitude*np.exp(damp_arg) * np.exp((1j*sin_arg)) \n",
    "   \n",
    "    return h"
   ]
  },
  {
   "cell_type": "code",
   "execution_count": 6,
   "metadata": {},
   "outputs": [
    {
     "name": "stderr",
     "output_type": "stream",
     "text": [
      "/Users/zohaggard/anaconda2/envs/igwn-py37/lib/python3.7/site-packages/gwsurrogate/new/precessing_surrogate.py:245: H5pyDeprecationWarning: dataset.value has been deprecated. Use dataset[()] instead.\n",
      "  self.t = h5file['t_ds'].value\n",
      "/Users/zohaggard/anaconda2/envs/igwn-py37/lib/python3.7/site-packages/gwsurrogate/new/precessing_surrogate.py:272: H5pyDeprecationWarning: dataset.value has been deprecated. Use dataset[()] instead.\n",
      "  'coefs': group['%s_coefs'%(key)].value,\n",
      "/Users/zohaggard/anaconda2/envs/igwn-py37/lib/python3.7/site-packages/gwsurrogate/new/precessing_surrogate.py:273: H5pyDeprecationWarning: dataset.value has been deprecated. Use dataset[()] instead.\n",
      "  'bfOrders': group['%s_bfOrders'%(key)].value\n",
      "/Users/zohaggard/anaconda2/envs/igwn-py37/lib/python3.7/site-packages/gwsurrogate/new/precessing_surrogate.py:282: H5pyDeprecationWarning: dataset.value has been deprecated. Use dataset[()] instead.\n",
      "  'coefs': group['%s_%d_coefs'%(key, i)].value,\n",
      "/Users/zohaggard/anaconda2/envs/igwn-py37/lib/python3.7/site-packages/gwsurrogate/new/precessing_surrogate.py:283: H5pyDeprecationWarning: dataset.value has been deprecated. Use dataset[()] instead.\n",
      "  'bfOrders': group['%s_%d_bfOrders'%(key, i)].value\n",
      "/Users/zohaggard/anaconda2/envs/igwn-py37/lib/python3.7/site-packages/gwsurrogate/new/precessing_surrogate.py:733: H5pyDeprecationWarning: dataset.value has been deprecated. Use dataset[()] instead.\n",
      "  self.t = h5file['t_coorb'].value\n",
      "/Users/zohaggard/anaconda2/envs/igwn-py37/lib/python3.7/site-packages/gwsurrogate/new/precessing_surrogate.py:691: H5pyDeprecationWarning: dataset.value has been deprecated. Use dataset[()] instead.\n",
      "  data['EI_basis'] = h5_group['EIBasis'].value\n",
      "/Users/zohaggard/anaconda2/envs/igwn-py37/lib/python3.7/site-packages/gwsurrogate/new/precessing_surrogate.py:692: H5pyDeprecationWarning: dataset.value has been deprecated. Use dataset[()] instead.\n",
      "  data['nodeIndices'] = h5_group['nodeIndices'].value\n",
      "/Users/zohaggard/anaconda2/envs/igwn-py37/lib/python3.7/site-packages/gwsurrogate/new/precessing_surrogate.py:694: H5pyDeprecationWarning: dataset.value has been deprecated. Use dataset[()] instead.\n",
      "  for i in range(len(data['nodeIndices']))]\n",
      "/Users/zohaggard/anaconda2/envs/igwn-py37/lib/python3.7/site-packages/gwsurrogate/new/precessing_surrogate.py:696: H5pyDeprecationWarning: dataset.value has been deprecated. Use dataset[()] instead.\n",
      "  for i in range(len(data['nodeIndices']))]\n"
     ]
    },
    {
     "name": "stdout",
     "output_type": "stream",
     "text": [
      "Loaded NRSur7dq4 model\n"
     ]
    }
   ],
   "source": [
    "sur=gwsurrogate.LoadSurrogate('NRSur7dq4')"
   ]
  },
  {
   "cell_type": "code",
   "execution_count": null,
   "metadata": {},
   "outputs": [],
   "source": []
  },
  {
   "cell_type": "code",
   "execution_count": 60,
   "metadata": {},
   "outputs": [
    {
     "ename": "NameError",
     "evalue": "name 'times' is not defined",
     "output_type": "error",
     "traceback": [
      "\u001b[0;31m---------------------------------------------------------------------------\u001b[0m",
      "\u001b[0;31mNameError\u001b[0m                                 Traceback (most recent call last)",
      "\u001b[0;32m<ipython-input-60-6f2238959fc5>\u001b[0m in \u001b[0;36m<module>\u001b[0;34m()\u001b[0m\n\u001b[1;32m     10\u001b[0m \u001b[0;34m\u001b[0m\u001b[0m\n\u001b[1;32m     11\u001b[0m \u001b[0;31m# dyn stands for dynamics, do dyn.keys() to see contents\u001b[0m\u001b[0;34m\u001b[0m\u001b[0;34m\u001b[0m\u001b[0;34m\u001b[0m\u001b[0m\n\u001b[0;32m---> 12\u001b[0;31m t, h, dyn = sur(q, chiA, chiB, times=times, f_low=f_low, f_ref=f_ref, ellMax=ellMax, M=M, dist_mpc=dist_mpc, units='mks',\n\u001b[0m\u001b[1;32m     13\u001b[0m                inclination=inclination)\n",
      "\u001b[0;31mNameError\u001b[0m: name 'times' is not defined"
     ]
    }
   ],
   "source": [
    "q = 1\n",
    "chiA = [0,0,0]\n",
    "chiB = [0,0,0]      # Reference frequecny in Hz. The spins are assumed to specified at this frequency\n",
    "f_low = 0         # initial frequency, f_low=0 returns the full surrogate\n",
    "M = 40   # Total masss in solar masses\n",
    "dist_mpc = 235     # distance in megaparsecs\n",
    "dt = 1./4096       # step size in seconds\n",
    "ellMax = 4     # Highest l index for modes to use\n",
    "inclination = 0\n",
    "\n",
    "# dyn stands for dynamics, do dyn.keys() to see contents\n",
    "t, h, dyn = sur(q, chiA, chiB, times=times, f_low=f_low, f_ref=f_ref, ellMax=ellMax, M=M, dist_mpc=dist_mpc, units='mks',\n",
    "               inclination=inclination)"
   ]
  },
  {
   "cell_type": "code",
   "execution_count": 59,
   "metadata": {},
   "outputs": [],
   "source": []
  },
  {
   "cell_type": "code",
   "execution_count": 52,
   "metadata": {},
   "outputs": [
    {
     "ename": "Exception",
     "evalue": "times were given as input but returned domain somehow does not match.",
     "output_type": "error",
     "traceback": [
      "\u001b[0;31m---------------------------------------------------------------------------\u001b[0m",
      "\u001b[0;31mException\u001b[0m                                 Traceback (most recent call last)",
      "\u001b[0;32m<ipython-input-52-a6c10e6036a8>\u001b[0m in \u001b[0;36m<module>\u001b[0;34m()\u001b[0m\n\u001b[1;32m      1\u001b[0m tnew, hnew, dyn = sur(q, chiA, chiB, times=time, f_low=f_low, f_ref=f_ref, ellMax=ellMax, M=M, dist_mpc=dist_mpc, units='mks',\n\u001b[0;32m----> 2\u001b[0;31m                inclination=inclination)\n\u001b[0m",
      "\u001b[0;32m/Users/zohaggard/anaconda2/envs/igwn-py37/lib/python3.7/site-packages/gwsurrogate/surrogate.py\u001b[0m in \u001b[0;36m__call__\u001b[0;34m(self, q, chiA0, chiB0, M, dist_mpc, f_low, f_ref, dt, df, times, freqs, mode_list, ellMax, inclination, phi_ref, precessing_opts, tidal_opts, par_dict, units, skip_param_checks, taper_end_duration)\u001b[0m\n\u001b[1;32m   1902\u001b[0m         \u001b[0;32mif\u001b[0m \u001b[0;34m(\u001b[0m\u001b[0mtimes\u001b[0m \u001b[0;32mis\u001b[0m \u001b[0;32mnot\u001b[0m \u001b[0;32mNone\u001b[0m\u001b[0;34m)\u001b[0m\u001b[0;34m:\u001b[0m\u001b[0;34m\u001b[0m\u001b[0;34m\u001b[0m\u001b[0m\n\u001b[1;32m   1903\u001b[0m             \u001b[0;32mif\u001b[0m \u001b[0;32mnot\u001b[0m \u001b[0mnp\u001b[0m\u001b[0;34m.\u001b[0m\u001b[0marray_equal\u001b[0m\u001b[0;34m(\u001b[0m\u001b[0mdomain\u001b[0m\u001b[0;34m,\u001b[0m \u001b[0mtimes\u001b[0m\u001b[0;34m)\u001b[0m\u001b[0;34m:\u001b[0m\u001b[0;34m\u001b[0m\u001b[0;34m\u001b[0m\u001b[0m\n\u001b[0;32m-> 1904\u001b[0;31m                 raise Exception(\"times were given as input but returned \"\n\u001b[0m\u001b[1;32m   1905\u001b[0m                     \"domain somehow does not match.\")\n\u001b[1;32m   1906\u001b[0m         \u001b[0;32mif\u001b[0m \u001b[0;34m(\u001b[0m\u001b[0mfreqs\u001b[0m \u001b[0;32mis\u001b[0m \u001b[0;32mnot\u001b[0m \u001b[0;32mNone\u001b[0m\u001b[0;34m)\u001b[0m\u001b[0;34m:\u001b[0m\u001b[0;34m\u001b[0m\u001b[0;34m\u001b[0m\u001b[0m\n",
      "\u001b[0;31mException\u001b[0m: times were given as input but returned domain somehow does not match."
     ]
    }
   ],
   "source": [
    "tnew, hnew, dyn = sur(q, chiA, chiB, times=time, f_low=f_low, f_ref=f_ref, ellMax=ellMax, M=M, dist_mpc=dist_mpc, units='mks',\n",
    "               inclination=inclination)"
   ]
  },
  {
   "cell_type": "code",
   "execution_count": 9,
   "metadata": {},
   "outputs": [
    {
     "name": "stdout",
     "output_type": "stream",
     "text": [
      "Q freq is 127.19884401690555\n",
      "Q tau is -0.009827133333333331\n"
     ]
    }
   ],
   "source": [
    "bru_values=create_bru_values(1, 0, 40, 0, 5)"
   ]
  },
  {
   "cell_type": "code",
   "execution_count": 61,
   "metadata": {},
   "outputs": [
    {
     "name": "stderr",
     "output_type": "stream",
     "text": [
      "/Users/zohaggard/anaconda2/envs/igwn-py37/lib/python3.7/site-packages/numpy/core/numeric.py:538: ComplexWarning: Casting complex values to real discards the imaginary part\n",
      "  return array(a, dtype, copy=False, order=order)\n",
      "/Users/zohaggard/anaconda2/envs/igwn-py37/lib/python3.7/site-packages/ipykernel_launcher.py:6: RuntimeWarning: overflow encountered in exp\n",
      "  \n"
     ]
    },
    {
     "data": {
      "text/plain": [
       "Text(0.5, 1.0, 'n=3,M=40,inc=0,chi=0,dist=235 Mpc')"
      ]
     },
     "execution_count": 61,
     "metadata": {},
     "output_type": "execute_result"
    },
    {
     "data": {
      "image/png": "[encoded data removed]",
      "text/plain": [
       "<Figure size 432x288 with 1 Axes>"
      ]
     },
     "metadata": {
      "needs_background": "light"
     },
     "output_type": "display_data"
    }
   ],
   "source": [
    "plt.plot(t,h,label='NRSur')\n",
    "plt.plot(t,sigmoid(x=t,x0=bru_values['tp_Q'],L=1e-21,k=4096), label='sigmoid')\n",
    "plt.plot(t,bru_sine(time=t, amplitude=1e-21, tau=bru_values['tau_Q'], tp=bru_values['tp_Q'], \n",
    "                    omega_real=bru_values['omega_real_Q'], phase=0).real, label='untapered quantum mode')\n",
    "bru=bru_sine(time=t, amplitude=1e-21, tau=bru_values['tau_Q'], tp=bru_values['tp_Q'], omega_real=bru_values['omega_real_Q'], phase=0)\n",
    "sig=sigmoid(x=t,x0=bru_values['tp_Q']*2,L=1e-21,k=4096)\n",
    "plt.plot(t, bru.real*sig/1e-21,label='tapered quantum mode')\n",
    "plt.plot(t,bru.real*sig/1e-21+h, label='superposition')\n",
    "plt.xlim(-0.5,0.01)\n",
    "plt.legend(loc=[0,0])\n",
    "plt.ylabel('h real')\n",
    "plt.xlabel('time (seconds)')\n",
    "plt.title('n=3,M=40,inc=0,chi=0,dist=235 Mpc')"
   ]
  },
  {
   "cell_type": "code",
   "execution_count": 45,
   "metadata": {},
   "outputs": [
    {
     "name": "stderr",
     "output_type": "stream",
     "text": [
      "/Users/zohaggard/anaconda2/envs/igwn-py37/lib/python3.7/site-packages/ipykernel_launcher.py:6: RuntimeWarning: overflow encountered in exp\n",
      "  \n"
     ]
    }
   ],
   "source": [
    "sig=sigmoid(x=t,x0=bru_values['tp_Q'],L=9e-20,k=4096)\n",
    "bru=bru_sine(time=t, amplitude=9e-20, tau=bru_values['tau_Q'], tp=bru_values['tp_Q'], \n",
    "                    omega_real=bru_values['omega_real_Q'], phase=0)\n",
    "htotal=(bru.real*sig/9e-20)+h.real"
   ]
  },
  {
   "cell_type": "code",
   "execution_count": 57,
   "metadata": {
    "scrolled": true
   },
   "outputs": [
    {
     "data": {
      "text/plain": [
       "-0.41383484701786544"
      ]
     },
     "execution_count": 57,
     "metadata": {},
     "output_type": "execute_result"
    }
   ],
   "source": [
    "t[1775]"
   ]
  },
  {
   "cell_type": "code",
   "execution_count": 31,
   "metadata": {},
   "outputs": [],
   "source": [
    "H1 = bilby.gw.detector.get_empty_interferometer('H1')"
   ]
  },
  {
   "cell_type": "code",
   "execution_count": 37,
   "metadata": {},
   "outputs": [],
   "source": [
    "time_series = TimeSeries(times=t, data=htotal)"
   ]
  },
  {
   "cell_type": "code",
   "execution_count": 38,
   "metadata": {},
   "outputs": [],
   "source": [
    "H1.set_strain_data_from_gwpy_timeseries(time_series=time_series,)"
   ]
  },
  {
   "cell_type": "code",
   "execution_count": 40,
   "metadata": {},
   "outputs": [
    {
     "name": "stderr",
     "output_type": "stream",
     "text": [
      "14:35 bilby INFO    : Generating frequency domain strain from given time domain strain.\n",
      "14:35 bilby INFO    : Applying a tukey window with alpha=0.4613911574206548, roll off=0.2\n"
     ]
    }
   ],
   "source": [
    "H1.plot_data()"
   ]
  },
  {
   "cell_type": "code",
   "execution_count": 41,
   "metadata": {},
   "outputs": [],
   "source": [
    "H1.set_strain_data_from_gwpy_timeseries?"
   ]
  },
  {
   "cell_type": "code",
   "execution_count": null,
   "metadata": {},
   "outputs": [],
   "source": []
  }
 ],
 "metadata": {
  "kernelspec": {
   "display_name": "igwn-py37",
   "language": "python",
   "name": "igwn-py37"
  },
  "language_info": {
   "codemirror_mode": {
    "name": "ipython",
    "version": 3
   },
   "file_extension": ".py",
   "mimetype": "text/x-python",
   "name": "python",
   "nbconvert_exporter": "python",
   "pygments_lexer": "ipython3",
   "version": "3.7.6"
  }
 },
 "nbformat": 4,
 "nbformat_minor": 2
}
