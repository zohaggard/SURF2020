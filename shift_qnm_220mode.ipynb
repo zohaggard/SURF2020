{
 "cells": [
  {
   "cell_type": "code",
   "execution_count": 80,
   "metadata": {},
   "outputs": [],
   "source": [
    "import numpy as np\n",
    "import qnm\n",
    "import bilby\n",
    "import matplotlib.pyplot as plt"
   ]
  },
  {
   "cell_type": "code",
   "execution_count": 81,
   "metadata": {},
   "outputs": [],
   "source": [
    "def shift_model(time, ts, tau, tau_q, fo, f_q, phi, phi_q, A, Aq, t0, **kwargs):\n",
    "    \n",
    "    \"\"\" \n",
    "    \n",
    "    quantum shift (not fractional)\n",
    "    \n",
    "    \n",
    "    \"\"\"\n",
    "    \n",
    "    plus = np.zeros(len(time))\n",
    "    cross = np.zeros(len(time))\n",
    "    \n",
    "    tidxg = time >= t0\n",
    "    tidxq = time >= ts\n",
    "    \n",
    "    GR_part = A*np.exp(-(time[tidxg]-t0)/tau)*np.exp(1j*((time[tidxg]-t0)*2*np.pi*fo) + phi)\n",
    "    \n",
    "    \n",
    "    plus[tidxg] += GR_part.real \n",
    "    \n",
    "    plus[tidxq] += Q_part.real\n",
    "    \n",
    "    return {'plus': plus, 'cross': cross}"
   ]
  },
  {
   "cell_type": "code",
   "execution_count": 82,
   "metadata": {},
   "outputs": [],
   "source": [
    "def frac_shift_1(time, frac_dw, frac_dtau, dphi, A, w, ts, phi, tau, **kwargs):\n",
    "    \n",
    "    \"\"\" \n",
    "    \n",
    "    fractional shift: 1 Q mode \n",
    "    \n",
    "    frac_dw, frac_dtau are defined as dw/w (or dtau/tau)\n",
    "    ts is Q mode start time, phi is phase, w is angular freq., tau is damping time (assumed negative)\n",
    "        \n",
    "    outputs plus and cross polarizations as dictionary\n",
    "    \n",
    "    get Q values from create_bru_dict function\n",
    "    \n",
    "    \"\"\"\n",
    "    \n",
    "    wave = np.zeros(len(time), np.complex128)\n",
    "    \n",
    "    tidq = time >= ts\n",
    "    \n",
    "    amplitude = A \n",
    "    omegar_term = w * (1+frac_dw)\n",
    "    time_term_q = (time[tidq] - ts)\n",
    "    phi_term = phi + dphi\n",
    "    tau_term = tau * (1+frac_dtau)\n",
    "    \n",
    "    wave[tidq] = amplitude * np.exp(1j*(omegar_term*time_term_q)) * np.exp(1j*(phi_term)) * np.exp(time_term_q/(tau*frac_dtau))\n",
    "    \n",
    "    \n",
    "    return {'plus': wave.real, 'cross': wave.imag}"
   ]
  },
  {
   "cell_type": "code",
   "execution_count": 83,
   "metadata": {},
   "outputs": [],
   "source": [
    "def frac_shift_2(time, frac_dw, frac_dtau, dphi, A, t0, w, ts, phi, tau, **kwargs):\n",
    "    \n",
    "    \"\"\" \n",
    "    \n",
    "    fractional shift: superposition of 1 GR mode and 1 Q mode \n",
    "    \n",
    "    get Q values from create_bru_dict function \n",
    "    \n",
    "    get GR values from qnm package\n",
    "    \n",
    "    \"\"\"\n",
    "    \n",
    "    wave = np.zeros(len(time), np.complex128)\n",
    "    \n",
    "    tidq = time >= ts\n",
    "    tidg = time >= t0\n",
    "    \n",
    "    amplitude = A \n",
    "    omegar_term = w * (1+frac_dw)\n",
    "    time_term_q = (time[tidq] - ts)\n",
    "    time_term_g = (time[tidg] - t0)\n",
    "    phi_term = phi + dphi\n",
    "    tau_term = tau * (1+frac_dtau)\n",
    "    \n",
    "    wave[tidq] += amplitude * np.exp(1j*(omegar_term*time_term_q)) * np.exp(1j*(phi_term)) * np.exp(time_term_q/(tau*frac_dtau))\n",
    "    wave[tidg] += amplitude * np.exp(1j*(w*time_term_g)) * np.exp(1j*(phi)) * np.exp(time_term_g/(tau))\n",
    "    \n",
    "    return {'plus': wave.real, 'cross': wave.imag}"
   ]
  },
  {
   "cell_type": "code",
   "execution_count": 109,
   "metadata": {},
   "outputs": [],
   "source": [
    "def create_bru_values(m_odd, em, M, a, n_ref, A):\n",
    "    \n",
    "    \"\"\" \n",
    "    m_odd is odd integer, g_s is string coupling (GR == 1), em is 2,\n",
    "    M is total mass, a is dimensionless spin, and amplitude_qnm is \n",
    "    the amplitude of the mode of interest \n",
    "    \n",
    "    returns dictionary: amplitude (quantum, g_s version), omega_real, tau, ts, freq\n",
    "    outputs tau as a negative number\n",
    "    \n",
    "    a refractive index of 1 implies no leakage, AND does not work in this limit (n ~ 1/g_s)\n",
    "        only the subrelativistic (slow) modes can escape (n>>1) based on boundary conditions \n",
    "        (the boundary conditions being the fact that this is a BH copycat)\n",
    "        \n",
    "        something to consider is that g_s cannot 0 (which it is in GR) in this model, otherwise there will be \n",
    "        no leakage or coupling to outside the \"event horizon,\" which allows stuff to escape\n",
    "        \n",
    "        From previous work we can constrain g_s^2 to, at max, be 0.6, which is corresponds to n=1.2\n",
    "        (this n won't work for this approximation anyway, because the modes close to n = 1 will not \n",
    "        escape)\n",
    "        \n",
    "        Pick g_s that is ~small~, corresponding to large refractive index\n",
    "        \n",
    "         \n",
    "    \"\"\"\n",
    "    g_s = np.sqrt(g_2s)\n",
    "    c = 3e8\n",
    "    G = 6.67e-11\n",
    "    Msun = 1.989e30\n",
    "    n_ref = 5\n",
    "    \n",
    "    conversion_w = (c**3)/(G * M * Msun)\n",
    "    R_con = (2 * G * M * Msun) / (c**2)\n",
    "    \n",
    "    r_s = (R_con + np.sqrt((R_con**2) - 4*(a**2)))/2 #units m, kerr+ radius \n",
    "    omega_real = (m_odd * np.pi /(2 * r_s * n_ref)) * c   #units 1/m --> 1/s\n",
    "    omega_im = - (1/r_s) * (1/(n_ref**2)) * c\n",
    "    \n",
    "    tau = 1/omega_im\n",
    "    ts = 1/omega_real \n",
    "    \n",
    "    amplitude = (g_s**4) * A\n",
    "    \n",
    "    print(\"Q freq is {}\".format(omega_real/(2*np.pi)))\n",
    "    print(\"Q tau is {}\".format(tau))\n",
    "    \n",
    "    return {'omega_real_Q': omega_real, 'omega_img_Q': omega_im,\n",
    "            'tau_Q': tau, 'ts_Q': ts, 'amplitude_Q': amplitude, 'freq_Q': (omega_real/(2*np.pi)),\n",
    "           'rs_Q': r_s}"
   ]
  },
  {
   "cell_type": "code",
   "execution_count": 110,
   "metadata": {},
   "outputs": [],
   "source": [
    "def create_GR_values(s, l, m, n, a, M):\n",
    "\n",
    "    \"\"\"\n",
    "    grabs GR values to compare to quantum values\n",
    "    assumes M in units Msun\n",
    "    converts from 1/m --> 1/s for angular frequency using GR conversion\n",
    "    \n",
    "    returns dictionary of GR tau and GR real omega\n",
    "    outputs tau as a negative number\n",
    "    \n",
    "    \"\"\"\n",
    "    \n",
    "    c = 3e8\n",
    "    G = 6.67e-11\n",
    "    Msun = 1.989e30\n",
    "    conversion_w = (c**3)/(G * M * Msun)\n",
    "    \n",
    "    grav = qnm.modes_cache(s=s,l=l,m=m,n=n)\n",
    "    omega_GR, _, _ = grav(a=a)\n",
    "    \n",
    "    omega_real_GR = omega_GR.real * conversion_w\n",
    "    omega_im_GR = omega_GR.imag * conversion_w\n",
    "    tau_GR = 1/omega_im_GR\n",
    "    \n",
    "    print(\"GR freq is {}\".format(omega_real_GR/(2*np.pi)))\n",
    "    print(\"GR tau is {}\".format(tau_GR))\n",
    "    \n",
    "    return {'tau': tau_GR, 'omega_real_GR': omega_real_GR}"
   ]
  },
  {
   "cell_type": "code",
   "execution_count": 111,
   "metadata": {},
   "outputs": [
    {
     "name": "stdout",
     "output_type": "stream",
     "text": [
      "GR freq is 345.02823388207537\n",
      "GR tau is -0.003040841645301787\n",
      "Q freq is 101.75907521581921\n",
      "Q tau is -0.012283916666389656\n"
     ]
    }
   ],
   "source": [
    "s=2\n",
    "l=2\n",
    "m=2\n",
    "n=0\n",
    "a=0.7\n",
    "M=50\n",
    "t0=0\n",
    "\n",
    "A = 5e-16\n",
    "\n",
    "GR_values = create_GR_values(2, l , m, n, a, M)\n",
    "Q_values = create_bru_values(1, 0, M, a, g_2s, A)\n",
    "\n",
    "#create fractional for each term\n",
    "\n",
    "w = GR_values['omega_real_GR']\n",
    "w_q = Q_values['omega_real_Q']\n",
    "dw = np.abs(w - w_q)\n",
    "frac_dw = dw/w\n",
    "\n",
    "phi = 0\n",
    "dphi = 0\n",
    "\n",
    "tau = GR_values['tau']\n",
    "tau_q = Q_values['tau_Q']\n",
    "dtau = np.abs(tau-tau_q)\n",
    "frac_dtau = np.abs(dtau/tau)\n",
    "\n",
    "A_q = Q_values['amplitude_Q']\n",
    "dA = np.abs(A-A_q)\n",
    "frac_dA = dA/A\n",
    "\n",
    "ts = Q_values['ts_Q']\n",
    "\n",
    "duration = 1.0\n",
    "sampling_frequency = 4096\n",
    "outdir = 'outdir'\n",
    "label = 'shift_220_M50_frac'"
   ]
  },
  {
   "cell_type": "code",
   "execution_count": 112,
   "metadata": {},
   "outputs": [],
   "source": [
    "#parameters from above\n",
    "injection_parameters = dict(frac_dw=frac_dw, frac_dtau=frac_dtau, \n",
    "                            dphi=dphi, A=A, w=w, t0=0, phi=0, tau=tau,\n",
    "                            geocent_time=0, ra=0, dec=0, psi=0, ts=ts) "
   ]
  },
  {
   "cell_type": "code",
   "execution_count": 113,
   "metadata": {},
   "outputs": [],
   "source": [
    "#using model with just stringy mode\n",
    "waveform = bilby.gw.waveform_generator.WaveformGenerator(\n",
    "    duration=duration, sampling_frequency=sampling_frequency,\n",
    "    time_domain_source_model=frac_shift_1,\n",
    "    start_time=injection_parameters['geocent_time']-ts)"
   ]
  },
  {
   "cell_type": "code",
   "execution_count": 114,
   "metadata": {},
   "outputs": [],
   "source": [
    "times = waveform.time_array\n",
    "wave = frac_shift_1(times, **injection_parameters)['plus']"
   ]
  },
  {
   "cell_type": "code",
   "execution_count": 121,
   "metadata": {},
   "outputs": [
    {
     "data": {
      "text/plain": [
       "(0, 0.1)"
      ]
     },
     "execution_count": 121,
     "metadata": {},
     "output_type": "execute_result"
    },
    {
     "data": {
      "image/png": "[encoded data removed]",
      "text/plain": [
       "<Figure size 432x288 with 1 Axes>"
      ]
     },
     "metadata": {
      "needs_background": "light"
     },
     "output_type": "display_data"
    },
    {
     "name": "stdout",
     "output_type": "stream",
     "text": [
      "\n",
      "639it [00:21, 87.36it/s, bound:0 nc:6 ncall:1793 eff:35.6% logz-ratio=-inf+/-nan dlogz:inf>0.10]\u001b[A"
     ]
    }
   ],
   "source": [
    "plt.plot(times, wave)\n",
    "plt.xlim(0,0.1)"
   ]
  },
  {
   "cell_type": "code",
   "execution_count": 116,
   "metadata": {},
   "outputs": [
    {
     "name": "stderr",
     "output_type": "stream",
     "text": [
      "/Users/zohaggard/anaconda2/envs/igwn-py37/lib/python3.7/site-packages/bilby/gw/detector/psd.py:356: RuntimeWarning: invalid value encountered in multiply\n",
      "  frequency_domain_strain = self.__power_spectral_density_interpolated(frequencies) ** 0.5 * white_noise\n",
      "15:27 bilby INFO    : Injected signal in H1:\n",
      "15:27 bilby INFO    :   optimal SNR = 5621160.24\n",
      "15:27 bilby INFO    :   matched filter SNR = 5621159.25-0.10j\n",
      "15:27 bilby INFO    :   frac_dw = 0.7050702950570744\n",
      "15:27 bilby INFO    :   frac_dtau = 3.039643657659307\n",
      "15:27 bilby INFO    :   dphi = 0\n",
      "15:27 bilby INFO    :   A = 5e-16\n",
      "15:27 bilby INFO    :   w = 2167.876329689978\n",
      "15:27 bilby INFO    :   t0 = 0\n",
      "15:27 bilby INFO    :   phi = 0\n",
      "15:27 bilby INFO    :   tau = -0.003040841645301787\n",
      "15:27 bilby INFO    :   geocent_time = 0\n",
      "15:27 bilby INFO    :   ra = 0\n",
      "15:27 bilby INFO    :   dec = 0\n",
      "15:27 bilby INFO    :   psi = 0\n",
      "15:27 bilby INFO    :   ts = 0.0015640368463878643\n",
      "15:27 bilby INFO    : Injected signal in L1:\n",
      "15:27 bilby INFO    :   optimal SNR = 6649010.01\n",
      "15:27 bilby INFO    :   matched filter SNR = 6649009.98-0.22j\n",
      "15:27 bilby INFO    :   frac_dw = 0.7050702950570744\n",
      "15:27 bilby INFO    :   frac_dtau = 3.039643657659307\n",
      "15:27 bilby INFO    :   dphi = 0\n",
      "15:27 bilby INFO    :   A = 5e-16\n",
      "15:27 bilby INFO    :   w = 2167.876329689978\n",
      "15:27 bilby INFO    :   t0 = 0\n",
      "15:27 bilby INFO    :   phi = 0\n",
      "15:27 bilby INFO    :   tau = -0.003040841645301787\n",
      "15:27 bilby INFO    :   geocent_time = 0\n",
      "15:27 bilby INFO    :   ra = 0\n",
      "15:27 bilby INFO    :   dec = 0\n",
      "15:27 bilby INFO    :   psi = 0\n",
      "15:27 bilby INFO    :   ts = 0.0015640368463878643\n"
     ]
    },
    {
     "data": {
      "text/plain": [
       "[{'plus': array([ 4.29442212e-20+0.00000000e+00j,\n",
       "          4.29404997e-20-6.13228394e-22j,\n",
       "          4.29293349e-20-1.22639859e-21j, ...,\n",
       "         -6.57480929e-20-2.51044883e-21j,\n",
       "         -6.57839381e-20-1.25545133e-21j,\n",
       "         -6.57958879e-20+0.00000000e+00j]),\n",
       "  'cross': array([1.34368983e-19+0.00000000e+00j,\n",
       "         1.34343211e-19-2.65139333e-21j,\n",
       "         1.34265903e-19-5.30180055e-21j, ...,\n",
       "         1.85979531e-20+7.62970240e-22j,\n",
       "         1.86096140e-20+3.81563862e-22j,\n",
       "         1.86135015e-20+0.00000000e+00j])},\n",
       " {'plus': array([ 4.29442212e-20+0.00000000e+00j,\n",
       "          4.29404997e-20-6.13228394e-22j,\n",
       "          4.29293349e-20-1.22639859e-21j, ...,\n",
       "         -6.57480929e-20-2.51044883e-21j,\n",
       "         -6.57839381e-20-1.25545133e-21j,\n",
       "         -6.57958879e-20+0.00000000e+00j]),\n",
       "  'cross': array([1.34368983e-19+0.00000000e+00j,\n",
       "         1.34343211e-19-2.65139333e-21j,\n",
       "         1.34265903e-19-5.30180055e-21j, ...,\n",
       "         1.85979531e-20+7.62970240e-22j,\n",
       "         1.86096140e-20+3.81563862e-22j,\n",
       "         1.86135015e-20+0.00000000e+00j])}]"
      ]
     },
     "execution_count": 116,
     "metadata": {},
     "output_type": "execute_result"
    }
   ],
   "source": [
    "ifos = bilby.gw.detector.InterferometerList(['H1', 'L1'])\n",
    "ifos.set_strain_data_from_power_spectral_densities(\n",
    "    sampling_frequency=sampling_frequency, duration=duration,\n",
    "    start_time=injection_parameters['geocent_time']-ts)\n",
    "\n",
    "ifos.inject_signal(waveform_generator=waveform,\n",
    "                   parameters=injection_parameters)"
   ]
  },
  {
   "cell_type": "code",
   "execution_count": 117,
   "metadata": {},
   "outputs": [],
   "source": [
    "#create priors\n",
    "prior = injection_parameters.copy()\n",
    "\n",
    "#prior['tau'] = bilby.core.prior.Uniform(-0.1, -0.0001, r'damping time', unit='$s$')\n",
    "prior['frac_dtau'] = bilby.core.prior.Uniform(1, 50, r'fraction damping time')\n",
    "\n",
    "#prior['w'] = bilby.core.prior.Uniform(0, 3000, r'omega', unit='$rad/sec$')\n",
    "prior['frac_dw'] = bilby.core.prior.Uniform(0.1, 1, r'fraction omega')\n",
    "\n",
    "prior['ts'] = bilby.core.prior.Uniform(0.005, 0.01, r'start time')"
   ]
  },
  {
   "cell_type": "code",
   "execution_count": 118,
   "metadata": {},
   "outputs": [],
   "source": [
    "likelihood = bilby.gw.GravitationalWaveTransient(\n",
    "    interferometers=ifos, waveform_generator=waveform)"
   ]
  },
  {
   "cell_type": "code",
   "execution_count": 119,
   "metadata": {},
   "outputs": [
    {
     "name": "stderr",
     "output_type": "stream",
     "text": [
      "15:27 bilby INFO    : Running for label 'shift_220_M50_frac', output will be saved to 'outdir'\n",
      "15:27 bilby INFO    : Using LAL version Branch: None;Tag: lal-v6.22.0;Id: 38829b72bfb5f26391b9866d286dd77db7942dd1;;Builder: Duncan Macleod <duncan.macleod@ligo.org>;Repository status: CLEAN: All modifications committed\n",
      "15:27 bilby INFO    : Search parameters:\n",
      "15:27 bilby INFO    :   frac_dw = Uniform(minimum=0.1, maximum=1, name='fraction omega', latex_label='fraction omega', unit=None, boundary=None)\n",
      "15:27 bilby INFO    :   frac_dtau = Uniform(minimum=1, maximum=50, name='fraction damping time', latex_label='fraction damping time', unit=None, boundary=None)\n",
      "15:27 bilby INFO    :   ts = Uniform(minimum=0.005, maximum=0.01, name='start time', latex_label='start time', unit=None, boundary=None)\n",
      "15:27 bilby INFO    :   dphi = 0\n",
      "15:27 bilby INFO    :   A = 5e-16\n",
      "15:27 bilby INFO    :   w = 2167.876329689978\n",
      "15:27 bilby INFO    :   t0 = 0\n",
      "15:27 bilby INFO    :   phi = 0\n",
      "15:27 bilby INFO    :   tau = -0.003040841645301787\n",
      "15:27 bilby INFO    :   geocent_time = 0\n",
      "15:27 bilby INFO    :   ra = 0\n",
      "15:27 bilby INFO    :   dec = 0\n",
      "15:27 bilby INFO    :   psi = 0\n",
      "15:27 bilby INFO    : Single likelihood evaluation took 1.498e-03 s\n"
     ]
    },
    {
     "name": "stdout",
     "output_type": "stream",
     "text": [
      "\n",
      "0it [00:00, ?it/s]\u001b[A"
     ]
    },
    {
     "name": "stderr",
     "output_type": "stream",
     "text": [
      "15:27 bilby INFO    : Using sampler Dynesty with kwargs {'bound': 'multi', 'sample': 'rwalk', 'verbose': True, 'periodic': None, 'reflective': None, 'check_point_delta_t': 600, 'nlive': 500, 'first_update': None, 'walks': 10, 'npdim': None, 'rstate': None, 'queue_size': None, 'pool': None, 'use_pool': None, 'live_points': None, 'logl_args': None, 'logl_kwargs': None, 'ptform_args': None, 'ptform_kwargs': None, 'enlarge': 1.5, 'bootstrap': None, 'vol_dec': 0.5, 'vol_check': 8.0, 'facc': 0.2, 'slices': 5, 'update_interval': 300, 'print_func': <bound method Dynesty._print_func of <bilby.core.sampler.dynesty.Dynesty object at 0x12667e090>>, 'dlogz': 0.1, 'maxiter': None, 'maxcall': None, 'logl_max': inf, 'add_live': True, 'print_progress': True, 'save_bounds': False, 'n_effective': None, 'maxmcmc': 5000, 'nact': 5}\n",
      "15:27 bilby INFO    : Checkpoint every n_check_point = 400000\n",
      "15:27 bilby INFO    : Using dynesty version 1.0.1\n",
      "15:27 bilby INFO    : Using the bilby-implemented rwalk sample method with ACT estimated walks\n"
     ]
    },
    {
     "name": "stdout",
     "output_type": "stream",
     "text": [
      "\n",
      "1it [00:01,  1.60s/it, bound:0 nc:1 ncall:501 eff:0.2% logz-ratio=-inf+/-nan dlogz:inf>0.10]\u001b[A\n",
      "78it [00:01,  1.12s/it, bound:0 nc:1 ncall:581 eff:13.4% logz-ratio=-inf+/-nan dlogz:inf>0.10]\u001b[A\n",
      "131it [00:01,  1.27it/s, bound:0 nc:1 ncall:646 eff:20.3% logz-ratio=-inf+/-nan dlogz:inf>0.10]\u001b[A\n",
      "177it [00:01,  1.81it/s, bound:0 nc:1 ncall:704 eff:25.1% logz-ratio=-inf+/-nan dlogz:inf>0.10]\u001b[A\n",
      "225it [00:02,  2.59it/s, bound:0 nc:3 ncall:768 eff:29.3% logz-ratio=-inf+/-nan dlogz:inf>0.10]\u001b[A\n",
      "265it [00:02,  3.68it/s, bound:0 nc:1 ncall:830 eff:31.9% logz-ratio=-inf+/-nan dlogz:inf>0.10]\u001b[A\n",
      "305it [00:02,  5.24it/s, bound:0 nc:2 ncall:904 eff:33.7% logz-ratio=-inf+/-nan dlogz:inf>0.10]\u001b[A\n",
      "343it [00:02,  7.43it/s, bound:0 nc:1 ncall:975 eff:35.2% logz-ratio=-inf+/-nan dlogz:inf>0.10]\u001b[A\n",
      "380it [00:02, 10.53it/s, bound:0 nc:2 ncall:1038 eff:36.6% logz-ratio=-inf+/-nan dlogz:inf>0.10]\u001b[A\n",
      "417it [00:02, 14.83it/s, bound:0 nc:1 ncall:1114 eff:37.4% logz-ratio=-inf+/-nan dlogz:inf>0.10]\u001b[A\n",
      "454it [00:02, 20.83it/s, bound:0 nc:1 ncall:1200 eff:37.8% logz-ratio=-inf+/-nan dlogz:inf>0.10]\u001b[A\n",
      "491it [00:02, 29.05it/s, bound:0 nc:2 ncall:1286 eff:38.2% logz-ratio=-inf+/-nan dlogz:inf>0.10]\u001b[A\n",
      "528it [00:02, 39.62it/s, bound:0 nc:1 ncall:1406 eff:37.6% logz-ratio=-inf+/-nan dlogz:inf>0.10]\u001b[A\n",
      "562it [00:03, 53.06it/s, bound:0 nc:1 ncall:1505 eff:37.3% logz-ratio=-inf+/-nan dlogz:inf>0.10]\u001b[A\n",
      "593it [00:03, 67.98it/s, bound:0 nc:1 ncall:1621 eff:36.6% logz-ratio=-inf+/-nan dlogz:inf>0.10]\u001b[A\n",
      "621it [00:03, 87.36it/s, bound:0 nc:2 ncall:1710 eff:36.3% logz-ratio=-inf+/-nan dlogz:inf>0.10]\u001b[A"
     ]
    },
    {
     "name": "stderr",
     "output_type": "stream",
     "text": [
      "15:27 bilby WARNING : Run terminated with signal 2\n",
      "15:27 bilby INFO    : Writing checkpoint file outdir/shift_220_M50_frac_resume.pickle\n"
     ]
    },
    {
     "name": "stdout",
     "output_type": "stream",
     "text": [
      "\n",
      "Exception while calling loglikelihood function:\n",
      "  params: [7.26721988e-01 1.41827618e+01 6.32728675e-03]\n",
      "  args: []\n",
      "  kwargs: {}\n",
      "  exception:\n"
     ]
    },
    {
     "name": "stderr",
     "output_type": "stream",
     "text": [
      "Traceback (most recent call last):\n",
      "  File \"/Users/zohaggard/anaconda2/envs/igwn-py37/lib/python3.7/site-packages/dynesty/dynesty.py\", line 939, in __call__\n",
      "    return self.func(x, *self.args, **self.kwargs)\n",
      "  File \"/Users/zohaggard/anaconda2/envs/igwn-py37/lib/python3.7/site-packages/bilby/core/sampler/base_sampler.py\", line 591, in log_likelihood\n",
      "    return Sampler.log_likelihood(self, theta)\n",
      "  File \"/Users/zohaggard/anaconda2/envs/igwn-py37/lib/python3.7/site-packages/bilby/core/sampler/base_sampler.py\", line 389, in log_likelihood\n",
      "    return self.likelihood.log_likelihood_ratio()\n",
      "  File \"/Users/zohaggard/anaconda2/envs/igwn-py37/lib/python3.7/site-packages/bilby/gw/likelihood.py\", line 265, in log_likelihood_ratio\n",
      "    interferometer=interferometer)\n",
      "  File \"/Users/zohaggard/anaconda2/envs/igwn-py37/lib/python3.7/site-packages/bilby/gw/likelihood.py\", line 190, in calculate_snrs\n",
      "    d_inner_h = interferometer.inner_product(signal=signal)\n",
      "  File \"/Users/zohaggard/anaconda2/envs/igwn-py37/lib/python3.7/site-packages/bilby/gw/detector/interferometer.py\", line 537, in inner_product\n",
      "    power_spectral_density=self.power_spectral_density_array[self.strain_data.frequency_mask],\n",
      "  File \"/Users/zohaggard/anaconda2/envs/igwn-py37/lib/python3.7/site-packages/bilby/gw/detector/interferometer.py\", line 462, in power_spectral_density_array\n",
      "    self.strain_data.window_factor)\n",
      "  File \"/Users/zohaggard/anaconda2/envs/igwn-py37/lib/python3.7/site-packages/bilby/core/sampler/dynesty.py\", line 416, in write_current_state_and_exit\n",
      "    sys.exit(130)\n",
      "SystemExit: 130\n"
     ]
    },
    {
     "ename": "SystemExit",
     "evalue": "130",
     "output_type": "error",
     "traceback": [
      "An exception has occurred, use %tb to see the full traceback.\n",
      "\u001b[0;31mSystemExit\u001b[0m\u001b[0;31m:\u001b[0m 130\n"
     ]
    },
    {
     "name": "stderr",
     "output_type": "stream",
     "text": [
      "/Users/zohaggard/anaconda2/envs/igwn-py37/lib/python3.7/site-packages/IPython/core/interactiveshell.py:2886: UserWarning: To exit: use 'exit', 'quit', or Ctrl-D.\n",
      "  warn(\"To exit: use 'exit', 'quit', or Ctrl-D.\", stacklevel=1)\n"
     ]
    }
   ],
   "source": [
    "result = bilby.run_sampler(\n",
    "    likelihood=likelihood, priors=prior, sampler='dynesty', npoints=500, walks=10, nact=5,\n",
    "    injection_parameters=injection_parameters, outdir=outdir, label=label, resume=False)"
   ]
  },
  {
   "cell_type": "code",
   "execution_count": null,
   "metadata": {},
   "outputs": [],
   "source": [
    "result.plot_corner()"
   ]
  },
  {
   "cell_type": "code",
   "execution_count": null,
   "metadata": {},
   "outputs": [],
   "source": []
  }
 ],
 "metadata": {
  "kernelspec": {
   "display_name": "igwn-py37",
   "language": "python",
   "name": "igwn-py37"
  },
  "language_info": {
   "codemirror_mode": {
    "name": "ipython",
    "version": 3
   },
   "file_extension": ".py",
   "mimetype": "text/x-python",
   "name": "python",
   "nbconvert_exporter": "python",
   "pygments_lexer": "ipython3",
   "version": "3.7.6"
  }
 },
 "nbformat": 4,
 "nbformat_minor": 2
}
