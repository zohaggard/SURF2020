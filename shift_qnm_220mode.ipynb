{
 "cells": [
  {
   "cell_type": "code",
   "execution_count": 80,
   "metadata": {},
   "outputs": [],
   "source": [
    "import numpy as np\n",
    "import qnm\n",
    "import bilby\n",
    "import matplotlib.pyplot as plt"
   ]
  },
  {
   "cell_type": "code",
   "execution_count": 81,
   "metadata": {},
   "outputs": [],
   "source": [
    "def shift_model(time, ts, tau, tau_q, fo, f_q, phi, phi_q, A, Aq, t0, **kwargs):\n",
    "    \n",
    "    \"\"\" \n",
    "    quantum shift (not fractional)\n",
    "    \n",
    "    \"\"\"\n",
    "    \n",
    "    plus = np.zeros(len(time))\n",
    "    cross = np.zeros(len(time))\n",
    "    \n",
    "    tidxg = time >= t0\n",
    "    tidxq = time >= ts\n",
    "    \n",
    "    GR_part = A*np.exp(-(time[tidxg]-t0)/tau)*np.exp(1j*((time[tidxg]-t0)*2*np.pi*fo) + phi)\n",
    "    \n",
    "    \n",
    "    plus[tidxg] += GR_part.real \n",
    "    \n",
    "    plus[tidxq] += Q_part.real\n",
    "    \n",
    "    return {'plus': plus, 'cross': cross}"
   ]
  },
  {
   "cell_type": "code",
   "execution_count": 82,
   "metadata": {},
   "outputs": [],
   "source": [
    "def frac_shift_1(time, frac_dw, frac_dtau, dphi, A, w, ts, phi, tau, **kwargs):\n",
    "    \n",
    "    \"\"\" \n",
    "    fractional shift: 1 Q mode \n",
    "    \n",
    "    frac_dw, frac_dtau are defined as dw/w (or dtau/tau)\n",
    "    ts is Q mode start time, phi is phase, w is angular freq., tau is damping time (assumed negative)\n",
    "        \n",
    "    outputs plus and cross polarizations as dictionary\n",
    "    \n",
    "    \"\"\"\n",
    "    \n",
    "    wave = np.zeros(len(time), np.complex128)\n",
    "    \n",
    "    tidq = time >= ts\n",
    "    \n",
    "    amplitude = A \n",
    "    omegar_term = w * (1+frac_dw)\n",
    "    time_term_q = (time[tidq] - ts)\n",
    "    phi_term = phi + dphi\n",
    "    tau_term = tau * (1+frac_dtau)\n",
    "    \n",
    "    wave[tidq] = amplitude * np.exp(1j*(omegar_term*time_term_q)) * np.exp(1j*(phi_term)) * np.exp(time_term_q/(tau*frac_dtau))\n",
    "    \n",
    "    \n",
    "    return {'plus': wave.real, 'cross': wave.imag}"
   ]
  },
  {
   "cell_type": "code",
   "execution_count": 83,
   "metadata": {},
   "outputs": [],
   "source": [
    "def frac_shift_2(time, frac_dw, frac_dtau, dphi, A, t0, w, ts, phi, tau, **kwargs):\n",
    "    \n",
    "    \"\"\" fractional shift: superposition of 1 GR mode and 1 Q mode \"\"\"\n",
    "    \n",
    "    wave = np.zeros(len(time), np.complex128)\n",
    "    \n",
    "    tidq = time >= ts\n",
    "    tidg = time >= t0\n",
    "    \n",
    "    amplitude = A \n",
    "    omegar_term = w * (1+frac_dw)\n",
    "    time_term_q = (time[tidq] - ts)\n",
    "    time_term_g = (time[tidg] - t0)\n",
    "    phi_term = phi + dphi\n",
    "    tau_term = tau * (1+frac_dtau)\n",
    "    \n",
    "    wave[tidq] += amplitude * np.exp(1j*(omegar_term*time_term_q)) * np.exp(1j*(phi_term)) * np.exp(time_term_q/(tau*frac_dtau))\n",
    "    wave[tidg] += amplitude * np.exp(1j*(w*time_term_g)) * np.exp(1j*(phi)) * np.exp(time_term_g/(tau))\n",
    "    \n",
    "    return {'plus': wave.real, 'cross': wave.imag}"
   ]
  },
  {
   "cell_type": "code",
   "execution_count": 95,
   "metadata": {},
   "outputs": [],
   "source": [
    "def create_bru_values(m_odd, em, M, a, n_ref, A):\n",
    "    \n",
    "    \"\"\" \n",
    "    m_odd is odd integer, g_s is string coupling (GR == 1), em is 2,\n",
    "    M is total mass, a is dimensionless spin, and amplitude_qnm is \n",
    "    the amplitude of the mode of interest \n",
    "    \n",
    "    returns dictionary: amplitude (quantum, g_s version), omega_real, tau, ts, freq\n",
    "    outputs tau as a negative number\n",
    "    \n",
    "    a refractive index of 1 implies no leakage, AND does not work in this limit\n",
    "        only the subrelativistic (slow) modes can escape (n>>1) based on boundary conditions \n",
    "        (i.e. this has to be a black hole copycat)\n",
    "        \n",
    "        something to consider is that g_s cannot 0 (which is GR) in this model, otherwise there will be \n",
    "        no leakage and coupling to outside the \"event horizon,\" allowing stuff to escape\n",
    "        \n",
    "        this implies that g_s would be between ~0.1 and also much less than 1\n",
    "        it's thought that g_s cannot differ much from GR predictions (so coupling to other\n",
    "        stringy matter should be small, nonzero)\n",
    "         \n",
    "    \"\"\"\n",
    "    g_s = np.sqrt(g_2s)\n",
    "    c = 3e8\n",
    "    G = 6.67e-11\n",
    "    Msun = 1.989e30\n",
    "    n_ref = 3\n",
    "    \n",
    "    conversion_w = (c**3)/(G * M * Msun)\n",
    "    R_con = (2 * G * M * Msun) / (c**2)\n",
    "    \n",
    "    r_s = (R_con + np.sqrt((R_con**2) - 4*(a**2)))/2 #units m, kerr+ radius \n",
    "    omega_real = (m_odd * np.pi /(2 * r_s * n_ref)) * c   #units 1/m --> 1/s\n",
    "    omega_im = - (1/r_s) * (1/(n_ref**2)) * c\n",
    "    \n",
    "    tau = 1/omega_im\n",
    "    ts = 1/omega_real \n",
    "    \n",
    "    amplitude = (g_s**4) * A\n",
    "    \n",
    "    print(\"Q freq is {}\".format(omega_real/(2*np.pi)))\n",
    "    print(\"Q tau is {}\".format(tau))\n",
    "    \n",
    "    return {'omega_real_Q': omega_real, 'omega_img_Q': omega_im,\n",
    "            'tau_Q': tau, 'ts_Q': ts, 'amplitude_Q': amplitude, 'freq_Q': (omega_real/(2*np.pi)),\n",
    "           'rs_Q': r_s}"
   ]
  },
  {
   "cell_type": "code",
   "execution_count": 96,
   "metadata": {},
   "outputs": [],
   "source": [
    "def create_GR_values(s, l, m, n, a, M):\n",
    "\n",
    "    \"\"\"\n",
    "    grabs GR values to compare to quantum values\n",
    "    assumes M in units Msun\n",
    "    converts from 1/m --> 1/s for angular frequency using GR conversion\n",
    "    \n",
    "    returns dictionary of GR tau and GR real omega\n",
    "    outputs tau as a negative number\n",
    "    \n",
    "    \"\"\"\n",
    "    \n",
    "    c = 3e8\n",
    "    G = 6.67e-11\n",
    "    Msun = 1.989e30\n",
    "    conversion_w = (c**3)/(G * M * Msun)\n",
    "    \n",
    "    grav = qnm.modes_cache(s=s,l=l,m=m,n=n)\n",
    "    omega_GR, _, _ = grav(a=a)\n",
    "    \n",
    "    omega_real_GR = omega_GR.real * conversion_w\n",
    "    omega_im_GR = omega_GR.imag * conversion_w\n",
    "    tau_GR = 1/omega_im_GR\n",
    "    \n",
    "    print(\"GR freq is {}\".format(omega_real_GR/(2*np.pi)))\n",
    "    print(\"GR tau is {}\".format(tau_GR))\n",
    "    \n",
    "    return {'tau': tau_GR, 'omega_real_GR': omega_real_GR}"
   ]
  },
  {
   "cell_type": "code",
   "execution_count": 97,
   "metadata": {},
   "outputs": [
    {
     "name": "stdout",
     "output_type": "stream",
     "text": [
      "GR freq is 345.02823388207537\n",
      "GR tau is -0.003040841645301787\n",
      "Q freq is 169.598458693032\n",
      "Q tau is -0.004422209999900277\n"
     ]
    }
   ],
   "source": [
    "s=2\n",
    "l=2\n",
    "m=2\n",
    "n=0\n",
    "a=0.7\n",
    "M=50\n",
    "t0=0\n",
    "\n",
    "A = 5e-16\n",
    "\n",
    "GR_values = create_GR_values(2, l , m, n, a, M)\n",
    "Q_values = create_bru_values(1, 0, M, a, g_2s, A)\n",
    "\n",
    "#create fractional for each term\n",
    "\n",
    "w = GR_values['omega_real_GR']\n",
    "w_q = Q_values['omega_real_Q']\n",
    "dw = np.abs(w - w_q)\n",
    "frac_dw = dw/w\n",
    "\n",
    "phi = 0\n",
    "dphi = 0\n",
    "\n",
    "tau = GR_values['tau']\n",
    "tau_q = Q_values['tau_Q']\n",
    "dtau = np.abs(tau-tau_q)\n",
    "frac_dtau = np.abs(dtau/tau)\n",
    "\n",
    "A_q = Q_values['amplitude_Q']\n",
    "dA = np.abs(A-A_q)\n",
    "frac_dA = dA/A\n",
    "\n",
    "ts = Q_values['ts_Q']\n",
    "\n",
    "duration = 1.0\n",
    "sampling_frequency = 4096\n",
    "outdir = 'outdir'\n",
    "label = 'shift_220_M50_frac'"
   ]
  },
  {
   "cell_type": "code",
   "execution_count": 98,
   "metadata": {},
   "outputs": [],
   "source": [
    "#parameters from above\n",
    "injection_parameters = dict(frac_dw=frac_dw, frac_dtau=frac_dtau, \n",
    "                            dphi=dphi, A=A, w=w, t0=0, phi=0, tau=tau,\n",
    "                            geocent_time=0, ra=0, dec=0, psi=0, ts=ts) "
   ]
  },
  {
   "cell_type": "code",
   "execution_count": 99,
   "metadata": {},
   "outputs": [],
   "source": [
    "waveform = bilby.gw.waveform_generator.WaveformGenerator(\n",
    "    duration=duration, sampling_frequency=sampling_frequency,\n",
    "    time_domain_source_model=frac_shift_1,\n",
    "    start_time=injection_parameters['geocent_time']-ts)"
   ]
  },
  {
   "cell_type": "code",
   "execution_count": 100,
   "metadata": {},
   "outputs": [],
   "source": [
    "times = waveform.time_array\n",
    "wave = frac_shift_1(times, **injection_parameters)['plus']"
   ]
  },
  {
   "cell_type": "code",
   "execution_count": 101,
   "metadata": {},
   "outputs": [
    {
     "data": {
      "text/plain": [
       "(0, 0.02)"
      ]
     },
     "execution_count": 101,
     "metadata": {},
     "output_type": "execute_result"
    },
    {
     "data": {
      "image/png": "[encoded data removed]",
      "text/plain": [
       "<Figure size 432x288 with 1 Axes>"
      ]
     },
     "metadata": {
      "needs_background": "light"
     },
     "output_type": "display_data"
    }
   ],
   "source": [
    "plt.plot(times, wave)\n",
    "plt.xlim(0,0.02)"
   ]
  },
  {
   "cell_type": "code",
   "execution_count": 102,
   "metadata": {},
   "outputs": [
    {
     "name": "stderr",
     "output_type": "stream",
     "text": [
      "/Users/zohaggard/anaconda2/envs/igwn-py37/lib/python3.7/site-packages/bilby/gw/detector/psd.py:356: RuntimeWarning: invalid value encountered in multiply\n",
      "  frequency_domain_strain = self.__power_spectral_density_interpolated(frequencies) ** 0.5 * white_noise\n",
      "15:09 bilby INFO    : Injected signal in H1:\n",
      "15:09 bilby INFO    :   optimal SNR = 1963512.69\n",
      "15:09 bilby INFO    :   matched filter SNR = 1963511.99-1.20j\n",
      "15:09 bilby INFO    :   frac_dw = 0.5084504917617907\n",
      "15:09 bilby INFO    :   frac_dtau = 0.4542717167573508\n",
      "15:09 bilby INFO    :   dphi = 0\n",
      "15:09 bilby INFO    :   A = 5e-16\n",
      "15:09 bilby INFO    :   w = 2167.876329689978\n",
      "15:09 bilby INFO    :   t0 = 0\n",
      "15:09 bilby INFO    :   phi = 0\n",
      "15:09 bilby INFO    :   tau = -0.003040841645301787\n",
      "15:09 bilby INFO    :   geocent_time = 0\n",
      "15:09 bilby INFO    :   ra = 0\n",
      "15:09 bilby INFO    :   dec = 0\n",
      "15:09 bilby INFO    :   psi = 0\n",
      "15:09 bilby INFO    :   ts = 0.0009384221078327185\n",
      "15:09 bilby INFO    : Injected signal in L1:\n",
      "15:09 bilby INFO    :   optimal SNR = 2318538.99\n",
      "15:09 bilby INFO    :   matched filter SNR = 2318539.26+0.69j\n",
      "15:09 bilby INFO    :   frac_dw = 0.5084504917617907\n",
      "15:09 bilby INFO    :   frac_dtau = 0.4542717167573508\n",
      "15:09 bilby INFO    :   dphi = 0\n",
      "15:09 bilby INFO    :   A = 5e-16\n",
      "15:09 bilby INFO    :   w = 2167.876329689978\n",
      "15:09 bilby INFO    :   t0 = 0\n",
      "15:09 bilby INFO    :   phi = 0\n",
      "15:09 bilby INFO    :   tau = -0.003040841645301787\n",
      "15:09 bilby INFO    :   geocent_time = 0\n",
      "15:09 bilby INFO    :   ra = 0\n",
      "15:09 bilby INFO    :   dec = 0\n",
      "15:09 bilby INFO    :   psi = 0\n",
      "15:09 bilby INFO    :   ts = 0.0009384221078327185\n"
     ]
    },
    {
     "data": {
      "text/plain": [
       "[{'plus': array([5.51229595e-20+0.00000000e+00j,\n",
       "         5.51223810e-20-4.01345327e-22j,\n",
       "         5.51206448e-20-8.02722950e-22j, ...,\n",
       "         6.77129916e-20+1.56419566e-21j,\n",
       "         6.77264590e-20+7.82149043e-22j,\n",
       "         6.77309483e-20+0.00000000e+00j]),\n",
       "  'cross': array([ 1.48370371e-19+0.00000000e+00j,\n",
       "          1.48359102e-19-1.86584391e-21j,\n",
       "          1.48325295e-19-3.73143009e-21j, ...,\n",
       "         -7.65410314e-21-2.20806768e-22j,\n",
       "         -7.65639509e-21-1.10413623e-22j,\n",
       "         -7.65715911e-21+0.00000000e+00j])},\n",
       " {'plus': array([5.51229595e-20+0.00000000e+00j,\n",
       "         5.51223810e-20-4.01345327e-22j,\n",
       "         5.51206448e-20-8.02722950e-22j, ...,\n",
       "         6.77129916e-20+1.56419566e-21j,\n",
       "         6.77264590e-20+7.82149043e-22j,\n",
       "         6.77309483e-20+0.00000000e+00j]),\n",
       "  'cross': array([ 1.48370371e-19+0.00000000e+00j,\n",
       "          1.48359102e-19-1.86584391e-21j,\n",
       "          1.48325295e-19-3.73143009e-21j, ...,\n",
       "         -7.65410314e-21-2.20806768e-22j,\n",
       "         -7.65639509e-21-1.10413623e-22j,\n",
       "         -7.65715911e-21+0.00000000e+00j])}]"
      ]
     },
     "execution_count": 102,
     "metadata": {},
     "output_type": "execute_result"
    }
   ],
   "source": [
    "ifos = bilby.gw.detector.InterferometerList(['H1', 'L1'])\n",
    "ifos.set_strain_data_from_power_spectral_densities(\n",
    "    sampling_frequency=sampling_frequency, duration=duration,\n",
    "    start_time=injection_parameters['geocent_time']-ts)\n",
    "\n",
    "ifos.inject_signal(waveform_generator=waveform,\n",
    "                   parameters=injection_parameters)"
   ]
  },
  {
   "cell_type": "code",
   "execution_count": 103,
   "metadata": {},
   "outputs": [],
   "source": [
    "#create priors\n",
    "prior = injection_parameters.copy()\n",
    "\n",
    "#prior['tau'] = bilby.core.prior.Uniform(-0.1, -0.0001, r'damping time', unit='$s$')\n",
    "prior['frac_dtau'] = bilby.core.prior.Uniform(1, 50, r'fraction damping time')\n",
    "\n",
    "#prior['w'] = bilby.core.prior.Uniform(0, 3000, r'omega', unit='$rad/sec$')\n",
    "prior['frac_dw'] = bilby.core.prior.Uniform(0.1, 1, r'fraction omega')\n",
    "\n",
    "prior['ts'] = bilby.core.prior.Uniform(0.005, 0.01, r'start time')"
   ]
  },
  {
   "cell_type": "code",
   "execution_count": 104,
   "metadata": {},
   "outputs": [],
   "source": [
    "likelihood = bilby.gw.GravitationalWaveTransient(\n",
    "    interferometers=ifos, waveform_generator=waveform)"
   ]
  },
  {
   "cell_type": "code",
   "execution_count": 105,
   "metadata": {},
   "outputs": [
    {
     "name": "stderr",
     "output_type": "stream",
     "text": [
      "15:09 bilby INFO    : Running for label 'shift_220_M50_frac', output will be saved to 'outdir'\n",
      "15:09 bilby INFO    : Using LAL version Branch: None;Tag: lal-v6.22.0;Id: 38829b72bfb5f26391b9866d286dd77db7942dd1;;Builder: Duncan Macleod <duncan.macleod@ligo.org>;Repository status: CLEAN: All modifications committed\n",
      "15:09 bilby INFO    : Search parameters:\n",
      "15:09 bilby INFO    :   frac_dw = Uniform(minimum=0.1, maximum=1, name='fraction omega', latex_label='fraction omega', unit=None, boundary=None)\n",
      "15:09 bilby INFO    :   frac_dtau = Uniform(minimum=1, maximum=50, name='fraction damping time', latex_label='fraction damping time', unit=None, boundary=None)\n",
      "15:09 bilby INFO    :   ts = Uniform(minimum=0.005, maximum=0.01, name='start time', latex_label='start time', unit=None, boundary=None)\n",
      "15:09 bilby INFO    :   dphi = 0\n",
      "15:09 bilby INFO    :   A = 5e-16\n",
      "15:09 bilby INFO    :   w = 2167.876329689978\n",
      "15:09 bilby INFO    :   t0 = 0\n",
      "15:09 bilby INFO    :   phi = 0\n",
      "15:09 bilby INFO    :   tau = -0.003040841645301787\n",
      "15:09 bilby INFO    :   geocent_time = 0\n",
      "15:09 bilby INFO    :   ra = 0\n",
      "15:09 bilby INFO    :   dec = 0\n",
      "15:09 bilby INFO    :   psi = 0\n",
      "15:09 bilby INFO    : Single likelihood evaluation took 1.447e-03 s\n"
     ]
    },
    {
     "name": "stdout",
     "output_type": "stream",
     "text": [
      "\r",
      "0it [00:00, ?it/s]"
     ]
    },
    {
     "name": "stderr",
     "output_type": "stream",
     "text": [
      "15:09 bilby INFO    : Using sampler Dynesty with kwargs {'bound': 'multi', 'sample': 'rwalk', 'verbose': True, 'periodic': None, 'reflective': None, 'check_point_delta_t': 600, 'nlive': 500, 'first_update': None, 'walks': 10, 'npdim': None, 'rstate': None, 'queue_size': None, 'pool': None, 'use_pool': None, 'live_points': None, 'logl_args': None, 'logl_kwargs': None, 'ptform_args': None, 'ptform_kwargs': None, 'enlarge': 1.5, 'bootstrap': None, 'vol_dec': 0.5, 'vol_check': 8.0, 'facc': 0.2, 'slices': 5, 'update_interval': 300, 'print_func': <bound method Dynesty._print_func of <bilby.core.sampler.dynesty.Dynesty object at 0x11cd9a190>>, 'dlogz': 0.1, 'maxiter': None, 'maxcall': None, 'logl_max': inf, 'add_live': True, 'print_progress': True, 'save_bounds': False, 'n_effective': None, 'maxmcmc': 5000, 'nact': 5}\n",
      "15:09 bilby INFO    : Checkpoint every n_check_point = 400000\n",
      "15:09 bilby INFO    : Using dynesty version 1.0.1\n",
      "15:09 bilby INFO    : Using the bilby-implemented rwalk sample method with ACT estimated walks\n"
     ]
    },
    {
     "name": "stdout",
     "output_type": "stream",
     "text": [
      "1231it [00:07, 71.14it/s, bound:0 nc:4 ncall:5760 eff:21.4% logz-ratio=-inf+/-nan dlogz:inf>0.10]  "
     ]
    },
    {
     "name": "stderr",
     "output_type": "stream",
     "text": [
      "15:09 bilby WARNING : Run terminated with signal 2\n",
      "15:09 bilby INFO    : Writing checkpoint file outdir/shift_220_M50_frac_resume.pickle\n"
     ]
    },
    {
     "name": "stdout",
     "output_type": "stream",
     "text": [
      "\n",
      "Exception while calling prior_transform function:\n",
      "  params: [0.48817097 0.49929192 0.09025822]\n",
      "  args: []\n",
      "  kwargs: {}\n",
      "  exception:\n"
     ]
    },
    {
     "name": "stderr",
     "output_type": "stream",
     "text": [
      "Traceback (most recent call last):\n",
      "  File \"/Users/zohaggard/anaconda2/envs/igwn-py37/lib/python3.7/site-packages/dynesty/dynesty.py\", line 939, in __call__\n",
      "    return self.func(x, *self.args, **self.kwargs)\n",
      "  File \"/Users/zohaggard/anaconda2/envs/igwn-py37/lib/python3.7/site-packages/bilby/core/sampler/dynesty.py\", line 540, in prior_transform\n",
      "    return self.priors.rescale(self._search_parameter_keys, theta)\n",
      "  File \"/Users/zohaggard/anaconda2/envs/igwn-py37/lib/python3.7/site-packages/bilby/core/prior.py\", line 449, in rescale\n",
      "    return list(flatten([self[key].rescale(sample) for key, sample in zip(keys, theta)]))\n",
      "  File \"/Users/zohaggard/anaconda2/envs/igwn-py37/lib/python3.7/site-packages/bilby/core/prior.py\", line 449, in <listcomp>\n",
      "    return list(flatten([self[key].rescale(sample) for key, sample in zip(keys, theta)]))\n",
      "  File \"/Users/zohaggard/anaconda2/envs/igwn-py37/lib/python3.7/site-packages/bilby/core/prior.py\", line 1137, in rescale\n",
      "    self.test_valid_for_rescaling(val)\n",
      "  File \"/Users/zohaggard/anaconda2/envs/igwn-py37/lib/python3.7/site-packages/bilby/core/prior.py\", line 678, in test_valid_for_rescaling\n",
      "    valarray = np.atleast_1d(val)\n",
      "  File \"/Users/zohaggard/anaconda2/envs/igwn-py37/lib/python3.7/site-packages/numpy/core/shape_base.py\", line 67, in atleast_1d\n",
      "    ary = asanyarray(ary)\n",
      "  File \"/Users/zohaggard/anaconda2/envs/igwn-py37/lib/python3.7/site-packages/numpy/core/numeric.py\", line 591, in asanyarray\n",
      "    return array(a, dtype, copy=False, order=order, subok=True)\n",
      "  File \"/Users/zohaggard/anaconda2/envs/igwn-py37/lib/python3.7/site-packages/bilby/core/sampler/dynesty.py\", line 416, in write_current_state_and_exit\n",
      "    sys.exit(130)\n",
      "SystemExit: 130\n"
     ]
    },
    {
     "ename": "SystemExit",
     "evalue": "130",
     "output_type": "error",
     "traceback": [
      "An exception has occurred, use %tb to see the full traceback.\n",
      "\u001b[0;31mSystemExit\u001b[0m\u001b[0;31m:\u001b[0m 130\n"
     ]
    },
    {
     "name": "stderr",
     "output_type": "stream",
     "text": [
      "/Users/zohaggard/anaconda2/envs/igwn-py37/lib/python3.7/site-packages/IPython/core/interactiveshell.py:2886: UserWarning: To exit: use 'exit', 'quit', or Ctrl-D.\n",
      "  warn(\"To exit: use 'exit', 'quit', or Ctrl-D.\", stacklevel=1)\n"
     ]
    },
    {
     "name": "stdout",
     "output_type": "stream",
     "text": [
      "\r",
      "1243it [00:20, 71.14it/s, bound:0 nc:4 ncall:5835 eff:21.3% logz-ratio=-inf+/-nan dlogz:inf>0.10]"
     ]
    }
   ],
   "source": [
    "result = bilby.run_sampler(\n",
    "    likelihood=likelihood, priors=prior, sampler='dynesty', npoints=500, walks=10, nact=5,\n",
    "    injection_parameters=injection_parameters, outdir=outdir, label=label, resume=False)"
   ]
  },
  {
   "cell_type": "code",
   "execution_count": 155,
   "metadata": {},
   "outputs": [
    {
     "data": {
      "image/png": "[encoded data removed]",
      "text/plain": [
       "<Figure size 547.2x547.2 with 9 Axes>"
      ]
     },
     "execution_count": 155,
     "metadata": {},
     "output_type": "execute_result"
    }
   ],
   "source": [
    "result.plot_corner()"
   ]
  },
  {
   "cell_type": "code",
   "execution_count": null,
   "metadata": {},
   "outputs": [],
   "source": []
  }
 ],
 "metadata": {
  "kernelspec": {
   "display_name": "igwn-py37",
   "language": "python",
   "name": "igwn-py37"
  },
  "language_info": {
   "codemirror_mode": {
    "name": "ipython",
    "version": 3
   },
   "file_extension": ".py",
   "mimetype": "text/x-python",
   "name": "python",
   "nbconvert_exporter": "python",
   "pygments_lexer": "ipython3",
   "version": "3.7.6"
  }
 },
 "nbformat": 4,
 "nbformat_minor": 2
}
