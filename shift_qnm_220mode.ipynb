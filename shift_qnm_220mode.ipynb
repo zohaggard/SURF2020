{
 "cells": [
  {
   "cell_type": "code",
   "execution_count": 2,
   "metadata": {},
   "outputs": [],
   "source": [
    "import numpy as np\n",
    "import qnm\n",
    "import bilby\n",
    "import matplotlib.pyplot as plt"
   ]
  },
  {
   "cell_type": "code",
   "execution_count": 3,
   "metadata": {},
   "outputs": [],
   "source": [
    "def shift_model(time, ts, tau, tau_q, fo, f_q, phi, phi_q, A, Aq, t0, **kwargs):\n",
    "    \n",
    "    \"\"\" \n",
    "    \n",
    "    quantum shift (not fractional)\n",
    "    \n",
    "    \n",
    "    \"\"\"\n",
    "    \n",
    "    plus = np.zeros(len(time))\n",
    "    cross = np.zeros(len(time))\n",
    "    \n",
    "    tidxg = time >= t0\n",
    "    tidxq = time >= ts\n",
    "    \n",
    "    GR_part = A*np.exp(-(time[tidxg]-t0)/tau)*np.exp(1j*((time[tidxg]-t0)*2*np.pi*fo) + phi)\n",
    "    \n",
    "    \n",
    "    plus[tidxg] += GR_part.real \n",
    "    \n",
    "    plus[tidxq] += Q_part.real\n",
    "    \n",
    "    return {'plus': plus, 'cross': cross}"
   ]
  },
  {
   "cell_type": "code",
   "execution_count": 21,
   "metadata": {},
   "outputs": [],
   "source": [
    "def frac_shift_1(time, frac_dw, frac_dtau, dphi, A, w, ts, phi, tau, **kwargs):\n",
    "    \n",
    "    \"\"\" \n",
    "    \n",
    "    fractional shift: 1 Q mode \n",
    "    \n",
    "    frac_dw, frac_dtau are defined as dw/w (or dtau/tau)\n",
    "    ts is Q mode start time, phi is phase, w is angular freq., tau is damping time (assumed negative)\n",
    "        \n",
    "    outputs plus and cross polarizations as dictionary\n",
    "    \n",
    "    get Q values from create_bru_dict function\n",
    "    \n",
    "    \"\"\"\n",
    "    \n",
    "    wave = np.zeros(len(time), np.complex128)\n",
    "    \n",
    "    tidq = time >= ts\n",
    "    \n",
    "    amplitude = A\n",
    "    omegar_term = w * (1+frac_dw)\n",
    "    time_term_q = (time[tidq] - ts)\n",
    "    phi_term = phi + dphi\n",
    "    tau_term = tau * (1+frac_dtau)\n",
    "    \n",
    "    wave[tidq] = amplitude * np.exp(1j*(omegar_term*time_term_q)) * np.exp(1j*(phi_term)) * np.exp(time_term_q/(tau*frac_dtau))\n",
    "    \n",
    "    \n",
    "    return {'plus': wave.real, 'cross': wave.imag}"
   ]
  },
  {
   "cell_type": "code",
   "execution_count": 5,
   "metadata": {},
   "outputs": [],
   "source": [
    "def frac_shift_2(time, frac_dw, frac_dtau, dphi, A, t0, w, ts, phi, tau, **kwargs):\n",
    "    \n",
    "    \"\"\" \n",
    "    \n",
    "    fractional shift: superposition of 1 GR mode and 1 Q mode \n",
    "    \n",
    "    get Q values from create_bru_dict function \n",
    "    \n",
    "    get GR values from qnm package\n",
    "    \n",
    "    \"\"\"\n",
    "    \n",
    "    wave = np.zeros(len(time), np.complex128)\n",
    "    \n",
    "    tidq = time >= ts\n",
    "    tidg = time >= t0\n",
    "    \n",
    "    amplitude = A \n",
    "    omegar_term = w * (1+frac_dw)\n",
    "    time_term_q = (time[tidq] - ts)\n",
    "    time_term_g = (time[tidg] - t0)\n",
    "    phi_term = phi + dphi\n",
    "    tau_term = tau * (1+frac_dtau)\n",
    "    \n",
    "    wave[tidq] += amplitude * np.exp(1j*(omegar_term*time_term_q)) * np.exp(1j*(phi_term)) * np.exp(time_term_q/(tau*frac_dtau))\n",
    "    wave[tidg] += amplitude * np.exp(1j*(w*time_term_g)) * np.exp(1j*(phi)) * np.exp(time_term_g/(tau))\n",
    "    \n",
    "    return {'plus': wave.real, 'cross': wave.imag}"
   ]
  },
  {
   "cell_type": "code",
   "execution_count": 6,
   "metadata": {},
   "outputs": [],
   "source": [
    "def create_bru_values(m_odd, em, M, a, n_ref, A):\n",
    "    \n",
    "    \"\"\" \n",
    "    m_odd is odd integer, g_s is string coupling (GR == 1), em is 2,\n",
    "    M is total mass, a is dimensionless spin, and amplitude_qnm is \n",
    "    the amplitude of the mode of interest \n",
    "    \n",
    "    returns dictionary: amplitude (quantum, g_s version), omega_real, tau, ts, freq\n",
    "    outputs tau as a negative number\n",
    "    \n",
    "    a refractive index of 1 implies no leakage, AND does not work in this limit (n ~ 1/g_s)\n",
    "    only the subrelativistic (slow) modes can escape (n>>1) based on boundary conditions \n",
    "    (the boundary conditions being the fact that this is a BH copycat, horizon has to match w/ outside vaccum)\n",
    "        \n",
    "    something to consider is that g_s cannot be 0 (which it is in GR, implying a n ~ inf) in this model, \n",
    "    otherwise there will be no leakage or coupling to outside the \"event horizon,\" which allows stuff to escape\n",
    "        \n",
    "    From previous work we can constrain g_s^2 to, at max, be 0.6, which is corresponds to n=1.2\n",
    "    (this n won't work for this approximation anyway, because the modes close to n = 1 will not \n",
    "    escape)\n",
    "        \n",
    "    So: pick a g_s that is small but not too small! Strings gotta couple at least for stringy deviations, \n",
    "    so n can't be very big (which would imply a tiny string coupling)\n",
    "    \n",
    "    Also, larger n will result in lower frequency: we can't go too low! LIGO gets real noisy\n",
    "    if f is too low\n",
    "        higher mass systems will also be low in frequency, so it's a balancing act\n",
    "    \n",
    "        \n",
    "         \n",
    "    \"\"\"\n",
    "    c = 3e8\n",
    "    G = 6.67e-11\n",
    "    Msun = 1.989e30\n",
    "    g_s = 1/n_ref\n",
    "    \n",
    "    conversion_w = (c**3)/(G * M * Msun)\n",
    "    R_con = (2 * G * M * Msun) / (c**2)\n",
    "    \n",
    "    r_s = (R_con + np.sqrt((R_con**2) - 4*(a**2)))/2 #units m, kerr+ radius \n",
    "    omega_real = (m_odd * np.pi /(2 * r_s * n_ref)) * c   #units 1/m --> 1/s\n",
    "    omega_im = - (1/r_s) * (1/(n_ref**2)) * c\n",
    "    \n",
    "    tau = 1/omega_im\n",
    "    ts = 1/omega_real \n",
    "    \n",
    "    amplitude = (g_s**4) * A\n",
    "    \n",
    "    print(\"Q freq is {}\".format(omega_real/(2*np.pi)))\n",
    "    print(\"Q tau is {}\".format(tau))\n",
    "    \n",
    "    return {'omega_real_Q': omega_real, 'omega_img_Q': omega_im,\n",
    "            'tau_Q': tau, 'ts_Q': ts, 'amplitude_Q': amplitude, 'freq_Q': (omega_real/(2*np.pi)),\n",
    "           'rs_Q': r_s}"
   ]
  },
  {
   "cell_type": "code",
   "execution_count": 7,
   "metadata": {},
   "outputs": [],
   "source": [
    "def create_GR_values(s, l, m, n, a, M):\n",
    "\n",
    "    \"\"\"\n",
    "    grabs GR values to compare to quantum values\n",
    "    assumes M in units Msun\n",
    "    converts from 1/m --> 1/s for angular frequency using GR conversion\n",
    "    \n",
    "    returns dictionary of GR tau and GR real omega\n",
    "    outputs tau as a negative number\n",
    "    \n",
    "    \"\"\"\n",
    "    \n",
    "    c = 3e8\n",
    "    G = 6.67e-11\n",
    "    Msun = 1.989e30\n",
    "    conversion_w = (c**3)/(G * M * Msun)\n",
    "    \n",
    "    grav = qnm.modes_cache(s=s,l=l,m=m,n=n)\n",
    "    omega_GR, _, _ = grav(a=a)\n",
    "    \n",
    "    omega_real_GR = omega_GR.real * conversion_w\n",
    "    omega_im_GR = omega_GR.imag * conversion_w\n",
    "    tau_GR = 1/omega_im_GR\n",
    "    \n",
    "    print(\"GR freq is {}\".format(omega_real_GR/(2*np.pi)))\n",
    "    print(\"GR tau is {}\".format(tau_GR))\n",
    "    \n",
    "    return {'tau': tau_GR, 'omega_real_GR': omega_real_GR}"
   ]
  },
  {
   "cell_type": "code",
   "execution_count": 8,
   "metadata": {},
   "outputs": [
    {
     "name": "stdout",
     "output_type": "stream",
     "text": [
      "GR freq is 345.02823388207537\n",
      "GR tau is -0.003040841645301787\n",
      "Q freq is 50.879537607909604\n",
      "Q tau is -0.049135666665558624\n"
     ]
    }
   ],
   "source": [
    "#choose n = 10 \n",
    "\n",
    "s=2\n",
    "l=2\n",
    "m=2\n",
    "n=0\n",
    "a=0.7\n",
    "M=50\n",
    "t0=0\n",
    "n_ref=10\n",
    "\n",
    "A = 5e-23\n",
    "\n",
    "GR_values = create_GR_values(2, l , m, n, a, M)\n",
    "Q_values = create_bru_values(1, 0, M, a, n_ref, A)\n",
    "\n",
    "#create fractional for each term\n",
    "\n",
    "w = GR_values['omega_real_GR']\n",
    "w_q = Q_values['omega_real_Q']\n",
    "dw = np.abs(w - w_q)\n",
    "frac_dw = dw/w\n",
    "\n",
    "phi = 0\n",
    "dphi = 0\n",
    "\n",
    "tau = GR_values['tau']\n",
    "tau_q = Q_values['tau_Q']\n",
    "dtau = np.abs(tau-tau_q)\n",
    "frac_dtau = np.abs(dtau/tau)\n",
    "\n",
    "A_q = Q_values['amplitude_Q']\n",
    "dA = np.abs(A-A_q)\n",
    "frac_dA = dA/A\n",
    "\n",
    "ts = Q_values['ts_Q']\n",
    "\n",
    "duration = 1.0\n",
    "sampling_frequency = 4096\n",
    "outdir = 'outdir'\n",
    "label = 'shift_220_M50_frac'"
   ]
  },
  {
   "cell_type": "code",
   "execution_count": 9,
   "metadata": {},
   "outputs": [],
   "source": [
    "#parameters from above\n",
    "injection_parameters = dict(frac_dw=frac_dw, frac_dtau=frac_dtau, \n",
    "                            dphi=dphi, A=A, w=w, t0=0, phi=0, tau=tau,\n",
    "                            geocent_time=0, ra=0, dec=0, psi=0, ts=ts) "
   ]
  },
  {
   "cell_type": "code",
   "execution_count": 10,
   "metadata": {},
   "outputs": [],
   "source": [
    "#using model with just stringy mode\n",
    "waveform = bilby.gw.waveform_generator.WaveformGenerator(\n",
    "    duration=duration, sampling_frequency=sampling_frequency,\n",
    "    time_domain_source_model=frac_shift_1,\n",
    "    start_time=injection_parameters['geocent_time']-ts)"
   ]
  },
  {
   "cell_type": "code",
   "execution_count": 11,
   "metadata": {},
   "outputs": [],
   "source": [
    "times = waveform.time_array\n",
    "wave = frac_shift_1(times, **injection_parameters)['plus']"
   ]
  },
  {
   "cell_type": "code",
   "execution_count": 12,
   "metadata": {},
   "outputs": [
    {
     "data": {
      "text/plain": [
       "(0, 0.1)"
      ]
     },
     "execution_count": 12,
     "metadata": {},
     "output_type": "execute_result"
    },
    {
     "data": {
      "image/png": "[encoded data removed]",
      "text/plain": [
       "<Figure size 432x288 with 1 Axes>"
      ]
     },
     "metadata": {
      "needs_background": "light"
     },
     "output_type": "display_data"
    }
   ],
   "source": [
    "plt.plot(times, wave)\n",
    "plt.xlim(0,0.1)"
   ]
  },
  {
   "cell_type": "code",
   "execution_count": 13,
   "metadata": {},
   "outputs": [
    {
     "name": "stderr",
     "output_type": "stream",
     "text": [
      "/Users/zohaggard/anaconda2/envs/igwn-py37/lib/python3.7/site-packages/bilby/gw/detector/psd.py:356: RuntimeWarning: invalid value encountered in multiply\n",
      "  frequency_domain_strain = self.__power_spectral_density_interpolated(frequencies) ** 0.5 * white_noise\n",
      "12:35 bilby INFO    : Injected signal in H1:\n",
      "12:35 bilby INFO    :   optimal SNR = 1.23\n",
      "12:35 bilby INFO    :   matched filter SNR = 2.15-0.01j\n",
      "12:35 bilby INFO    :   frac_dw = 0.8525351475285372\n",
      "12:35 bilby INFO    :   frac_dtau = 15.158574630637228\n",
      "12:35 bilby INFO    :   dphi = 0\n",
      "12:35 bilby INFO    :   A = 5e-23\n",
      "12:35 bilby INFO    :   w = 2167.876329689978\n",
      "12:35 bilby INFO    :   t0 = 0\n",
      "12:35 bilby INFO    :   phi = 0\n",
      "12:35 bilby INFO    :   tau = -0.003040841645301787\n",
      "12:35 bilby INFO    :   geocent_time = 0\n",
      "12:35 bilby INFO    :   ra = 0\n",
      "12:35 bilby INFO    :   dec = 0\n",
      "12:35 bilby INFO    :   psi = 0\n",
      "12:35 bilby INFO    :   ts = 0.0031280736927757286\n",
      "12:35 bilby INFO    : Injected signal in L1:\n",
      "12:35 bilby INFO    :   optimal SNR = 1.46\n",
      "12:35 bilby INFO    :   matched filter SNR = 0.74-0.22j\n",
      "12:35 bilby INFO    :   frac_dw = 0.8525351475285372\n",
      "12:35 bilby INFO    :   frac_dtau = 15.158574630637228\n",
      "12:35 bilby INFO    :   dphi = 0\n",
      "12:35 bilby INFO    :   A = 5e-23\n",
      "12:35 bilby INFO    :   w = 2167.876329689978\n",
      "12:35 bilby INFO    :   t0 = 0\n",
      "12:35 bilby INFO    :   phi = 0\n",
      "12:35 bilby INFO    :   tau = -0.003040841645301787\n",
      "12:35 bilby INFO    :   geocent_time = 0\n",
      "12:35 bilby INFO    :   ra = 0\n",
      "12:35 bilby INFO    :   dec = 0\n",
      "12:35 bilby INFO    :   psi = 0\n",
      "12:35 bilby INFO    :   ts = 0.0031280736927757286\n"
     ]
    },
    {
     "data": {
      "text/plain": [
       "[{'plus': array([1.65193815e-27+0.00000000e+00j,\n",
       "         1.65140118e-27-4.61418376e-29j,\n",
       "         1.64978999e-27-9.22702992e-29j, ...,\n",
       "         6.85108397e-27+5.36425087e-28j,\n",
       "         6.86679871e-27+2.68417001e-28j,\n",
       "         6.87203961e-27+0.00000000e+00j]),\n",
       "  'cross': array([ 1.28658118e-26+0.00000000e+00j,\n",
       "          1.28559029e-26-5.05628445e-28j,\n",
       "          1.28261912e-26-1.01048285e-27j, ...,\n",
       "         -8.34853343e-28-7.10943213e-29j,\n",
       "         -8.37103949e-28-3.55786328e-29j,\n",
       "         -8.37854589e-28+0.00000000e+00j])},\n",
       " {'plus': array([1.65193815e-27+0.00000000e+00j,\n",
       "         1.65140118e-27-4.61418376e-29j,\n",
       "         1.64978999e-27-9.22702992e-29j, ...,\n",
       "         6.85108397e-27+5.36425087e-28j,\n",
       "         6.86679871e-27+2.68417001e-28j,\n",
       "         6.87203961e-27+0.00000000e+00j]),\n",
       "  'cross': array([ 1.28658118e-26+0.00000000e+00j,\n",
       "          1.28559029e-26-5.05628445e-28j,\n",
       "          1.28261912e-26-1.01048285e-27j, ...,\n",
       "         -8.34853343e-28-7.10943213e-29j,\n",
       "         -8.37103949e-28-3.55786328e-29j,\n",
       "         -8.37854589e-28+0.00000000e+00j])}]"
      ]
     },
     "execution_count": 13,
     "metadata": {},
     "output_type": "execute_result"
    }
   ],
   "source": [
    "ifos = bilby.gw.detector.InterferometerList(['H1', 'L1'])\n",
    "ifos.set_strain_data_from_power_spectral_densities(\n",
    "    sampling_frequency=sampling_frequency, duration=duration,\n",
    "    start_time=injection_parameters['geocent_time']-ts)\n",
    "\n",
    "ifos.inject_signal(waveform_generator=waveform,\n",
    "                   parameters=injection_parameters)"
   ]
  },
  {
   "cell_type": "code",
   "execution_count": 14,
   "metadata": {},
   "outputs": [],
   "source": [
    "#create priors\n",
    "prior = injection_parameters.copy()\n",
    "\n",
    "#prior['tau'] = bilby.core.prior.Uniform(-0.1, -0.0001, r'damping time', unit='$s$')\n",
    "prior['frac_dtau'] = bilby.core.prior.Uniform(1, 50, r'fraction damping time')\n",
    "\n",
    "#prior['w'] = bilby.core.prior.Uniform(0, 3000, r'omega', unit='$rad/sec$')\n",
    "prior['frac_dw'] = bilby.core.prior.Uniform(0.1, 1, r'fraction omega')\n",
    "\n",
    "#prior['ts'] = bilby.core.prior.LogUniformUniform(0.005, 0.01, r'start time')"
   ]
  },
  {
   "cell_type": "code",
   "execution_count": 15,
   "metadata": {},
   "outputs": [],
   "source": [
    "likelihood = bilby.gw.GravitationalWaveTransient(\n",
    "    interferometers=ifos, waveform_generator=waveform)"
   ]
  },
  {
   "cell_type": "code",
   "execution_count": 17,
   "metadata": {},
   "outputs": [
    {
     "name": "stderr",
     "output_type": "stream",
     "text": [
      "12:39 bilby INFO    : Running for label 'shift_220_M50_frac', output will be saved to 'outdir'\n",
      "12:39 bilby INFO    : Using LAL version Branch: None;Tag: lal-v6.22.0;Id: 38829b72bfb5f26391b9866d286dd77db7942dd1;;Builder: Duncan Macleod <duncan.macleod@ligo.org>;Repository status: CLEAN: All modifications committed\n",
      "12:39 bilby INFO    : Search parameters:\n",
      "12:39 bilby INFO    :   frac_dw = Uniform(minimum=0.1, maximum=1, name='fraction omega', latex_label='fraction omega', unit=None, boundary=None)\n",
      "12:39 bilby INFO    :   frac_dtau = Uniform(minimum=1, maximum=50, name='fraction damping time', latex_label='fraction damping time', unit=None, boundary=None)\n",
      "12:39 bilby INFO    :   dphi = 0\n",
      "12:39 bilby INFO    :   A = 5e-23\n",
      "12:39 bilby INFO    :   w = 2167.876329689978\n",
      "12:39 bilby INFO    :   t0 = 0\n",
      "12:39 bilby INFO    :   phi = 0\n",
      "12:39 bilby INFO    :   tau = -0.003040841645301787\n",
      "12:39 bilby INFO    :   geocent_time = 0\n",
      "12:39 bilby INFO    :   ra = 0\n",
      "12:39 bilby INFO    :   dec = 0\n",
      "12:39 bilby INFO    :   psi = 0\n",
      "12:39 bilby INFO    :   ts = 0.0031280736927757286\n",
      "12:39 bilby INFO    : Single likelihood evaluation took 1.689e-03 s\n"
     ]
    },
    {
     "name": "stdout",
     "output_type": "stream",
     "text": [
      "\n",
      "0it [00:00, ?it/s]\u001b[A"
     ]
    },
    {
     "name": "stderr",
     "output_type": "stream",
     "text": [
      "12:39 bilby INFO    : Using sampler Dynesty with kwargs {'bound': 'multi', 'sample': 'rwalk', 'verbose': True, 'periodic': None, 'reflective': None, 'check_point_delta_t': 600, 'nlive': 100, 'first_update': None, 'walks': 10, 'npdim': None, 'rstate': None, 'queue_size': None, 'pool': None, 'use_pool': None, 'live_points': None, 'logl_args': None, 'logl_kwargs': None, 'ptform_args': None, 'ptform_kwargs': None, 'enlarge': 1.5, 'bootstrap': None, 'vol_dec': 0.5, 'vol_check': 8.0, 'facc': 0.2, 'slices': 5, 'update_interval': 60, 'print_func': <bound method Dynesty._print_func of <bilby.core.sampler.dynesty.Dynesty object at 0x12691aed0>>, 'dlogz': 0.1, 'maxiter': None, 'maxcall': None, 'logl_max': inf, 'add_live': True, 'print_progress': True, 'save_bounds': False, 'n_effective': None, 'maxmcmc': 5000, 'nact': 5}\n",
      "12:39 bilby INFO    : Checkpoint every n_check_point = 400000\n",
      "12:39 bilby INFO    : Using dynesty version 1.0.1\n",
      "12:39 bilby INFO    : Using the bilby-implemented rwalk sample method with ACT estimated walks\n"
     ]
    },
    {
     "name": "stdout",
     "output_type": "stream",
     "text": [
      "\n",
      "1it [00:00,  3.77it/s, bound:0 nc:1 ncall:101 eff:1.0% logz-ratio=-17.99+/-0.33 dlogz:inf>0.10]\u001b[A\n",
      "45it [00:00,  5.37it/s, bound:0 nc:2 ncall:166 eff:27.1% logz-ratio=-7.13+/-0.18 dlogz:8.300>0.10]\u001b[A\n",
      "92it [00:00,  7.63it/s, bound:0 nc:3 ncall:240 eff:38.3% logz-ratio=-4.89+/-0.16 dlogz:6.079>0.10]\u001b[A\n",
      "120it [00:00, 10.76it/s, bound:0 nc:5 ncall:312 eff:38.5% logz-ratio=-3.92+/-0.16 dlogz:4.943>0.10]\u001b[A\n",
      "144it [00:00, 14.99it/s, bound:0 nc:1 ncall:401 eff:35.9% logz-ratio=-3.30+/-0.16 dlogz:4.085>0.10]\u001b[A\n",
      "167it [00:00, 20.71it/s, bound:0 nc:2 ncall:490 eff:34.1% logz-ratio=-2.83+/-0.16 dlogz:3.401>0.10]\u001b[A\n",
      "189it [00:01, 27.65it/s, bound:0 nc:3 ncall:612 eff:30.9% logz-ratio=-2.49+/-0.16 dlogz:2.864>0.10]\u001b[A\n",
      "208it [00:01, 36.33it/s, bound:0 nc:6 ncall:701 eff:29.7% logz-ratio=-2.27+/-0.16 dlogz:2.481>0.10]\u001b[A\n",
      "226it [00:01, 42.56it/s, bound:0 nc:17 ncall:893 eff:25.3% logz-ratio=-2.10+/-0.16 dlogz:2.164>0.10]\u001b[A\n",
      "241it [00:01, 51.56it/s, bound:0 nc:2 ncall:1020 eff:23.6% logz-ratio=-1.98+/-0.15 dlogz:1.930>0.10]\u001b[A\n",
      "254it [00:01, 60.40it/s, bound:0 nc:2 ncall:1136 eff:22.4% logz-ratio=-1.90+/-0.15 dlogz:1.748>0.10]\u001b[A\n",
      "267it [00:01, 66.09it/s, bound:0 nc:7 ncall:1264 eff:21.1% logz-ratio=-1.82+/-0.15 dlogz:1.581>0.10]\u001b[A\n",
      "278it [00:02, 61.50it/s, bound:0 nc:18 ncall:1412 eff:19.7% logz-ratio=-1.76+/-0.15 dlogz:1.567>0.10]\u001b[A\n",
      "288it [00:02, 60.70it/s, bound:0 nc:15 ncall:1564 eff:18.4% logz-ratio=-1.72+/-0.15 dlogz:1.452>0.10]\u001b[A\n",
      "298it [00:02, 64.97it/s, bound:0 nc:28 ncall:1672 eff:17.8% logz-ratio=-1.67+/-0.15 dlogz:1.344>0.10]\u001b[A\n",
      "309it [00:02, 72.26it/s, bound:0 nc:17 ncall:1772 eff:17.4% logz-ratio=-1.63+/-0.15 dlogz:1.231>0.10]\u001b[A\n",
      "318it [00:02, 66.48it/s, bound:0 nc:4 ncall:1920 eff:16.6% logz-ratio=-1.59+/-0.15 dlogz:1.144>0.10] \u001b[A\n",
      "326it [00:02, 57.51it/s, bound:0 nc:44 ncall:2089 eff:15.6% logz-ratio=-1.56+/-0.15 dlogz:1.070>0.10]\u001b[A\n",
      "334it [00:02, 60.68it/s, bound:0 nc:25 ncall:2186 eff:15.3% logz-ratio=-1.53+/-0.15 dlogz:1.000>0.10]\u001b[A\n",
      "341it [00:03, 41.78it/s, bound:0 nc:46 ncall:2449 eff:13.9% logz-ratio=-1.51+/-0.15 dlogz:0.942>0.10]\u001b[A\n",
      "347it [00:03, 36.69it/s, bound:0 nc:5 ncall:2636 eff:13.2% logz-ratio=-1.49+/-0.15 dlogz:0.894>0.10] \u001b[A\n",
      "352it [00:03, 32.45it/s, bound:0 nc:80 ncall:2818 eff:12.5% logz-ratio=-1.47+/-0.15 dlogz:0.856>0.10]\u001b[A\n",
      "357it [00:03, 36.11it/s, bound:0 nc:1 ncall:2910 eff:12.3% logz-ratio=-1.46+/-0.15 dlogz:0.819>0.10] \u001b[A\n",
      "362it [00:03, 33.77it/s, bound:0 nc:59 ncall:3065 eff:11.8% logz-ratio=-1.44+/-0.15 dlogz:0.783>0.10]\u001b[A\n",
      "368it [00:03, 37.82it/s, bound:0 nc:40 ncall:3165 eff:11.6% logz-ratio=-1.43+/-0.15 dlogz:0.742>0.10]\u001b[A\n",
      "373it [00:04, 31.33it/s, bound:0 nc:5 ncall:3364 eff:11.1% logz-ratio=-1.41+/-0.15 dlogz:0.710>0.10] \u001b[A\n",
      "379it [00:04, 36.08it/s, bound:0 nc:8 ncall:3452 eff:11.0% logz-ratio=-1.40+/-0.15 dlogz:0.672>0.10]\u001b[A\n",
      "384it [00:04, 34.66it/s, bound:0 nc:3 ncall:3586 eff:10.7% logz-ratio=-1.38+/-0.15 dlogz:0.642>0.10]\u001b[A\n",
      "388it [00:04, 27.23it/s, bound:0 nc:49 ncall:3788 eff:10.2% logz-ratio=-1.37+/-0.15 dlogz:0.619>0.10]\u001b[A\n",
      "392it [00:05, 19.97it/s, bound:1 nc:50 ncall:4074 eff:9.6% logz-ratio=-1.36+/-0.15 dlogz:0.596>0.10] \u001b[A\n",
      "395it [00:05, 18.76it/s, bound:3 nc:46 ncall:4215 eff:9.4% logz-ratio=-1.36+/-0.15 dlogz:0.580>0.10]\u001b[A\n",
      "398it [00:05, 18.18it/s, bound:4 nc:49 ncall:4362 eff:9.1% logz-ratio=-1.35+/-0.15 dlogz:0.564>0.10]\u001b[A\n",
      "401it [00:05, 18.46it/s, bound:6 nc:35 ncall:4483 eff:8.9% logz-ratio=-1.34+/-0.15 dlogz:0.548>0.10]\u001b[A\n",
      "404it [00:05, 17.86it/s, bound:7 nc:46 ncall:4627 eff:8.7% logz-ratio=-1.34+/-0.15 dlogz:0.533>0.10]\u001b[A\n",
      "406it [00:05, 17.25it/s, bound:8 nc:44 ncall:4716 eff:8.6% logz-ratio=-1.33+/-0.15 dlogz:0.523>0.10]\u001b[A\n",
      "408it [00:05, 17.08it/s, bound:9 nc:49 ncall:4805 eff:8.5% logz-ratio=-1.33+/-0.16 dlogz:0.513>0.10]\u001b[A\n",
      "410it [00:06, 16.98it/s, bound:10 nc:48 ncall:4898 eff:8.4% logz-ratio=-1.32+/-0.16 dlogz:0.504>0.10]\u001b[A\n",
      "412it [00:06, 17.40it/s, bound:11 nc:37 ncall:4984 eff:8.3% logz-ratio=-1.32+/-0.16 dlogz:0.494>0.10]\u001b[A\n",
      "414it [00:06, 15.93it/s, bound:12 nc:49 ncall:5084 eff:8.1% logz-ratio=-1.32+/-0.16 dlogz:0.488>0.10]\u001b[A\n",
      "416it [00:06, 15.41it/s, bound:13 nc:38 ncall:5168 eff:8.0% logz-ratio=-1.31+/-0.16 dlogz:0.479>0.10]\u001b[A\n",
      "418it [00:06, 15.72it/s, bound:14 nc:45 ncall:5256 eff:8.0% logz-ratio=-1.31+/-0.16 dlogz:0.470>0.10]\u001b[A\n",
      "420it [00:06, 15.09it/s, bound:15 nc:45 ncall:5348 eff:7.9% logz-ratio=-1.30+/-0.16 dlogz:0.461>0.10]\u001b[A\n",
      "422it [00:06, 15.30it/s, bound:16 nc:47 ncall:5443 eff:7.8% logz-ratio=-1.30+/-0.16 dlogz:0.452>0.10]\u001b[A\n",
      "424it [00:06, 15.86it/s, bound:17 nc:49 ncall:5534 eff:7.7% logz-ratio=-1.30+/-0.16 dlogz:0.444>0.10]\u001b[A\n",
      "426it [00:07, 14.05it/s, bound:18 nc:93 ncall:5678 eff:7.5% logz-ratio=-1.29+/-0.16 dlogz:0.435>0.10]\u001b[A\n",
      "428it [00:07, 13.73it/s, bound:19 nc:49 ncall:5778 eff:7.4% logz-ratio=-1.29+/-0.16 dlogz:0.427>0.10]\u001b[A\n",
      "430it [00:07, 12.16it/s, bound:20 nc:119 ncall:5924 eff:7.3% logz-ratio=-1.28+/-0.16 dlogz:0.419>0.10]\u001b[A\n",
      "432it [00:07, 12.98it/s, bound:21 nc:39 ncall:6012 eff:7.2% logz-ratio=-1.28+/-0.16 dlogz:0.411>0.10] \u001b[A\n",
      "434it [00:07, 12.78it/s, bound:23 nc:49 ncall:6134 eff:7.1% logz-ratio=-1.28+/-0.16 dlogz:0.403>0.10]\u001b[A\n",
      "436it [00:07, 14.10it/s, bound:24 nc:28 ncall:6212 eff:7.0% logz-ratio=-1.27+/-0.16 dlogz:0.395>0.10]\u001b[A\n",
      "438it [00:08, 14.68it/s, bound:25 nc:43 ncall:6304 eff:6.9% logz-ratio=-1.27+/-0.16 dlogz:0.388>0.10]\u001b[A\n",
      "440it [00:08, 13.78it/s, bound:26 nc:88 ncall:6441 eff:6.8% logz-ratio=-1.27+/-0.16 dlogz:0.380>0.10]\u001b[A\n",
      "442it [00:08, 14.71it/s, bound:27 nc:39 ncall:6526 eff:6.8% logz-ratio=-1.26+/-0.16 dlogz:0.373>0.10]\u001b[A\n",
      "444it [00:08, 15.48it/s, bound:28 nc:44 ncall:6616 eff:6.7% logz-ratio=-1.26+/-0.16 dlogz:0.366>0.10]\u001b[A\n",
      "446it [00:08, 16.12it/s, bound:29 nc:42 ncall:6705 eff:6.7% logz-ratio=-1.26+/-0.16 dlogz:0.359>0.10]\u001b[A\n",
      "448it [00:08, 16.46it/s, bound:30 nc:48 ncall:6798 eff:6.6% logz-ratio=-1.25+/-0.16 dlogz:0.352>0.10]\u001b[A\n",
      "450it [00:08, 16.33it/s, bound:31 nc:55 ncall:6898 eff:6.5% logz-ratio=-1.25+/-0.16 dlogz:0.345>0.10]\u001b[A\n",
      "452it [00:08, 16.68it/s, bound:32 nc:46 ncall:6990 eff:6.5% logz-ratio=-1.25+/-0.16 dlogz:0.338>0.10]\u001b[A\n",
      "454it [00:09, 17.42it/s, bound:33 nc:41 ncall:7068 eff:6.4% logz-ratio=-1.24+/-0.16 dlogz:0.332>0.10]\u001b[A\n",
      "456it [00:09, 18.00it/s, bound:34 nc:45 ncall:7145 eff:6.4% logz-ratio=-1.24+/-0.16 dlogz:0.325>0.10]\u001b[A\n",
      "458it [00:09, 18.15it/s, bound:35 nc:37 ncall:7227 eff:6.3% logz-ratio=-1.24+/-0.16 dlogz:0.319>0.10]\u001b[A\n",
      "460it [00:09, 17.93it/s, bound:36 nc:47 ncall:7313 eff:6.3% logz-ratio=-1.23+/-0.16 dlogz:0.313>0.10]\u001b[A\n",
      "462it [00:09, 17.92it/s, bound:37 nc:47 ncall:7402 eff:6.2% logz-ratio=-1.23+/-0.16 dlogz:0.307>0.10]\u001b[A\n",
      "464it [00:09, 17.52it/s, bound:38 nc:45 ncall:7493 eff:6.2% logz-ratio=-1.23+/-0.16 dlogz:0.301>0.10]\u001b[A\n",
      "466it [00:09, 17.64it/s, bound:39 nc:44 ncall:7583 eff:6.1% logz-ratio=-1.23+/-0.16 dlogz:0.295>0.10]\u001b[A\n",
      "468it [00:09, 17.12it/s, bound:40 nc:51 ncall:7677 eff:6.1% logz-ratio=-1.22+/-0.16 dlogz:0.289>0.10]\u001b[A\n",
      "470it [00:09, 16.58it/s, bound:41 nc:42 ncall:7769 eff:6.0% logz-ratio=-1.22+/-0.16 dlogz:0.283>0.10]\u001b[A\n",
      "472it [00:10, 15.24it/s, bound:42 nc:52 ncall:7867 eff:6.0% logz-ratio=-1.22+/-0.16 dlogz:0.278>0.10]\u001b[A\n",
      "474it [00:10, 14.89it/s, bound:43 nc:49 ncall:7964 eff:6.0% logz-ratio=-1.22+/-0.16 dlogz:0.273>0.10]\u001b[A\n",
      "476it [00:10, 15.68it/s, bound:44 nc:41 ncall:8049 eff:5.9% logz-ratio=-1.21+/-0.16 dlogz:0.267>0.10]\u001b[A\n",
      "478it [00:10, 15.84it/s, bound:45 nc:44 ncall:8144 eff:5.9% logz-ratio=-1.21+/-0.16 dlogz:0.262>0.10]\u001b[A\n",
      "480it [00:10, 13.97it/s, bound:46 nc:52 ncall:8249 eff:5.8% logz-ratio=-1.21+/-0.16 dlogz:0.257>0.10]\u001b[A\n",
      "482it [00:10, 13.53it/s, bound:47 nc:41 ncall:8337 eff:5.8% logz-ratio=-1.21+/-0.16 dlogz:0.254>0.10]\u001b[A\n",
      "484it [00:10, 13.67it/s, bound:48 nc:44 ncall:8421 eff:5.7% logz-ratio=-1.20+/-0.16 dlogz:0.249>0.10]\u001b[A\n",
      "486it [00:11, 13.54it/s, bound:49 nc:47 ncall:8511 eff:5.7% logz-ratio=-1.20+/-0.16 dlogz:0.245>0.10]\u001b[A\n",
      "488it [00:11, 13.46it/s, bound:50 nc:47 ncall:8604 eff:5.7% logz-ratio=-1.20+/-0.16 dlogz:0.240>0.10]\u001b[A\n",
      "490it [00:11, 14.27it/s, bound:51 nc:43 ncall:8690 eff:5.6% logz-ratio=-1.20+/-0.16 dlogz:0.235>0.10]\u001b[A\n",
      "492it [00:11, 14.78it/s, bound:52 nc:45 ncall:8784 eff:5.6% logz-ratio=-1.19+/-0.16 dlogz:0.230>0.10]\u001b[A\n"
     ]
    },
    {
     "name": "stdout",
     "output_type": "stream",
     "text": [
      "494it [00:11, 15.15it/s, bound:53 nc:39 ncall:8877 eff:5.6% logz-ratio=-1.19+/-0.16 dlogz:0.226>0.10]\u001b[A\n",
      "496it [00:11, 15.48it/s, bound:54 nc:49 ncall:8970 eff:5.5% logz-ratio=-1.19+/-0.16 dlogz:0.221>0.10]\u001b[A\n",
      "498it [00:11, 15.19it/s, bound:55 nc:51 ncall:9064 eff:5.5% logz-ratio=-1.19+/-0.16 dlogz:0.217>0.10]\u001b[A\n",
      "500it [00:12, 14.93it/s, bound:56 nc:47 ncall:9156 eff:5.5% logz-ratio=-1.19+/-0.16 dlogz:0.213>0.10]\u001b[A\n",
      "502it [00:12, 14.46it/s, bound:57 nc:47 ncall:9252 eff:5.4% logz-ratio=-1.18+/-0.16 dlogz:0.209>0.10]\u001b[A\n",
      "504it [00:12, 12.88it/s, bound:58 nc:50 ncall:9347 eff:5.4% logz-ratio=-1.18+/-0.16 dlogz:0.205>0.10]\u001b[A\n",
      "506it [00:12, 13.00it/s, bound:59 nc:46 ncall:9437 eff:5.4% logz-ratio=-1.18+/-0.16 dlogz:0.201>0.10]\u001b[A\n",
      "508it [00:12, 13.42it/s, bound:60 nc:42 ncall:9525 eff:5.3% logz-ratio=-1.18+/-0.16 dlogz:0.197>0.10]\u001b[A\n",
      "510it [00:12, 14.04it/s, bound:61 nc:42 ncall:9610 eff:5.3% logz-ratio=-1.18+/-0.16 dlogz:0.193>0.10]\u001b[A\n",
      "18196it [04:00, 17.01it/s, bound:5 nc:42 ncall:191767 eff:9.5% logz-ratio=-1.27+/-0.02 dlogz:0.683>0.10]\n",
      "514it [00:13, 14.41it/s, bound:63 nc:45 ncall:9800 eff:5.2% logz-ratio=-1.17+/-0.16 dlogz:0.185>0.10]\u001b[A\n",
      "516it [00:13, 13.37it/s, bound:64 nc:47 ncall:9897 eff:5.2% logz-ratio=-1.17+/-0.16 dlogz:0.182>0.10]\u001b[A\n",
      "518it [00:13, 13.59it/s, bound:65 nc:46 ncall:9994 eff:5.2% logz-ratio=-1.17+/-0.16 dlogz:0.178>0.10]\u001b[A\n",
      "520it [00:13, 13.91it/s, bound:66 nc:45 ncall:10087 eff:5.2% logz-ratio=-1.17+/-0.16 dlogz:0.175>0.10]\u001b[A\n",
      "522it [00:13, 13.35it/s, bound:67 nc:49 ncall:10185 eff:5.1% logz-ratio=-1.16+/-0.16 dlogz:0.171>0.10]\u001b[A\n",
      "524it [00:13, 14.12it/s, bound:68 nc:44 ncall:10281 eff:5.1% logz-ratio=-1.16+/-0.16 dlogz:0.168>0.10]\u001b[A\n",
      "527it [00:13, 15.49it/s, bound:70 nc:41 ncall:10394 eff:5.1% logz-ratio=-1.16+/-0.16 dlogz:0.163>0.10]\u001b[A\n",
      "530it [00:14, 16.99it/s, bound:71 nc:46 ncall:10508 eff:5.0% logz-ratio=-1.16+/-0.16 dlogz:0.158>0.10]\u001b[A\n",
      "532it [00:14, 17.11it/s, bound:72 nc:43 ncall:10594 eff:5.0% logz-ratio=-1.16+/-0.16 dlogz:0.155>0.10]\u001b[A\n",
      "534it [00:14, 16.33it/s, bound:73 nc:39 ncall:10677 eff:5.0% logz-ratio=-1.15+/-0.16 dlogz:0.152>0.10]\u001b[A\n",
      "536it [00:14, 15.93it/s, bound:74 nc:40 ncall:10755 eff:5.0% logz-ratio=-1.15+/-0.16 dlogz:0.149>0.10]\u001b[A\n",
      "538it [00:14, 15.16it/s, bound:75 nc:38 ncall:10840 eff:5.0% logz-ratio=-1.15+/-0.16 dlogz:0.146>0.10]\u001b[A\n",
      "540it [00:14, 14.71it/s, bound:76 nc:36 ncall:10922 eff:4.9% logz-ratio=-1.15+/-0.16 dlogz:0.143>0.10]\u001b[A\n",
      "542it [00:14, 15.33it/s, bound:77 nc:39 ncall:11000 eff:4.9% logz-ratio=-1.15+/-0.16 dlogz:0.140>0.10]\u001b[A\n",
      "544it [00:14, 15.44it/s, bound:78 nc:38 ncall:11079 eff:4.9% logz-ratio=-1.15+/-0.16 dlogz:0.138>0.10]\u001b[A\n",
      "546it [00:15, 14.72it/s, bound:79 nc:41 ncall:11165 eff:4.9% logz-ratio=-1.14+/-0.16 dlogz:0.135>0.10]\u001b[A\n",
      "548it [00:15, 15.33it/s, bound:80 nc:36 ncall:11244 eff:4.9% logz-ratio=-1.14+/-0.16 dlogz:0.132>0.10]\u001b[A\n",
      "550it [00:15, 16.12it/s, bound:81 nc:42 ncall:11324 eff:4.9% logz-ratio=-1.14+/-0.16 dlogz:0.130>0.10]\u001b[A\n",
      "552it [00:15, 16.50it/s, bound:82 nc:43 ncall:11411 eff:4.8% logz-ratio=-1.14+/-0.16 dlogz:0.127>0.10]\u001b[A\n",
      "554it [00:15, 15.54it/s, bound:83 nc:44 ncall:11500 eff:4.8% logz-ratio=-1.14+/-0.16 dlogz:0.125>0.10]\u001b[A\n",
      "556it [00:15, 15.54it/s, bound:84 nc:37 ncall:11570 eff:4.8% logz-ratio=-1.14+/-0.16 dlogz:0.122>0.10]\u001b[A\n",
      "558it [00:15, 14.82it/s, bound:85 nc:44 ncall:11662 eff:4.8% logz-ratio=-1.14+/-0.16 dlogz:0.120>0.10]\u001b[A\n",
      "560it [00:16, 14.88it/s, bound:86 nc:43 ncall:11745 eff:4.8% logz-ratio=-1.13+/-0.16 dlogz:0.117>0.10]\u001b[A\n",
      "562it [00:16, 14.36it/s, bound:87 nc:42 ncall:11834 eff:4.7% logz-ratio=-1.13+/-0.16 dlogz:0.115>0.10]\u001b[A\n",
      "564it [00:16, 14.65it/s, bound:88 nc:42 ncall:11918 eff:4.7% logz-ratio=-1.13+/-0.16 dlogz:0.113>0.10]\u001b[A\n",
      "566it [00:16, 15.82it/s, bound:89 nc:45 ncall:12001 eff:4.7% logz-ratio=-1.13+/-0.16 dlogz:0.110>0.10]\u001b[A\n",
      "568it [00:16, 16.46it/s, bound:90 nc:47 ncall:12092 eff:4.7% logz-ratio=-1.13+/-0.16 dlogz:0.108>0.10]\u001b[A\n",
      "570it [00:16, 16.95it/s, bound:91 nc:40 ncall:12175 eff:4.7% logz-ratio=-1.13+/-0.16 dlogz:0.106>0.10]\u001b[A\n",
      "572it [00:16, 16.60it/s, bound:92 nc:65 ncall:12280 eff:4.7% logz-ratio=-1.13+/-0.16 dlogz:0.104>0.10]\u001b[A\n",
      "574it [00:16, 16.34it/s, bound:93 nc:39 ncall:12364 eff:4.6% logz-ratio=-1.13+/-0.16 dlogz:0.102>0.10]\u001b[A"
     ]
    },
    {
     "name": "stderr",
     "output_type": "stream",
     "text": [
      "12:39 bilby INFO    : Writing checkpoint file outdir/shift_220_M50_frac_resume.pickle\n"
     ]
    },
    {
     "name": "stdout",
     "output_type": "stream",
     "text": [
      "\n",
      "575it [00:17, 33.25it/s, bound:94 nc:1 ncall:12416 eff:5.4% logz-ratio=-1.05+/-0.18 dlogz:0.001>0.10] "
     ]
    },
    {
     "name": "stderr",
     "output_type": "stream",
     "text": [
      "12:39 bilby INFO    : Sampling time: 0:00:16.724873\n",
      "12:39 bilby INFO    : Summary of results:\n",
      "nsamples: 675\n",
      "log_noise_evidence: -3941.816\n",
      "log_evidence: -3942.863 +/-  0.184\n",
      "log_bayes_factor: -1.047 +/-  0.184\n",
      "\n"
     ]
    },
    {
     "name": "stdout",
     "output_type": "stream",
     "text": [
      "\n",
      "\n"
     ]
    }
   ],
   "source": [
    "result = bilby.run_sampler(\n",
    "    likelihood=likelihood, priors=prior, sampler='dynesty', npoints=100, walks=10, nact=5,\n",
    "    injection_parameters=injection_parameters, outdir=outdir, label=label, resume=False)"
   ]
  },
  {
   "cell_type": "code",
   "execution_count": 20,
   "metadata": {},
   "outputs": [
    {
     "data": {
      "image/png": "[encoded data removed]",
      "text/plain": [
       "<Figure size 396x396 with 4 Axes>"
      ]
     },
     "execution_count": 20,
     "metadata": {},
     "output_type": "execute_result"
    }
   ],
   "source": [
    "result.plot_corner(save=True)"
   ]
  },
  {
   "cell_type": "code",
   "execution_count": null,
   "metadata": {},
   "outputs": [],
   "source": []
  }
 ],
 "metadata": {
  "kernelspec": {
   "display_name": "igwn-py37",
   "language": "python",
   "name": "igwn-py37"
  },
  "language_info": {
   "codemirror_mode": {
    "name": "ipython",
    "version": 3
   },
   "file_extension": ".py",
   "mimetype": "text/x-python",
   "name": "python",
   "nbconvert_exporter": "python",
   "pygments_lexer": "ipython3",
   "version": "3.7.6"
  }
 },
 "nbformat": 4,
 "nbformat_minor": 2
}
