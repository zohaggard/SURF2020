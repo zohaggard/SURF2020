{
 "cells": [
  {
   "cell_type": "code",
   "execution_count": 2,
   "metadata": {},
   "outputs": [],
   "source": [
    "import numpy as np\n",
    "import matplotlib.pyplot as plt\n",
    "from scipy.special import expit\n",
    "import pandas as pd"
   ]
  },
  {
   "cell_type": "code",
   "execution_count": 56,
   "metadata": {},
   "outputs": [],
   "source": [
    "def sigmoid(x,x0,L,k):\n",
    "    \n",
    "    sig = []\n",
    "    \n",
    "    for item in x:\n",
    "        value=L/(0.001+expit(-k*(item-x0)))\n",
    "        sig.append(value)\n",
    "    return sig"
   ]
  },
  {
   "cell_type": "code",
   "execution_count": 57,
   "metadata": {},
   "outputs": [],
   "source": [
    "x=np.arange(-500,500,1)\n",
    "sig=sigmoid(x,10,1e22,1)\n",
    "tapered=np.cos(x)"
   ]
  },
  {
   "cell_type": "code",
   "execution_count": 58,
   "metadata": {},
   "outputs": [
    {
     "data": {
      "text/plain": [
       "(0, 500)"
      ]
     },
     "execution_count": 58,
     "metadata": {},
     "output_type": "execute_result"
    },
    {
     "data": {
      "image/png": "[encoded data removed]",
      "text/plain": [
       "<Figure size 432x288 with 1 Axes>"
      ]
     },
     "metadata": {
      "needs_background": "light"
     },
     "output_type": "display_data"
    }
   ],
   "source": [
    "plt.plot(sig, label='sig')\n",
    "plt.plot(tapered, label='taper')\n",
    "plt.legend()\n",
    "plt.xlim(0,500)"
   ]
  },
  {
   "cell_type": "code",
   "execution_count": 3,
   "metadata": {},
   "outputs": [],
   "source": [
    "def bru_sine(time, amplitude, tau, tp, omega_real, phase, **kwargs):\n",
    "    \n",
    "    \"\"\"\n",
    "    returns damped complex sine as h (type=array) \n",
    "    assumes that tau is negative number\n",
    "\n",
    "    \"\"\"\n",
    "    \n",
    "    \n",
    "    h = np.zeros(len(time), dtype=np.complex128)\n",
    "    tidx = time >= tp\n",
    "    \n",
    "    damp_arg = (time[tidx])/tau\n",
    "    sin_arg = (omega_real * (time[tidx])) - phase\n",
    "    h[tidx] = amplitude*np.exp(damp_arg) * np.exp((1j*sin_arg)) \n",
    "   \n",
    "    return h"
   ]
  },
  {
   "cell_type": "code",
   "execution_count": 4,
   "metadata": {},
   "outputs": [],
   "source": [
    "def create_bru_values(m_odd, em, M, a, n_ref):\n",
    "    \n",
    "    \"\"\" \n",
    "    m_odd is odd integer, g_s is string coupling (GR == 1), em is 2,\n",
    "    M is total mass, a is dimensionless spin, and amplitude_qnm is \n",
    "    the amplitude of the mode of interest \n",
    "    \n",
    "    returns amplitude (quantum), omega_real, tau, and tp\n",
    "    \n",
    "    \"\"\"\n",
    "    \n",
    "    g_s = 1/n_ref\n",
    "    c = 3e8\n",
    "    G = 6.67e-11\n",
    "    Msun = 1.989e30\n",
    "    \n",
    "    conversion_w = (c**3)/(G * M * Msun)\n",
    "    R_con = (2 * G * M * Msun) / (c**2)\n",
    "    \n",
    "    r_s = (R_con + np.sqrt((R_con**2) - 4*(a**2)))/2 #units m\n",
    "    omega_real = (m_odd * np.pi /(2 * r_s * n_ref)) * c   #units 1/m --> 1/s\n",
    "    omega_im = - (1/r_s) * (1/(n_ref**2)) * c\n",
    "    \n",
    "    tau = 1/omega_im\n",
    "    tp = 1/omega_real \n",
    "    \n",
    "    print(\"Q freq is {}\".format(omega_real/(2*np.pi)))\n",
    "    print(\"Q tau is {}\".format(tau))\n",
    "    \n",
    "    return {'tau': tau, 'freq': (omega_real/(2*np.pi))}"
   ]
  },
  {
   "cell_type": "code",
   "execution_count": 61,
   "metadata": {},
   "outputs": [
    {
     "name": "stdout",
     "output_type": "stream",
     "text": [
      "Q freq is 121.14175620657674\n",
      "Q tau is -0.014445886000000002\n"
     ]
    }
   ],
   "source": [
    "bru_values = create_bru_values(1, 2, 30, 0, 7)"
   ]
  },
  {
   "cell_type": "code",
   "execution_count": 62,
   "metadata": {},
   "outputs": [],
   "source": [
    "time=np.arange(-2,2,1/4096)"
   ]
  },
  {
   "cell_type": "code",
   "execution_count": 63,
   "metadata": {},
   "outputs": [],
   "source": [
    "h=bru_sine(time=time, amplitude=1e22, phase=0, tau=bru_values['tau_Q'], tp=bru_values['tp_Q'], \n",
    "                omega_real=bru_values['omega_real_Q'])"
   ]
  },
  {
   "cell_type": "code",
   "execution_count": 64,
   "metadata": {},
   "outputs": [
    {
     "name": "stdout",
     "output_type": "stream",
     "text": [
      "0.0013137909509954328\n"
     ]
    },
    {
     "data": {
      "text/plain": [
       "(-0.05, 0.01)"
      ]
     },
     "execution_count": 64,
     "metadata": {},
     "output_type": "execute_result"
    },
    {
     "data": {
      "image/png": "[encoded data removed]",
      "text/plain": [
       "<Figure size 432x288 with 1 Axes>"
      ]
     },
     "metadata": {
      "needs_background": "light"
     },
     "output_type": "display_data"
    }
   ],
   "source": [
    "#plt.plot(time, brusinreg.real,label='reg')\n",
    "sigtp=sigmoid(time, x0=bru_values['tp_Q']*2, L=1e22, k=4096)\n",
    "print(bru_values['tp_Q'])\n",
    "plt.plot(time, sigtp,label='sig')\n",
    "plt.plot(time, h.real*sigtp/1e22, label='mult')\n",
    "plt.plot(time, h.real, label='orig')\n",
    "plt.legend()\n",
    "plt.xlim(-0.05,0.01)"
   ]
  },
  {
   "cell_type": "code",
   "execution_count": 8,
   "metadata": {},
   "outputs": [
    {
     "name": "stdout",
     "output_type": "stream",
     "text": [
      "Q freq is 84.79922934460372\n",
      "Q tau is -0.00884442\n",
      "Q freq is 63.59942200845278\n",
      "Q tau is -0.019654266666666663\n",
      "Q freq is 60.57087810328837\n",
      "Q tau is -0.028891772000000003\n",
      "Q freq is 56.53281956306914\n",
      "Q tau is -0.039799890000000004\n",
      "Q freq is 57.817656371320716\n",
      "Q tau is -0.04756332533333332\n"
     ]
    },
    {
     "data": {
      "text/html": [
       "<div>\n",
       "<style scoped>\n",
       "    .dataframe tbody tr th:only-of-type {\n",
       "        vertical-align: middle;\n",
       "    }\n",
       "\n",
       "    .dataframe tbody tr th {\n",
       "        vertical-align: top;\n",
       "    }\n",
       "\n",
       "    .dataframe thead th {\n",
       "        text-align: right;\n",
       "    }\n",
       "</style>\n",
       "<table border=\"1\" class=\"dataframe\">\n",
       "  <thead>\n",
       "    <tr style=\"text-align: right;\">\n",
       "      <th></th>\n",
       "      <th>n_ref</th>\n",
       "      <th>mass</th>\n",
       "      <th>frequency</th>\n",
       "      <th>tau</th>\n",
       "    </tr>\n",
       "  </thead>\n",
       "  <tbody>\n",
       "    <tr>\n",
       "      <th>0</th>\n",
       "      <td>3.0</td>\n",
       "      <td>100.0</td>\n",
       "      <td>84.799229</td>\n",
       "      <td>-0.008844</td>\n",
       "    </tr>\n",
       "    <tr>\n",
       "      <th>1</th>\n",
       "      <td>5.0</td>\n",
       "      <td>80.0</td>\n",
       "      <td>63.599422</td>\n",
       "      <td>-0.019654</td>\n",
       "    </tr>\n",
       "    <tr>\n",
       "      <th>2</th>\n",
       "      <td>7.0</td>\n",
       "      <td>60.0</td>\n",
       "      <td>60.570878</td>\n",
       "      <td>-0.028892</td>\n",
       "    </tr>\n",
       "    <tr>\n",
       "      <th>3</th>\n",
       "      <td>9.0</td>\n",
       "      <td>50.0</td>\n",
       "      <td>56.532820</td>\n",
       "      <td>-0.039800</td>\n",
       "    </tr>\n",
       "    <tr>\n",
       "      <th>4</th>\n",
       "      <td>11.0</td>\n",
       "      <td>40.0</td>\n",
       "      <td>57.817656</td>\n",
       "      <td>-0.047563</td>\n",
       "    </tr>\n",
       "  </tbody>\n",
       "</table>\n",
       "</div>"
      ],
      "text/plain": [
       "   n_ref   mass  frequency       tau\n",
       "0    3.0  100.0  84.799229 -0.008844\n",
       "1    5.0   80.0  63.599422 -0.019654\n",
       "2    7.0   60.0  60.570878 -0.028892\n",
       "3    9.0   50.0  56.532820 -0.039800\n",
       "4   11.0   40.0  57.817656 -0.047563"
      ]
     },
     "execution_count": 8,
     "metadata": {},
     "output_type": "execute_result"
    }
   ],
   "source": [
    "M=[100, 80, 60, 50, 40]\n",
    "n_ref=[3, 5, 7, 9, 11]\n",
    "df=pd.DataFrame(columns=['n_ref', 'mass', 'frequency', 'tau'])\n",
    "for i in range(5): \n",
    "    mass=M[i]\n",
    "    n=n_ref[i]\n",
    "    bru_values=create_bru_values(m_odd=1, em=0, M=mass, a=0, n_ref=n)\n",
    "    freq=bru_values['freq']\n",
    "    tau=bru_values['tau']\n",
    "    df=df.append({'n_ref':n, 'mass':mass, 'frequency':freq, 'tau':tau}, ignore_index=True)\n",
    "\n",
    "df"
   ]
  },
  {
   "cell_type": "code",
   "execution_count": null,
   "metadata": {},
   "outputs": [],
   "source": []
  }
 ],
 "metadata": {
  "kernelspec": {
   "display_name": "igwn-py37",
   "language": "python",
   "name": "igwn-py37"
  },
  "language_info": {
   "codemirror_mode": {
    "name": "ipython",
    "version": 3
   },
   "file_extension": ".py",
   "mimetype": "text/x-python",
   "name": "python",
   "nbconvert_exporter": "python",
   "pygments_lexer": "ipython3",
   "version": "3.7.6"
  }
 },
 "nbformat": 4,
 "nbformat_minor": 2
}
