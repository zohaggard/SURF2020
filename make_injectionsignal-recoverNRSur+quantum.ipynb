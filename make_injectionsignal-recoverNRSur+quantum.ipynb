{
 "cells": [
  {
   "cell_type": "code",
   "execution_count": 1,
   "metadata": {},
   "outputs": [
    {
     "name": "stdout",
     "output_type": "stream",
     "text": [
      "lal.G_SI != G\n",
      "lal.MSUN_SI != Msun\n",
      "setting __package__ to gwsurrogate.new so relative imports work\n",
      "__name__ = gwsurrogate.new.spline_evaluation\n",
      "__package__= gwsurrogate.new\n",
      "setting __package__ to gwsurrogate.new so relative imports work\n",
      "setting __package__ to gwsurrogate.new so relative imports work\n"
     ]
    },
    {
     "name": "stderr",
     "output_type": "stream",
     "text": [
      "/Users/zohaggard/anaconda2/envs/igwn-py37/lib/python3.7/site-packages/gwtools/rotations.py:63: UserWarning: Could not import GWFrames, needed for rotations module\n",
      "  _warnings.warn(\"Could not import GWFrames, needed for rotations module\")\n",
      "/Users/zohaggard/anaconda2/envs/igwn-py37/lib/python3.7/site-packages/gwtools/__init__.py:11: UserWarning: Could not import rotations, decompositions, or fitfuncs. These are not needed by GWSurrogate.\n",
      "  _warnings.warn(\"Could not import rotations, decompositions, or fitfuncs. These are not needed by GWSurrogate.\")\n"
     ]
    }
   ],
   "source": [
    "import gwsurrogate\n",
    "import numpy as np\n",
    "import matplotlib.pyplot as plt\n",
    "import bilby\n",
    "from gwpy.timeseries import TimeSeries\n",
    "from scipy.special import expit"
   ]
  },
  {
   "cell_type": "code",
   "execution_count": 2,
   "metadata": {},
   "outputs": [
    {
     "name": "stderr",
     "output_type": "stream",
     "text": [
      "/Users/zohaggard/anaconda2/envs/igwn-py37/lib/python3.7/site-packages/gwsurrogate/new/precessing_surrogate.py:245: H5pyDeprecationWarning: dataset.value has been deprecated. Use dataset[()] instead.\n",
      "  self.t = h5file['t_ds'].value\n",
      "/Users/zohaggard/anaconda2/envs/igwn-py37/lib/python3.7/site-packages/gwsurrogate/new/precessing_surrogate.py:272: H5pyDeprecationWarning: dataset.value has been deprecated. Use dataset[()] instead.\n",
      "  'coefs': group['%s_coefs'%(key)].value,\n",
      "/Users/zohaggard/anaconda2/envs/igwn-py37/lib/python3.7/site-packages/gwsurrogate/new/precessing_surrogate.py:273: H5pyDeprecationWarning: dataset.value has been deprecated. Use dataset[()] instead.\n",
      "  'bfOrders': group['%s_bfOrders'%(key)].value\n",
      "/Users/zohaggard/anaconda2/envs/igwn-py37/lib/python3.7/site-packages/gwsurrogate/new/precessing_surrogate.py:282: H5pyDeprecationWarning: dataset.value has been deprecated. Use dataset[()] instead.\n",
      "  'coefs': group['%s_%d_coefs'%(key, i)].value,\n",
      "/Users/zohaggard/anaconda2/envs/igwn-py37/lib/python3.7/site-packages/gwsurrogate/new/precessing_surrogate.py:283: H5pyDeprecationWarning: dataset.value has been deprecated. Use dataset[()] instead.\n",
      "  'bfOrders': group['%s_%d_bfOrders'%(key, i)].value\n",
      "/Users/zohaggard/anaconda2/envs/igwn-py37/lib/python3.7/site-packages/gwsurrogate/new/precessing_surrogate.py:733: H5pyDeprecationWarning: dataset.value has been deprecated. Use dataset[()] instead.\n",
      "  self.t = h5file['t_coorb'].value\n",
      "/Users/zohaggard/anaconda2/envs/igwn-py37/lib/python3.7/site-packages/gwsurrogate/new/precessing_surrogate.py:691: H5pyDeprecationWarning: dataset.value has been deprecated. Use dataset[()] instead.\n",
      "  data['EI_basis'] = h5_group['EIBasis'].value\n",
      "/Users/zohaggard/anaconda2/envs/igwn-py37/lib/python3.7/site-packages/gwsurrogate/new/precessing_surrogate.py:692: H5pyDeprecationWarning: dataset.value has been deprecated. Use dataset[()] instead.\n",
      "  data['nodeIndices'] = h5_group['nodeIndices'].value\n",
      "/Users/zohaggard/anaconda2/envs/igwn-py37/lib/python3.7/site-packages/gwsurrogate/new/precessing_surrogate.py:694: H5pyDeprecationWarning: dataset.value has been deprecated. Use dataset[()] instead.\n",
      "  for i in range(len(data['nodeIndices']))]\n",
      "/Users/zohaggard/anaconda2/envs/igwn-py37/lib/python3.7/site-packages/gwsurrogate/new/precessing_surrogate.py:696: H5pyDeprecationWarning: dataset.value has been deprecated. Use dataset[()] instead.\n",
      "  for i in range(len(data['nodeIndices']))]\n"
     ]
    },
    {
     "name": "stdout",
     "output_type": "stream",
     "text": [
      "Loaded NRSur7dq4 model\n"
     ]
    }
   ],
   "source": [
    "sur=gwsurrogate.LoadSurrogate('NRSur7dq4')"
   ]
  },
  {
   "cell_type": "code",
   "execution_count": 3,
   "metadata": {},
   "outputs": [],
   "source": [
    "def sigmoid(time, x0, L, k):\n",
    "    \n",
    "    \"\"\" generate a sigmoid to be mult. to damped sinusoid.\n",
    "        x is time, x0 is the midpoint of the sigmoid, L is the amplitude, and k is the growth \n",
    "    \"\"\"\n",
    "    \n",
    "    sig = []\n",
    "    \n",
    "    for item in time:\n",
    "        value=L/(1+np.exp(-k*(item-x0)))\n",
    "        sig.append(value)\n",
    "        \n",
    "    return sig"
   ]
  },
  {
   "cell_type": "code",
   "execution_count": 4,
   "metadata": {},
   "outputs": [],
   "source": [
    "def create_bru_values(m_odd, em, M, a, n_ref):\n",
    "    \n",
    "    \"\"\" \n",
    "    m_odd is odd integer, n_ref is the refractive index, which is 1/g_s (string coupling, (GR == 0)), em is 2,\n",
    "    M is total mass, a is dimensionless spin, and amplitude_qnm is \n",
    "    the amplitude of the mode of interest \n",
    "    \n",
    "    returns amplitude (quantum), omega_real, tau, and tp\n",
    "    \n",
    "    \"\"\"\n",
    "    \n",
    "    g_s = 1/n_ref\n",
    "    c = 3e8\n",
    "    G = 6.67e-11\n",
    "    Msun = 1.989e30\n",
    "    \n",
    "    conversion_w = (c**3)/(G * M * Msun)\n",
    "    R_con = (2 * G * M * Msun) / (c**2)\n",
    "    \n",
    "    r_s = (R_con + np.sqrt((R_con**2) - 4*(a**2)))/2 #units m\n",
    "    omega_real = (m_odd * np.pi /(2 * r_s * n_ref)) * c   #units 1/m --> 1/s\n",
    "    omega_im = - (1/r_s) * (1/(n_ref**2)) * c\n",
    "    \n",
    "    tau = 1/omega_im\n",
    "    tp = 1/omega_real \n",
    "    \n",
    "    print(\"Quantum freq is {}\".format(omega_real/(2*np.pi)))\n",
    "    print(\"Quantum tau is {}\".format(tau))\n",
    "    print(\"t_s is {}\".format(tp))\n",
    "    \n",
    "    return {'omega_real_Q': omega_real, 'omega_img_Q': omega_im,\n",
    "            'tau_Q': tau, 'tp_Q': tp, 'freq_Q': (omega_real/(2*np.pi))}"
   ]
  },
  {
   "cell_type": "code",
   "execution_count": 5,
   "metadata": {},
   "outputs": [],
   "source": [
    "def damped_sine(time, amplitude, tau, tp, freq, phase):\n",
    "    \n",
    "    \"\"\"\n",
    "    returns damped complex sine as h (type=array) \n",
    "    assumes that tau is negative number\n",
    "    starts a time tp: anytime before is 0\n",
    "\n",
    "    \"\"\"\n",
    "    \n",
    "    \n",
    "    h_damped = np.zeros(len(time), dtype=np.complex128)\n",
    "    tidx = time >= tp\n",
    "    \n",
    "    damp_arg = - (time[tidx])/tau\n",
    "    sin_arg = (2 * np.pi * freq * (time[tidx])) - phase\n",
    "    h_damped[tidx] = amplitude*np.exp(damp_arg) * np.exp((1j*sin_arg)) \n",
    "   \n",
    "    return h_damped"
   ]
  },
  {
   "cell_type": "code",
   "execution_count": 6,
   "metadata": {},
   "outputs": [],
   "source": [
    "def Quantummodes_keys(time, tau, freq, tp, amplitude, phase):\n",
    "    \n",
    "    \"\"\" \n",
    "    model that has NR SUR (for given parameters) and associated quantum mode \n",
    "    chiA and chiB take [x,y,z] as input\n",
    "    assumes dt = 1/4096\n",
    "    highest l index is ellMax, assumed to be 4\n",
    "    f_ref=30, and f_low=0\n",
    "    \n",
    "    note: NRSUR peak of waveform packet is at t=0\n",
    "    \n",
    "          spin=0 for now (need to change em otherwise)\n",
    "    \n",
    "    \"\"\"\n",
    "    #generate damped \n",
    "    bru_sin = damped_sine(time=time, amplitude=amplitude, tau=tau, tp=tp, freq=freq, \n",
    "                          phase=phase)\n",
    "    \n",
    "    sig = sigmoid(time=time, x0=tp*2, L=amplitude, k=4096)\n",
    "    \n",
    "    dif = len(bru_sin) - len(h)\n",
    "    \n",
    "    h_new = np.pad(h, (0, dif), 'constant')\n",
    "    \n",
    "    h_total = h_new + (bru_sin*sig/amplitude)\n",
    "    \n",
    "    return {'plus': h_total.real, 'cross': h_total.imag}\n",
    "    "
   ]
  },
  {
   "cell_type": "code",
   "execution_count": 7,
   "metadata": {},
   "outputs": [],
   "source": [
    "def Quantummodes(time, n_ref, amplitude, phase, M):\n",
    "    \n",
    "    \"\"\" \n",
    "    model that has NR SUR (for given parameters) and associated quantum mode \n",
    "    chiA and chiB take [x,y,x] as input\n",
    "    assumes dt = 1/4096\n",
    "    highest l index is ellMax, assumed to be 4\n",
    "    f_ref=30, and f_low=0\n",
    "    \n",
    "    note: NRSUR peak of waveform packet is at t=0\n",
    "    \n",
    "          spin=0 for now (need to change em otherwise)\n",
    "    \n",
    "    \"\"\"\n",
    "    \n",
    "    #h_new\n",
    "    print(time)\n",
    "    \n",
    "    bru_values = create_bru_values(m_odd=1, em=0, M=M, a=0, n_ref=n_ref)\n",
    "    \n",
    "    bru_sin = damped_sine(time=time, amplitude=amplitude, \n",
    "                       tau=-1*bru_values['tau_Q'], tp=bru_values['tp_Q'], \n",
    "                       freq=bru_values['freq_Q'], phase=phase)\n",
    "    \n",
    "    sig = sigmoid(time=time, x0=bru_values['tp_Q']*2, L=amplitude, k=4096)\n",
    "    \n",
    "    dif = len(bru_sin) - len(h)\n",
    "    \n",
    "    h_new = np.pad(h, (0, dif), 'constant')\n",
    "    \n",
    "    h_total = h_new + (bru_sin*sig/amplitude)\n",
    "    \n",
    "    plt.plot(time, h_new.real, label='NRsurdq4', linestyle='--', color='blue')\n",
    "    plt.plot(time, sig*bru_sin.real/amplitude, label='quantum mode', linestyle='-.', color='green')\n",
    "    plt.plot(time, h_total, label='injected waveform', linestyle='-', color='orange')\n",
    "    plt.legend()\n",
    "    plt.xlim(-0.01,0.08)\n",
    "    plt.xlabel('Time (seconds)')\n",
    "    plt.ylabel('h+')\n",
    "   \n",
    "    \n",
    "    return {'plus': h_total.real, 'cross': h_total.imag}\n",
    "    "
   ]
  },
  {
   "cell_type": "code",
   "execution_count": 9,
   "metadata": {},
   "outputs": [
    {
     "name": "stderr",
     "output_type": "stream",
     "text": [
      "/Users/zohaggard/anaconda2/envs/igwn-py37/lib/python3.7/site-packages/numpy/core/numeric.py:538: ComplexWarning: Casting complex values to real discards the imaginary part\n",
      "  return array(a, dtype, copy=False, order=order)\n"
     ]
    },
    {
     "data": {
      "text/plain": [
       "[<matplotlib.lines.Line2D at 0x13113a7d0>]"
      ]
     },
     "execution_count": 9,
     "metadata": {},
     "output_type": "execute_result"
    },
    {
     "data": {
      "image/png": "[encoded data removed]",
      "text/plain": [
       "<Figure size 432x288 with 1 Axes>"
      ]
     },
     "metadata": {
      "needs_background": "light"
     },
     "output_type": "display_data"
    }
   ],
   "source": [
    "q = 1\n",
    "chiA = [0,0,0]\n",
    "chiB = [0,0,0]\n",
    "M = 100\n",
    "dist_mpc = 100\n",
    "ellMax = 4     \n",
    "inclination = 0\n",
    "f_low=0\n",
    "f_ref = 30\n",
    "dt=1/4096\n",
    "\n",
    "t, h, dyn = sur(q, chiA, chiB, dt=dt, f_low=f_low, ellMax=ellMax, M=M, dist_mpc=dist_mpc,\n",
    "               inclination=inclination, units='mks', f_ref=f_ref)\n",
    "plt.plot(t, h)"
   ]
  },
  {
   "cell_type": "code",
   "execution_count": 52,
   "metadata": {},
   "outputs": [],
   "source": [
    "n_ref=3\n",
    "amplitude=[6e-23, 8e-23, 1e-22, 2e-22, 4e-22, 6e-22]\n",
    "duration=3"
   ]
  },
  {
   "cell_type": "code",
   "execution_count": 53,
   "metadata": {},
   "outputs": [],
   "source": [
    "injection_parameters = dict(n_ref=n_ref, amplitude=amplitude, phase=0,\n",
    "                            ra=0, dec=0, psi=0, geocent_time=0, M=M) #freq=63, tau=0.019, tp=0.0025)"
   ]
  },
  {
   "cell_type": "code",
   "execution_count": 54,
   "metadata": {},
   "outputs": [],
   "source": [
    "injection_waveform = bilby.gw.waveform_generator.WaveformGenerator(\n",
    "    time_domain_source_model=Quantummodes,\n",
    "    duration=duration, sampling_frequency=4096, start_time = injection_parameters['geocent_time']+t[0])"
   ]
  },
  {
   "cell_type": "code",
   "execution_count": 55,
   "metadata": {},
   "outputs": [
    {
     "name": "stderr",
     "output_type": "stream",
     "text": [
      "/Users/zohaggard/anaconda2/envs/igwn-py37/lib/python3.7/site-packages/bilby/gw/detector/psd.py:356: RuntimeWarning: invalid value encountered in multiply\n",
      "  frequency_domain_strain = self.__power_spectral_density_interpolated(frequencies) ** 0.5 * white_noise\n",
      "/Users/zohaggard/anaconda2/envs/igwn-py37/lib/python3.7/site-packages/ipykernel_launcher.py:10: RuntimeWarning: overflow encountered in exp\n",
      "  # Remove the CWD from sys.path while we load stuff.\n",
      "/Users/zohaggard/anaconda2/envs/igwn-py37/lib/python3.7/site-packages/numpy/core/numeric.py:538: ComplexWarning: Casting complex values to real discards the imaginary part\n",
      "  return array(a, dtype, copy=False, order=order)\n",
      "22:02 bilby INFO    : Injected signal in H1:\n",
      "22:02 bilby INFO    :   optimal SNR = 404.74\n",
      "22:02 bilby INFO    :   matched filter SNR = 404.87-0.33j\n",
      "22:02 bilby INFO    :   n_ref = 3\n",
      "22:02 bilby INFO    :   amplitude = 2e-22\n",
      "22:02 bilby INFO    :   phase = 0\n",
      "22:02 bilby INFO    :   ra = 0\n",
      "22:02 bilby INFO    :   dec = 0\n",
      "22:02 bilby INFO    :   psi = 0\n",
      "22:02 bilby INFO    :   geocent_time = 0\n",
      "22:02 bilby INFO    :   M = 100\n",
      "22:02 bilby INFO    : Injected signal in L1:\n",
      "22:02 bilby INFO    :   optimal SNR = 478.56\n",
      "22:02 bilby INFO    :   matched filter SNR = 477.76-0.73j\n",
      "22:02 bilby INFO    :   n_ref = 3\n",
      "22:02 bilby INFO    :   amplitude = 2e-22\n",
      "22:02 bilby INFO    :   phase = 0\n",
      "22:02 bilby INFO    :   ra = 0\n",
      "22:02 bilby INFO    :   dec = 0\n",
      "22:02 bilby INFO    :   psi = 0\n",
      "22:02 bilby INFO    :   geocent_time = 0\n",
      "22:02 bilby INFO    :   M = 100\n"
     ]
    },
    {
     "name": "stdout",
     "output_type": "stream",
     "text": [
      "[-2.11796114 -2.117717   -2.11747286 ...  0.88130644  0.88155058\n",
      "  0.88179472]\n",
      "Quantum freq is 84.79922934460372\n",
      "Quantum tau is -0.00884442\n",
      "t_s is 0.0018768442157077612\n"
     ]
    },
    {
     "data": {
      "text/plain": [
       "[{'plus': array([-4.29289971e-23+0.00000000e+00j,\n",
       "         -4.56046602e-23-1.50298655e-24j,\n",
       "         -4.52414984e-23+1.44042873e-24j, ...,\n",
       "         -3.47337903e-26-3.07261479e-28j,\n",
       "         -3.54824051e-26+9.67323369e-28j,\n",
       "         -3.66190512e-26+0.00000000e+00j]),\n",
       "  'cross': array([ 6.44340997e-24+0.00000000e+00j,\n",
       "          4.84407947e-24-2.85564482e-24j,\n",
       "          3.37413186e-24-3.17074498e-24j, ...,\n",
       "         -3.52224627e-25-2.35726128e-29j,\n",
       "         -3.52642122e-25+6.41687155e-28j,\n",
       "         -3.53307536e-25+0.00000000e+00j])},\n",
       " {'plus': array([-4.29289971e-23+0.00000000e+00j,\n",
       "         -4.56046602e-23-1.50298655e-24j,\n",
       "         -4.52414984e-23+1.44042873e-24j, ...,\n",
       "         -3.47337903e-26-3.07261479e-28j,\n",
       "         -3.54824051e-26+9.67323369e-28j,\n",
       "         -3.66190512e-26+0.00000000e+00j]),\n",
       "  'cross': array([ 6.44340997e-24+0.00000000e+00j,\n",
       "          4.84407947e-24-2.85564482e-24j,\n",
       "          3.37413186e-24-3.17074498e-24j, ...,\n",
       "         -3.52224627e-25-2.35726128e-29j,\n",
       "         -3.52642122e-25+6.41687155e-28j,\n",
       "         -3.53307536e-25+0.00000000e+00j])}]"
      ]
     },
     "execution_count": 55,
     "metadata": {},
     "output_type": "execute_result"
    },
    {
     "data": {
      "image/png": "[encoded data removed]",
      "text/plain": [
       "<Figure size 432x288 with 1 Axes>"
      ]
     },
     "metadata": {
      "needs_background": "light"
     },
     "output_type": "display_data"
    }
   ],
   "source": [
    "ifos = bilby.gw.detector.InterferometerList(['H1','L1'])\n",
    "ifos.set_strain_data_from_power_spectral_densities(\n",
    "    duration=duration, sampling_frequency=4096, start_time = injection_parameters['geocent_time']+t[0])\n",
    "ifos.inject_signal(waveform_generator=injection_waveform,\n",
    "                  parameters=injection_parameters)"
   ]
  },
  {
   "cell_type": "code",
   "execution_count": 56,
   "metadata": {},
   "outputs": [],
   "source": [
    "prior = {}\n",
    "prior['amplitude'] = bilby.core.prior.DeltaFunction(amplitude, r'$h_0$')\n",
    "prior['tp'] = bilby.core.prior.DeltaFunction(0.001876, r'$t_{s}$')\n",
    "#prior['tau'] = bilby.core.prior.DeltaFunction(0.0035034425359878212, r'$t_{s}$')\n",
    "prior['tau'] = bilby.core.prior.LogUniform(1e-3, 1e-1, r'$\\tau$', unit='$s$')\n",
    "prior['freq'] = bilby.core.prior.Uniform(30, 100, r'frequency', unit='Hz')\n",
    "prior['phase'] = bilby.core.prior.DeltaFunction(0)\n",
    "prior['ra'] = bilby.core.prior.DeltaFunction(0)\n",
    "prior['dec'] = bilby.core.prior.DeltaFunction(0)\n",
    "prior['psi'] = bilby.core.prior.DeltaFunction(0)\n",
    "prior['geocent_time'] = bilby.core.prior.DeltaFunction(0)"
   ]
  },
  {
   "cell_type": "code",
   "execution_count": 57,
   "metadata": {},
   "outputs": [],
   "source": [
    "search_waveform = bilby.gw.WaveformGenerator(\n",
    "    duration=duration, sampling_frequency=4096, \n",
    "    time_domain_source_model=Quantummodes_keys, start_time = injection_parameters['geocent_time']+t[0])"
   ]
  },
  {
   "cell_type": "code",
   "execution_count": 58,
   "metadata": {},
   "outputs": [],
   "source": [
    "likelihood = bilby.gw.likelihood.GravitationalWaveTransient(\n",
    "    interferometers=ifos, waveform_generator=search_waveform)"
   ]
  },
  {
   "cell_type": "code",
   "execution_count": 59,
   "metadata": {},
   "outputs": [
    {
     "name": "stderr",
     "output_type": "stream",
     "text": [
      "22:02 bilby INFO    : Running for label 'Mass100_dist100_nref3_Amp2e-22_CORRECT', output will be saved to '/Users/zohaggard/Desktop/LIGOSURF/add_quantummode/NRsurquantumfinal2'\n",
      "22:02 bilby INFO    : Using LAL version Branch: None;Tag: lal-v6.22.0;Id: 38829b72bfb5f26391b9866d286dd77db7942dd1;;Builder: Duncan Macleod <duncan.macleod@ligo.org>;Repository status: CLEAN: All modifications committed\n",
      "22:02 bilby INFO    : Search parameters:\n",
      "22:02 bilby INFO    :   tau = LogUniform(minimum=0.001, maximum=0.1, name='$\\\\tau$', latex_label='$\\\\tau$', unit='$s$', boundary=None)\n",
      "22:02 bilby INFO    :   freq = Uniform(minimum=30, maximum=100, name='frequency', latex_label='frequency', unit='Hz', boundary=None)\n",
      "22:02 bilby INFO    :   amplitude = 2e-22\n",
      "22:02 bilby INFO    :   tp = 0.001876\n",
      "22:02 bilby INFO    :   phase = 0\n",
      "22:02 bilby INFO    :   ra = 0\n",
      "22:02 bilby INFO    :   dec = 0\n",
      "22:02 bilby INFO    :   psi = 0\n",
      "22:02 bilby INFO    :   geocent_time = 0\n",
      "/Users/zohaggard/anaconda2/envs/igwn-py37/lib/python3.7/site-packages/ipykernel_launcher.py:10: RuntimeWarning: overflow encountered in exp\n",
      "  # Remove the CWD from sys.path while we load stuff.\n",
      "22:03 bilby INFO    : Single likelihood evaluation took 3.920e-02 s\n"
     ]
    },
    {
     "name": "stdout",
     "output_type": "stream",
     "text": [
      "\n",
      "0it [00:00, ?it/s]\u001b[A"
     ]
    },
    {
     "name": "stderr",
     "output_type": "stream",
     "text": [
      "22:03 bilby INFO    : Using sampler Dynesty with kwargs {'bound': 'multi', 'sample': 'rwalk', 'verbose': True, 'periodic': None, 'reflective': None, 'check_point_delta_t': 600, 'nlive': 100, 'first_update': None, 'walks': 5, 'npdim': None, 'rstate': None, 'queue_size': None, 'pool': None, 'use_pool': None, 'live_points': None, 'logl_args': None, 'logl_kwargs': None, 'ptform_args': None, 'ptform_kwargs': None, 'enlarge': 1.5, 'bootstrap': None, 'vol_dec': 0.5, 'vol_check': 8.0, 'facc': 0.2, 'slices': 5, 'update_interval': 60, 'print_func': <bound method Dynesty._print_func of <bilby.core.sampler.dynesty.Dynesty object at 0x131db1e50>>, 'dlogz': 0.1, 'maxiter': None, 'maxcall': None, 'logl_max': inf, 'add_live': True, 'print_progress': True, 'save_bounds': False, 'n_effective': None, 'maxmcmc': 5000, 'nact': 3}\n",
      "22:03 bilby INFO    : Checkpoint every n_check_point = 20000\n",
      "22:03 bilby INFO    : Using dynesty version 1.0.1\n",
      "22:03 bilby INFO    : Using the bilby-implemented rwalk sample method with ACT estimated walks\n"
     ]
    },
    {
     "name": "stdout",
     "output_type": "stream",
     "text": [
      "\n",
      "1it [00:04,  4.16s/it, bound:0 nc:1 ncall:101 eff:1.0% logz-ratio=196033.89+/-0.33 dlogz:inf>0.10]\u001b[A\n",
      "4it [00:04,  2.92s/it, bound:0 nc:1 ncall:104 eff:3.8% logz-ratio=196042.84+/-0.30 dlogz:49.136>0.10]\u001b[A\n",
      "7it [00:04,  2.06s/it, bound:0 nc:1 ncall:107 eff:6.5% logz-ratio=196048.15+/-0.31 dlogz:44.582>0.10]\u001b[A\n",
      "10it [00:04,  1.45s/it, bound:0 nc:1 ncall:110 eff:9.1% logz-ratio=196057.62+/-0.32 dlogz:35.648>0.10]\u001b[A\n",
      "13it [00:04,  1.03s/it, bound:0 nc:1 ncall:113 eff:11.5% logz-ratio=196060.27+/-0.27 dlogz:30.164>0.10]\u001b[A\n",
      "16it [00:04,  1.36it/s, bound:0 nc:2 ncall:117 eff:13.7% logz-ratio=196061.67+/-0.25 dlogz:28.745>0.10]\u001b[A\n",
      "19it [00:04,  1.89it/s, bound:0 nc:1 ncall:120 eff:15.8% logz-ratio=196063.61+/-0.26 dlogz:26.710>0.10]\u001b[A\n",
      "22it [00:05,  2.62it/s, bound:0 nc:1 ncall:123 eff:17.9% logz-ratio=196067.84+/-0.32 dlogz:25.247>0.10]\u001b[A\n",
      "25it [00:05,  3.52it/s, bound:0 nc:2 ncall:127 eff:19.7% logz-ratio=196070.00+/-0.27 dlogz:20.316>0.10]\u001b[A\n",
      "28it [00:05,  4.60it/s, bound:0 nc:1 ncall:131 eff:21.4% logz-ratio=196072.86+/-0.27 dlogz:17.408>0.10]\u001b[A\n",
      "31it [00:05,  5.95it/s, bound:0 nc:2 ncall:135 eff:23.0% logz-ratio=196074.99+/-0.27 dlogz:15.505>0.10]\u001b[A\n",
      "34it [00:05,  7.69it/s, bound:0 nc:1 ncall:138 eff:24.6% logz-ratio=196076.91+/-0.26 dlogz:13.170>0.10]\u001b[A\n",
      "37it [00:05,  9.35it/s, bound:0 nc:1 ncall:142 eff:26.1% logz-ratio=196077.92+/-0.25 dlogz:12.090>0.10]\u001b[A\n",
      "40it [00:06, 10.57it/s, bound:0 nc:1 ncall:147 eff:27.2% logz-ratio=196078.99+/-0.25 dlogz:10.993>0.10]\u001b[A\n",
      "42it [00:06, 10.48it/s, bound:0 nc:4 ncall:152 eff:27.6% logz-ratio=196079.53+/-0.24 dlogz:10.315>0.10]\u001b[A\n",
      "45it [00:06, 12.67it/s, bound:0 nc:1 ncall:155 eff:29.0% logz-ratio=196080.25+/-0.23 dlogz:9.570>0.10] \u001b[A\n",
      "47it [00:06, 13.61it/s, bound:0 nc:2 ncall:158 eff:29.7% logz-ratio=196080.74+/-0.23 dlogz:9.061>0.10]\u001b[A\n",
      "50it [00:06, 14.87it/s, bound:0 nc:2 ncall:162 eff:30.9% logz-ratio=196081.41+/-0.23 dlogz:8.306>0.10]\u001b[A\n",
      "52it [00:06, 10.77it/s, bound:0 nc:3 ncall:169 eff:30.8% logz-ratio=196081.80+/-0.23 dlogz:7.907>0.10]\u001b[A\n",
      "54it [00:07, 11.72it/s, bound:0 nc:2 ncall:172 eff:31.4% logz-ratio=196082.26+/-0.23 dlogz:7.444>0.10]\u001b[A\n",
      "57it [00:07, 12.20it/s, bound:0 nc:3 ncall:177 eff:32.2% logz-ratio=196082.78+/-0.22 dlogz:6.824>0.10]\u001b[A\n",
      "59it [00:07, 13.13it/s, bound:0 nc:2 ncall:180 eff:32.8% logz-ratio=196083.07+/-0.22 dlogz:6.515>0.10]\u001b[A\n",
      "62it [00:07, 14.33it/s, bound:0 nc:2 ncall:184 eff:33.7% logz-ratio=196083.56+/-0.22 dlogz:5.988>0.10]\u001b[A\n",
      "64it [00:07, 12.85it/s, bound:0 nc:4 ncall:189 eff:33.9% logz-ratio=196083.86+/-0.22 dlogz:5.679>0.10]\u001b[A\n",
      "66it [00:07, 13.77it/s, bound:0 nc:2 ncall:192 eff:34.4% logz-ratio=196084.21+/-0.22 dlogz:5.332>0.10]\u001b[A\n",
      "68it [00:08, 12.50it/s, bound:0 nc:3 ncall:197 eff:34.5% logz-ratio=196084.50+/-0.22 dlogz:4.983>0.10]\u001b[A\n",
      "70it [00:08,  8.49it/s, bound:0 nc:7 ncall:207 eff:33.8% logz-ratio=196084.75+/-0.22 dlogz:4.696>0.10]\u001b[A\n",
      "72it [00:08,  9.24it/s, bound:0 nc:1 ncall:211 eff:34.1% logz-ratio=196084.94+/-0.21 dlogz:4.463>0.10]\u001b[A\n",
      "74it [00:08, 10.03it/s, bound:0 nc:1 ncall:215 eff:34.4% logz-ratio=196085.12+/-0.21 dlogz:4.263>0.10]\u001b[A\n",
      "76it [00:09, 10.01it/s, bound:0 nc:3 ncall:220 eff:34.5% logz-ratio=196085.30+/-0.21 dlogz:4.064>0.10]\u001b[A\n",
      "78it [00:09, 10.71it/s, bound:0 nc:2 ncall:224 eff:34.8% logz-ratio=196085.46+/-0.21 dlogz:3.877>0.10]\u001b[A\n",
      "80it [00:09, 11.15it/s, bound:0 nc:2 ncall:228 eff:35.1% logz-ratio=196085.60+/-0.20 dlogz:3.710>0.10]\u001b[A\n",
      "83it [00:09, 12.75it/s, bound:0 nc:2 ncall:232 eff:35.8% logz-ratio=196085.79+/-0.20 dlogz:3.493>0.10]\u001b[A\n",
      "85it [00:09, 11.86it/s, bound:0 nc:4 ncall:237 eff:35.9% logz-ratio=196085.91+/-0.20 dlogz:3.355>0.10]\u001b[A\n",
      "87it [00:09, 10.58it/s, bound:0 nc:3 ncall:243 eff:35.8% logz-ratio=196086.03+/-0.20 dlogz:3.218>0.10]\u001b[A\n",
      "89it [00:10,  9.82it/s, bound:0 nc:1 ncall:249 eff:35.7% logz-ratio=196086.14+/-0.19 dlogz:3.090>0.10]\u001b[A\n",
      "91it [00:10,  7.20it/s, bound:0 nc:7 ncall:260 eff:35.0% logz-ratio=196086.25+/-0.19 dlogz:2.966>0.10]\u001b[A\n",
      "92it [00:10,  5.99it/s, bound:0 nc:6 ncall:266 eff:34.6% logz-ratio=196086.31+/-0.19 dlogz:2.905>0.10]\u001b[A\n",
      "93it [00:11,  5.69it/s, bound:0 nc:5 ncall:271 eff:34.3% logz-ratio=196086.36+/-0.19 dlogz:2.844>0.10]\u001b[A\n",
      "94it [00:11,  6.30it/s, bound:0 nc:3 ncall:274 eff:34.3% logz-ratio=196086.41+/-0.19 dlogz:2.785>0.10]\u001b[A\n",
      "96it [00:11,  7.13it/s, bound:0 nc:4 ncall:279 eff:34.4% logz-ratio=196086.51+/-0.19 dlogz:2.673>0.10]\u001b[A\n",
      "98it [00:11,  8.20it/s, bound:0 nc:3 ncall:283 eff:34.6% logz-ratio=196086.60+/-0.19 dlogz:2.565>0.10]\u001b[A\n",
      "101it [00:11,  9.45it/s, bound:0 nc:3 ncall:288 eff:35.1% logz-ratio=196086.73+/-0.19 dlogz:2.419>0.10]\u001b[A\n",
      "103it [00:11, 10.83it/s, bound:0 nc:1 ncall:291 eff:35.4% logz-ratio=196086.80+/-0.18 dlogz:2.331>0.10]\u001b[A\n",
      "105it [00:12, 11.84it/s, bound:0 nc:2 ncall:294 eff:35.7% logz-ratio=196086.87+/-0.18 dlogz:2.250>0.10]\u001b[A\n",
      "107it [00:12, 11.76it/s, bound:0 nc:3 ncall:298 eff:35.9% logz-ratio=196086.93+/-0.18 dlogz:2.175>0.10]\u001b[A\n",
      "109it [00:12, 11.97it/s, bound:0 nc:2 ncall:302 eff:36.1% logz-ratio=196086.99+/-0.18 dlogz:2.104>0.10]\u001b[A\n",
      "111it [00:12, 13.08it/s, bound:0 nc:2 ncall:305 eff:36.4% logz-ratio=196087.04+/-0.18 dlogz:2.038>0.10]\u001b[A\n",
      "113it [00:12, 13.90it/s, bound:0 nc:2 ncall:308 eff:36.7% logz-ratio=196087.09+/-0.18 dlogz:1.976>0.10]\u001b[A\n",
      "115it [00:12, 12.51it/s, bound:0 nc:4 ncall:313 eff:36.7% logz-ratio=196087.14+/-0.17 dlogz:1.916>0.10]\u001b[A\n",
      "117it [00:12, 13.08it/s, bound:0 nc:1 ncall:316 eff:37.0% logz-ratio=196087.18+/-0.17 dlogz:1.860>0.10]\u001b[A\n",
      "119it [00:13,  9.39it/s, bound:0 nc:5 ncall:324 eff:36.7% logz-ratio=196087.23+/-0.17 dlogz:1.806>0.10]\u001b[A\n",
      "121it [00:13,  9.12it/s, bound:0 nc:1 ncall:330 eff:36.7% logz-ratio=196087.27+/-0.17 dlogz:1.754>0.10]\u001b[A\n",
      "123it [00:13,  8.54it/s, bound:0 nc:2 ncall:337 eff:36.5% logz-ratio=196087.31+/-0.17 dlogz:1.705>0.10]\u001b[A\n",
      "124it [00:13,  8.57it/s, bound:0 nc:3 ncall:340 eff:36.5% logz-ratio=196087.33+/-0.17 dlogz:1.681>0.10]\u001b[A\n",
      "125it [00:14,  8.50it/s, bound:0 nc:3 ncall:343 eff:36.4% logz-ratio=196087.35+/-0.17 dlogz:1.658>0.10]\u001b[A\n",
      "127it [00:14,  9.33it/s, bound:0 nc:3 ncall:347 eff:36.6% logz-ratio=196087.38+/-0.17 dlogz:1.612>0.10]\u001b[A\n",
      "129it [00:14,  7.44it/s, bound:0 nc:7 ncall:356 eff:36.2% logz-ratio=196087.41+/-0.17 dlogz:1.569>0.10]\u001b[A\n",
      "130it [00:14,  5.28it/s, bound:0 nc:7 ncall:363 eff:35.8% logz-ratio=196087.43+/-0.17 dlogz:1.548>0.10]\u001b[A\n",
      "131it [00:15,  4.56it/s, bound:0 nc:7 ncall:370 eff:35.4% logz-ratio=196087.45+/-0.16 dlogz:1.527>0.10]\u001b[A\n",
      "132it [00:15,  5.30it/s, bound:0 nc:3 ncall:373 eff:35.4% logz-ratio=196087.46+/-0.16 dlogz:1.507>0.10]\u001b[A\n",
      "133it [00:15,  5.16it/s, bound:0 nc:5 ncall:378 eff:35.2% logz-ratio=196087.48+/-0.16 dlogz:1.486>0.10]\u001b[A\n",
      "134it [00:16,  3.26it/s, bound:0 nc:15 ncall:393 eff:34.1% logz-ratio=196087.49+/-0.16 dlogz:1.467>0.10]\u001b[A\n",
      "136it [00:16,  4.19it/s, bound:0 nc:3 ncall:397 eff:34.3% logz-ratio=196087.52+/-0.16 dlogz:1.429>0.10] \u001b[A\n",
      "138it [00:16,  4.95it/s, bound:0 nc:5 ncall:403 eff:34.2% logz-ratio=196087.55+/-0.16 dlogz:1.392>0.10]\u001b[A\n",
      "139it [00:16,  5.33it/s, bound:0 nc:4 ncall:407 eff:34.2% logz-ratio=196087.57+/-0.16 dlogz:1.374>0.10]\u001b[A\n",
      "141it [00:16,  6.70it/s, bound:0 nc:2 ncall:410 eff:34.4% logz-ratio=196087.59+/-0.16 dlogz:1.339>0.10]\u001b[A\n",
      "143it [00:17,  5.41it/s, bound:0 nc:1 ncall:424 eff:33.7% logz-ratio=196087.62+/-0.16 dlogz:1.306>0.10]\u001b[A\n",
      "144it [00:17,  5.95it/s, bound:0 nc:3 ncall:427 eff:33.7% logz-ratio=196087.63+/-0.16 dlogz:1.289>0.10]\u001b[A\n",
      "146it [00:17,  6.54it/s, bound:0 nc:4 ncall:433 eff:33.7% logz-ratio=196087.65+/-0.16 dlogz:1.257>0.10]\u001b[A\n",
      "149it [00:17,  7.66it/s, bound:0 nc:4 ncall:439 eff:33.9% logz-ratio=196087.69+/-0.16 dlogz:1.211>0.10]\u001b[A\n",
      "150it [00:18,  7.19it/s, bound:0 nc:4 ncall:443 eff:33.9% logz-ratio=196087.70+/-0.16 dlogz:1.196>0.10]\u001b[A\n",
      "151it [00:18,  7.51it/s, bound:0 nc:3 ncall:446 eff:33.9% logz-ratio=196087.71+/-0.15 dlogz:1.182>0.10]\u001b[A\n",
      "153it [00:18,  8.94it/s, bound:0 nc:1 ncall:449 eff:34.1% logz-ratio=196087.73+/-0.15 dlogz:1.153>0.10]\u001b[A\n",
      "155it [00:19,  5.23it/s, bound:0 nc:19 ncall:469 eff:33.0% logz-ratio=196087.75+/-0.15 dlogz:1.136>0.10]\u001b[A\n",
      "156it [00:19,  5.22it/s, bound:0 nc:5 ncall:474 eff:32.9% logz-ratio=196087.76+/-0.15 dlogz:1.122>0.10] \u001b[A\n",
      "158it [00:19,  5.89it/s, bound:0 nc:4 ncall:480 eff:32.9% logz-ratio=196087.78+/-0.15 dlogz:1.096>0.10]\u001b[A\n",
      "159it [00:19,  5.30it/s, bound:0 nc:6 ncall:486 eff:32.7% logz-ratio=196087.79+/-0.15 dlogz:1.083>0.10]\u001b[A\n",
      "160it [00:19,  4.89it/s, bound:0 nc:6 ncall:492 eff:32.5% logz-ratio=196087.80+/-0.15 dlogz:1.070>0.10]\u001b[A\n",
      "161it [00:20,  3.32it/s, bound:0 nc:14 ncall:506 eff:31.8% logz-ratio=196087.81+/-0.15 dlogz:1.057>0.10]\u001b[A\n",
      "162it [00:20,  3.85it/s, bound:0 nc:4 ncall:510 eff:31.8% logz-ratio=196087.82+/-0.15 dlogz:1.044>0.10] \u001b[A\n",
      "163it [00:20,  3.79it/s, bound:0 nc:7 ncall:517 eff:31.5% logz-ratio=196087.83+/-0.15 dlogz:1.032>0.10]\u001b[A\n",
      "164it [00:21,  2.89it/s, bound:0 nc:14 ncall:531 eff:30.9% logz-ratio=196087.84+/-0.15 dlogz:1.020>0.10]\u001b[A\n",
      "165it [00:21,  2.98it/s, bound:0 nc:8 ncall:539 eff:30.6% logz-ratio=196087.85+/-0.15 dlogz:1.008>0.10] \u001b[A\n",
      "166it [00:21,  3.56it/s, bound:0 nc:4 ncall:543 eff:30.6% logz-ratio=196087.86+/-0.15 dlogz:0.996>0.10]\u001b[A\n",
      "168it [00:22,  4.67it/s, bound:0 nc:2 ncall:546 eff:30.8% logz-ratio=196087.87+/-0.15 dlogz:0.972>0.10]\u001b[A\n",
      "170it [00:22,  5.76it/s, bound:0 nc:3 ncall:550 eff:30.9% logz-ratio=196087.89+/-0.15 dlogz:0.950>0.10]\u001b[A\n",
      "171it [00:22,  5.57it/s, bound:0 nc:5 ncall:555 eff:30.8% logz-ratio=196087.90+/-0.15 dlogz:0.938>0.10]\u001b[A\n",
      "172it [00:22,  6.19it/s, bound:0 nc:3 ncall:558 eff:30.8% logz-ratio=196087.91+/-0.15 dlogz:0.927>0.10]\u001b[A\n",
      "173it [00:22,  6.73it/s, bound:0 nc:3 ncall:561 eff:30.8% logz-ratio=196087.91+/-0.15 dlogz:0.917>0.10]\u001b[A\n",
      "174it [00:22,  4.83it/s, bound:0 nc:9 ncall:570 eff:30.5% logz-ratio=196087.92+/-0.15 dlogz:0.906>0.10]\u001b[A\n",
      "175it [00:23,  4.88it/s, bound:0 nc:5 ncall:575 eff:30.4% logz-ratio=196087.93+/-0.15 dlogz:0.896>0.10]\u001b[A\n",
      "176it [00:23,  5.25it/s, bound:0 nc:4 ncall:579 eff:30.4% logz-ratio=196087.94+/-0.15 dlogz:0.885>0.10]\u001b[A\n",
      "177it [00:23,  5.51it/s, bound:0 nc:4 ncall:583 eff:30.4% logz-ratio=196087.94+/-0.15 dlogz:0.875>0.10]\u001b[A\n",
      "178it [00:23,  6.11it/s, bound:0 nc:3 ncall:586 eff:30.4% logz-ratio=196087.95+/-0.15 dlogz:0.865>0.10]\u001b[A\n",
      "179it [00:23,  6.13it/s, bound:0 nc:4 ncall:590 eff:30.3% logz-ratio=196087.96+/-0.14 dlogz:0.855>0.10]\u001b[A\n",
      "180it [00:23,  5.45it/s, bound:0 nc:6 ncall:596 eff:30.2% logz-ratio=196087.97+/-0.14 dlogz:0.845>0.10]\u001b[A\n",
      "182it [00:24,  4.79it/s, bound:0 nc:13 ncall:610 eff:29.8% logz-ratio=196087.98+/-0.14 dlogz:0.826>0.10]\u001b[A\n",
      "183it [00:24,  5.18it/s, bound:0 nc:4 ncall:614 eff:29.8% logz-ratio=196087.99+/-0.14 dlogz:0.816>0.10] \u001b[A\n",
      "184it [00:25,  3.39it/s, bound:0 nc:14 ncall:628 eff:29.3% logz-ratio=196087.99+/-0.14 dlogz:0.807>0.10]\u001b[A\n",
      "185it [00:25,  3.76it/s, bound:0 nc:5 ncall:633 eff:29.2% logz-ratio=196088.00+/-0.14 dlogz:0.808>0.10] \u001b[A\n",
      "186it [00:25,  3.90it/s, bound:0 nc:6 ncall:639 eff:29.1% logz-ratio=196088.01+/-0.14 dlogz:0.799>0.10]\u001b[A\n",
      "188it [00:25,  4.79it/s, bound:0 nc:4 ncall:644 eff:29.2% logz-ratio=196088.02+/-0.14 dlogz:0.780>0.10]\u001b[A\n",
      "190it [00:26,  5.75it/s, bound:0 nc:2 ncall:648 eff:29.3% logz-ratio=196088.03+/-0.14 dlogz:0.763>0.10]\u001b[A\n",
      "192it [00:26,  5.75it/s, bound:0 nc:8 ncall:657 eff:29.2% logz-ratio=196088.05+/-0.14 dlogz:0.745>0.10]\u001b[A\n",
      "193it [00:26,  3.28it/s, bound:0 nc:16 ncall:673 eff:28.7% logz-ratio=196088.05+/-0.14 dlogz:0.737>0.10]\u001b[A\n",
      "194it [00:27,  3.99it/s, bound:0 nc:3 ncall:676 eff:28.7% logz-ratio=196088.06+/-0.14 dlogz:0.728>0.10] \u001b[A\n",
      "195it [00:27,  4.05it/s, bound:0 nc:6 ncall:682 eff:28.6% logz-ratio=196088.06+/-0.14 dlogz:0.720>0.10]\u001b[A\n",
      "196it [00:27,  3.47it/s, bound:0 nc:10 ncall:692 eff:28.3% logz-ratio=196088.07+/-0.14 dlogz:0.712>0.10]\u001b[A\n",
      "197it [00:28,  2.61it/s, bound:0 nc:16 ncall:708 eff:27.8% logz-ratio=196088.08+/-0.14 dlogz:0.704>0.10]\u001b[A\n",
      "198it [00:28,  2.61it/s, bound:0 nc:10 ncall:718 eff:27.6% logz-ratio=196088.08+/-0.14 dlogz:0.696>0.10]\u001b[A\n",
      "199it [00:28,  3.30it/s, bound:0 nc:3 ncall:721 eff:27.6% logz-ratio=196088.09+/-0.14 dlogz:0.688>0.10] \u001b[A\n",
      "201it [00:29,  3.87it/s, bound:0 nc:7 ncall:729 eff:27.6% logz-ratio=196088.10+/-0.14 dlogz:0.672>0.10]\u001b[A\n",
      "202it [00:29,  3.81it/s, bound:0 nc:7 ncall:736 eff:27.4% logz-ratio=196088.11+/-0.14 dlogz:0.665>0.10]\u001b[A\n",
      "204it [00:29,  4.47it/s, bound:0 nc:6 ncall:743 eff:27.5% logz-ratio=196088.12+/-0.14 dlogz:0.650>0.10]\u001b[A\n",
      "205it [00:31,  1.45it/s, bound:0 nc:47 ncall:790 eff:25.9% logz-ratio=196088.12+/-0.14 dlogz:0.642>0.10]\u001b[A\n",
      "206it [00:31,  1.56it/s, bound:0 nc:14 ncall:804 eff:25.6% logz-ratio=196088.13+/-0.14 dlogz:0.635>0.10]\u001b[A\n",
      "207it [00:32,  1.80it/s, bound:0 nc:9 ncall:813 eff:25.5% logz-ratio=196088.13+/-0.14 dlogz:0.628>0.10] \u001b[A\n",
      "208it [00:32,  2.30it/s, bound:0 nc:4 ncall:817 eff:25.5% logz-ratio=196088.14+/-0.14 dlogz:0.621>0.10]\u001b[A\n",
      "209it [00:32,  2.93it/s, bound:0 nc:3 ncall:820 eff:25.5% logz-ratio=196088.14+/-0.14 dlogz:0.613>0.10]\u001b[A\n",
      "210it [00:33,  2.64it/s, bound:0 nc:12 ncall:832 eff:25.2% logz-ratio=196088.15+/-0.14 dlogz:0.607>0.10]\u001b[A\n",
      "211it [00:33,  1.89it/s, bound:0 nc:23 ncall:855 eff:24.7% logz-ratio=196088.15+/-0.14 dlogz:0.600>0.10]\u001b[A\n",
      "212it [00:34,  1.76it/s, bound:0 nc:17 ncall:872 eff:24.3% logz-ratio=196088.16+/-0.14 dlogz:0.593>0.10]\u001b[A\n",
      "213it [00:35,  1.86it/s, bound:0 nc:12 ncall:884 eff:24.1% logz-ratio=196088.16+/-0.14 dlogz:0.586>0.10]\u001b[A\n",
      "215it [00:35,  2.46it/s, bound:0 nc:4 ncall:889 eff:24.2% logz-ratio=196088.17+/-0.14 dlogz:0.573>0.10] \u001b[A\n",
      "217it [00:35,  2.66it/s, bound:0 nc:14 ncall:905 eff:24.0% logz-ratio=196088.18+/-0.14 dlogz:0.560>0.10]\u001b[A\n",
      "218it [00:36,  3.22it/s, bound:0 nc:4 ncall:909 eff:24.0% logz-ratio=196088.19+/-0.14 dlogz:0.554>0.10] \u001b[A\n",
      "220it [00:36,  3.71it/s, bound:0 nc:8 ncall:918 eff:24.0% logz-ratio=196088.20+/-0.14 dlogz:0.542>0.10]\u001b[A\n",
      "221it [00:36,  4.23it/s, bound:0 nc:4 ncall:922 eff:24.0% logz-ratio=196088.20+/-0.14 dlogz:0.536>0.10]\u001b[A\n",
      "222it [00:36,  4.95it/s, bound:0 nc:3 ncall:925 eff:24.0% logz-ratio=196088.21+/-0.14 dlogz:0.530>0.10]\u001b[A\n",
      "223it [00:36,  5.60it/s, bound:0 nc:3 ncall:928 eff:24.0% logz-ratio=196088.21+/-0.14 dlogz:0.524>0.10]\u001b[A\n",
      "225it [00:37,  6.25it/s, bound:0 nc:4 ncall:934 eff:24.1% logz-ratio=196088.22+/-0.13 dlogz:0.512>0.10]\u001b[A\n",
      "226it [00:37,  5.15it/s, bound:0 nc:7 ncall:941 eff:24.0% logz-ratio=196088.22+/-0.13 dlogz:0.506>0.10]\u001b[A\n",
      "227it [00:37,  3.24it/s, bound:0 nc:15 ncall:956 eff:23.7% logz-ratio=196088.23+/-0.13 dlogz:0.501>0.10]\u001b[A\n",
      "228it [00:38,  3.38it/s, bound:0 nc:7 ncall:963 eff:23.7% logz-ratio=196088.23+/-0.13 dlogz:0.495>0.10] \u001b[A\n",
      "229it [00:38,  4.10it/s, bound:0 nc:3 ncall:966 eff:23.7% logz-ratio=196088.24+/-0.13 dlogz:0.490>0.10]\u001b[A\n",
      "230it [00:39,  2.01it/s, bound:0 nc:29 ncall:995 eff:23.1% logz-ratio=196088.24+/-0.13 dlogz:0.484>0.10]\u001b[A\n",
      "231it [00:39,  2.46it/s, bound:0 nc:5 ncall:1000 eff:23.1% logz-ratio=196088.24+/-0.13 dlogz:0.479>0.10]\u001b[A\n",
      "233it [00:40,  2.59it/s, bound:0 nc:17 ncall:1018 eff:22.9% logz-ratio=196088.25+/-0.13 dlogz:0.468>0.10]\u001b[A\n",
      "234it [00:41,  1.97it/s, bound:0 nc:21 ncall:1039 eff:22.5% logz-ratio=196088.26+/-0.13 dlogz:0.463>0.10]\u001b[A\n",
      "235it [00:41,  2.56it/s, bound:0 nc:3 ncall:1042 eff:22.6% logz-ratio=196088.26+/-0.13 dlogz:0.458>0.10] \u001b[A\n",
      "236it [00:41,  2.73it/s, bound:0 nc:8 ncall:1050 eff:22.5% logz-ratio=196088.26+/-0.13 dlogz:0.453>0.10]\u001b[A\n",
      "237it [00:41,  3.44it/s, bound:0 nc:3 ncall:1053 eff:22.5% logz-ratio=196088.27+/-0.13 dlogz:0.448>0.10]\u001b[A\n",
      "238it [00:41,  3.99it/s, bound:0 nc:4 ncall:1057 eff:22.5% logz-ratio=196088.27+/-0.13 dlogz:0.443>0.10]\u001b[A\n",
      "240it [00:41,  5.17it/s, bound:0 nc:1 ncall:1060 eff:22.6% logz-ratio=196088.28+/-0.13 dlogz:0.433>0.10]\u001b[A\n",
      "241it [00:42,  2.84it/s, bound:0 nc:19 ncall:1079 eff:22.3% logz-ratio=196088.28+/-0.13 dlogz:0.429>0.10]\u001b[A\n",
      "242it [00:43,  2.04it/s, bound:0 nc:21 ncall:1100 eff:22.0% logz-ratio=196088.29+/-0.13 dlogz:0.424>0.10]\u001b[A\n",
      "243it [00:43,  2.50it/s, bound:0 nc:5 ncall:1105 eff:22.0% logz-ratio=196088.29+/-0.13 dlogz:0.419>0.10] \u001b[A\n",
      "244it [00:43,  2.69it/s, bound:0 nc:8 ncall:1113 eff:21.9% logz-ratio=196088.29+/-0.13 dlogz:0.415>0.10]\u001b[A\n",
      "245it [00:44,  2.46it/s, bound:0 nc:13 ncall:1126 eff:21.8% logz-ratio=196088.30+/-0.13 dlogz:0.410>0.10]\u001b[A\n",
      "246it [00:44,  2.50it/s, bound:0 nc:10 ncall:1136 eff:21.7% logz-ratio=196088.30+/-0.13 dlogz:0.406>0.10]\u001b[A\n",
      "247it [00:46,  1.22it/s, bound:0 nc:48 ncall:1184 eff:20.9% logz-ratio=196088.30+/-0.13 dlogz:0.401>0.10]\u001b[A\n"
     ]
    },
    {
     "name": "stdout",
     "output_type": "stream",
     "text": [
      "248it [00:47,  1.08it/s, bound:0 nc:31 ncall:1215 eff:20.4% logz-ratio=196088.31+/-0.13 dlogz:0.397>0.10]\u001b[A\n",
      "249it [00:48,  1.08it/s, bound:0 nc:25 ncall:1240 eff:20.1% logz-ratio=196088.31+/-0.13 dlogz:0.392>0.10]\u001b[A\n",
      "250it [00:49,  1.27it/s, bound:0 nc:12 ncall:1252 eff:20.0% logz-ratio=196088.31+/-0.13 dlogz:0.388>0.10]\u001b[A\n",
      "251it [00:49,  1.48it/s, bound:0 nc:11 ncall:1263 eff:19.9% logz-ratio=196088.32+/-0.13 dlogz:0.384>0.10]\u001b[A\n",
      "252it [00:49,  1.73it/s, bound:0 nc:9 ncall:1272 eff:19.8% logz-ratio=196088.32+/-0.13 dlogz:0.380>0.10] \u001b[A\n",
      "254it [00:50,  2.07it/s, bound:0 nc:13 ncall:1286 eff:19.8% logz-ratio=196088.33+/-0.13 dlogz:0.371>0.10]\u001b[A\n",
      "255it [00:50,  2.68it/s, bound:0 nc:3 ncall:1289 eff:19.8% logz-ratio=196088.33+/-0.13 dlogz:0.367>0.10] \u001b[A\n",
      "256it [00:51,  1.82it/s, bound:0 nc:25 ncall:1314 eff:19.5% logz-ratio=196088.33+/-0.13 dlogz:0.363>0.10]\u001b[A\n",
      "257it [00:52,  1.37it/s, bound:0 nc:30 ncall:1344 eff:19.1% logz-ratio=196088.34+/-0.13 dlogz:0.359>0.10]\u001b[A\n",
      "258it [00:53,  1.51it/s, bound:0 nc:13 ncall:1357 eff:19.0% logz-ratio=196088.34+/-0.13 dlogz:0.356>0.10]\u001b[A\n",
      "259it [00:53,  2.00it/s, bound:0 nc:3 ncall:1360 eff:19.0% logz-ratio=196088.34+/-0.13 dlogz:0.352>0.10] \u001b[A\n",
      "261it [00:53,  2.55it/s, bound:0 nc:5 ncall:1367 eff:19.1% logz-ratio=196088.35+/-0.13 dlogz:0.344>0.10]\u001b[A\n",
      "262it [00:55,  1.17it/s, bound:0 nc:51 ncall:1418 eff:18.5% logz-ratio=196088.35+/-0.13 dlogz:0.340>0.10]\u001b[A\n",
      "264it [00:57,  1.05it/s, bound:0 nc:60 ncall:1479 eff:17.8% logz-ratio=196088.36+/-0.13 dlogz:0.333>0.10]\u001b[A\n",
      "265it [00:57,  1.38it/s, bound:0 nc:5 ncall:1484 eff:17.9% logz-ratio=196088.36+/-0.13 dlogz:0.330>0.10] \u001b[A\n",
      "267it [00:58,  1.81it/s, bound:0 nc:7 ncall:1492 eff:17.9% logz-ratio=196088.36+/-0.13 dlogz:0.322>0.10]\u001b[A\n",
      "268it [00:58,  1.72it/s, bound:0 nc:17 ncall:1509 eff:17.8% logz-ratio=196088.37+/-0.13 dlogz:0.319>0.10]\u001b[A\n",
      "269it [00:59,  1.70it/s, bound:0 nc:16 ncall:1525 eff:17.6% logz-ratio=196088.37+/-0.13 dlogz:0.316>0.10]\u001b[A\n",
      "270it [01:00,  1.66it/s, bound:0 nc:17 ncall:1542 eff:17.5% logz-ratio=196088.37+/-0.13 dlogz:0.312>0.10]\u001b[A\n",
      "272it [01:00,  1.93it/s, bound:0 nc:16 ncall:1559 eff:17.4% logz-ratio=196088.38+/-0.13 dlogz:0.305>0.10]\u001b[A\n",
      "273it [01:05,  1.63s/it, bound:0 nc:113 ncall:1672 eff:16.3% logz-ratio=196088.38+/-0.13 dlogz:0.302>0.10]\u001b[A\n",
      "275it [01:05,  1.19s/it, bound:0 nc:6 ncall:1680 eff:16.4% logz-ratio=196088.38+/-0.13 dlogz:0.296>0.10]  \u001b[A\n",
      "277it [01:05,  1.17it/s, bound:0 nc:3 ncall:1684 eff:16.4% logz-ratio=196088.39+/-0.13 dlogz:0.289>0.10]\u001b[A\n",
      "278it [01:05,  1.50it/s, bound:0 nc:6 ncall:1690 eff:16.4% logz-ratio=196088.39+/-0.13 dlogz:0.286>0.10]\u001b[A\n",
      "279it [01:06,  1.63it/s, bound:0 nc:13 ncall:1703 eff:16.4% logz-ratio=196088.39+/-0.13 dlogz:0.283>0.10]\u001b[A\n",
      "280it [01:06,  1.67it/s, bound:0 nc:15 ncall:1718 eff:16.3% logz-ratio=196088.40+/-0.13 dlogz:0.280>0.10]\u001b[A\n",
      "281it [01:07,  1.61it/s, bound:0 nc:18 ncall:1736 eff:16.2% logz-ratio=196088.40+/-0.13 dlogz:0.277>0.10]\u001b[A\n",
      "282it [01:08,  1.62it/s, bound:0 nc:16 ncall:1752 eff:16.1% logz-ratio=196088.40+/-0.13 dlogz:0.274>0.10]\u001b[A\n",
      "283it [01:08,  1.73it/s, bound:0 nc:13 ncall:1765 eff:16.0% logz-ratio=196088.40+/-0.13 dlogz:0.271>0.10]\u001b[A\n",
      "284it [01:08,  1.97it/s, bound:0 nc:9 ncall:1774 eff:16.0% logz-ratio=196088.41+/-0.13 dlogz:0.268>0.10] \u001b[A\n",
      "285it [01:09,  2.03it/s, bound:0 nc:12 ncall:1786 eff:16.0% logz-ratio=196088.41+/-0.13 dlogz:0.265>0.10]\u001b[A\n",
      "286it [01:10,  1.57it/s, bound:0 nc:26 ncall:1812 eff:15.8% logz-ratio=196088.41+/-0.13 dlogz:0.263>0.10]\u001b[A\n",
      "287it [01:10,  1.75it/s, bound:0 nc:11 ncall:1823 eff:15.7% logz-ratio=196088.41+/-0.13 dlogz:0.260>0.10]\u001b[A\n",
      "288it [01:11,  1.32it/s, bound:0 nc:32 ncall:1855 eff:15.5% logz-ratio=196088.42+/-0.13 dlogz:0.257>0.10]\u001b[A\n",
      "289it [01:12,  1.41it/s, bound:0 nc:16 ncall:1871 eff:15.4% logz-ratio=196088.42+/-0.13 dlogz:0.254>0.10]\u001b[A\n",
      "290it [01:12,  1.72it/s, bound:0 nc:7 ncall:1878 eff:15.4% logz-ratio=196088.42+/-0.13 dlogz:0.251>0.10] \u001b[A\n",
      "292it [01:13,  1.91it/s, bound:0 nc:18 ncall:1898 eff:15.4% logz-ratio=196088.42+/-0.13 dlogz:0.246>0.10]\u001b[A\n",
      "293it [01:14,  1.67it/s, bound:0 nc:20 ncall:1918 eff:15.3% logz-ratio=196088.43+/-0.13 dlogz:0.243>0.10]\u001b[A\n",
      "294it [01:14,  2.15it/s, bound:0 nc:4 ncall:1922 eff:15.3% logz-ratio=196088.43+/-0.13 dlogz:0.241>0.10] \u001b[A\n",
      "296it [01:14,  2.72it/s, bound:0 nc:5 ncall:1929 eff:15.3% logz-ratio=196088.43+/-0.13 dlogz:0.236>0.10]\u001b[A\n",
      "297it [01:15,  2.76it/s, bound:0 nc:9 ncall:1938 eff:15.3% logz-ratio=196088.44+/-0.13 dlogz:0.233>0.10]\u001b[A\n",
      "298it [01:17,  1.16it/s, bound:0 nc:53 ncall:1991 eff:15.0% logz-ratio=196088.44+/-0.13 dlogz:0.231>0.10]\u001b[A\n",
      "299it [01:17,  1.39it/s, bound:0 nc:10 ncall:2001 eff:14.9% logz-ratio=196088.44+/-0.13 dlogz:0.228>0.10]\u001b[A\n",
      "300it [01:18,  1.38it/s, bound:0 nc:19 ncall:2020 eff:14.9% logz-ratio=196088.44+/-0.13 dlogz:0.226>0.10]\u001b[A\n",
      "302it [01:18,  1.72it/s, bound:0 nc:11 ncall:2033 eff:14.9% logz-ratio=196088.44+/-0.13 dlogz:0.221>0.10]\u001b[A\n",
      "303it [01:19,  1.53it/s, bound:0 nc:21 ncall:2054 eff:14.8% logz-ratio=196088.45+/-0.13 dlogz:0.219>0.10]\u001b[A\n",
      "304it [01:20,  1.43it/s, bound:0 nc:21 ncall:2075 eff:14.7% logz-ratio=196088.45+/-0.13 dlogz:0.216>0.10]\u001b[A\n",
      "305it [01:20,  1.56it/s, bound:0 nc:13 ncall:2088 eff:14.6% logz-ratio=196088.45+/-0.13 dlogz:0.214>0.10]\u001b[A\n",
      "306it [01:21,  1.70it/s, bound:0 nc:12 ncall:2100 eff:14.6% logz-ratio=196088.45+/-0.13 dlogz:0.212>0.10]\u001b[A\n",
      "307it [01:21,  2.18it/s, bound:0 nc:4 ncall:2104 eff:14.6% logz-ratio=196088.45+/-0.13 dlogz:0.210>0.10] \u001b[A\n",
      "309it [01:24,  1.42it/s, bound:0 nc:67 ncall:2172 eff:14.2% logz-ratio=196088.46+/-0.13 dlogz:0.205>0.10]\u001b[A\n",
      "310it [01:24,  1.81it/s, bound:0 nc:5 ncall:2177 eff:14.2% logz-ratio=196088.46+/-0.13 dlogz:0.203>0.10] \u001b[A\n",
      "311it [01:24,  2.20it/s, bound:0 nc:6 ncall:2183 eff:14.2% logz-ratio=196088.46+/-0.13 dlogz:0.201>0.10]\u001b[A\n",
      "312it [01:26,  1.19it/s, bound:0 nc:46 ncall:2229 eff:14.0% logz-ratio=196088.46+/-0.13 dlogz:0.199>0.10]\u001b[A\n",
      "313it [01:26,  1.55it/s, bound:0 nc:5 ncall:2234 eff:14.0% logz-ratio=196088.47+/-0.13 dlogz:0.197>0.10] \u001b[A\n",
      "314it [01:27,  1.53it/s, bound:0 nc:18 ncall:2252 eff:13.9% logz-ratio=196088.47+/-0.13 dlogz:0.195>0.10]\u001b[A\n",
      "315it [01:27,  1.42it/s, bound:0 nc:22 ncall:2274 eff:13.9% logz-ratio=196088.47+/-0.13 dlogz:0.193>0.10]\u001b[A\n",
      "316it [01:28,  1.71it/s, bound:0 nc:8 ncall:2282 eff:13.8% logz-ratio=196088.47+/-0.13 dlogz:0.191>0.10] \u001b[A\n",
      "317it [01:29,  1.49it/s, bound:0 nc:23 ncall:2305 eff:13.8% logz-ratio=196088.47+/-0.13 dlogz:0.189>0.10]\u001b[A\n",
      "318it [01:29,  1.98it/s, bound:0 nc:3 ncall:2308 eff:13.8% logz-ratio=196088.47+/-0.13 dlogz:0.187>0.10] \u001b[A\n",
      "319it [01:32,  1.36s/it, bound:0 nc:89 ncall:2397 eff:13.3% logz-ratio=196088.48+/-0.13 dlogz:0.185>0.10]\u001b[A\n",
      "320it [01:34,  1.45s/it, bound:0 nc:44 ncall:2441 eff:13.1% logz-ratio=196088.48+/-0.13 dlogz:0.183>0.10]\u001b[A\n",
      "321it [01:34,  1.09s/it, bound:0 nc:6 ncall:2447 eff:13.1% logz-ratio=196088.48+/-0.13 dlogz:0.181>0.10] \u001b[A\n",
      "323it [01:36,  1.03s/it, bound:0 nc:46 ncall:2494 eff:13.0% logz-ratio=196088.48+/-0.13 dlogz:0.177>0.10]\u001b[A\n",
      "324it [01:37,  1.01it/s, bound:0 nc:23 ncall:2517 eff:12.9% logz-ratio=196088.48+/-0.13 dlogz:0.175>0.10]\u001b[A\n",
      "325it [01:37,  1.11it/s, bound:0 nc:18 ncall:2535 eff:12.8% logz-ratio=196088.48+/-0.13 dlogz:0.173>0.10]\u001b[A\n",
      "326it [01:38,  1.37it/s, bound:0 nc:8 ncall:2543 eff:12.8% logz-ratio=196088.49+/-0.13 dlogz:0.171>0.10] \u001b[A\n",
      "327it [01:39,  1.22it/s, bound:0 nc:27 ncall:2570 eff:12.7% logz-ratio=196088.49+/-0.13 dlogz:0.170>0.10]\u001b[A\n",
      "328it [01:39,  1.42it/s, bound:0 nc:11 ncall:2581 eff:12.7% logz-ratio=196088.49+/-0.12 dlogz:0.168>0.10]\u001b[A\n",
      "329it [01:41,  1.01it/s, bound:0 nc:43 ncall:2624 eff:12.5% logz-ratio=196088.49+/-0.12 dlogz:0.166>0.10]\u001b[A\n",
      "330it [01:41,  1.37it/s, bound:0 nc:3 ncall:2627 eff:12.6% logz-ratio=196088.49+/-0.12 dlogz:0.164>0.10] \u001b[A\n",
      "331it [01:42,  1.22it/s, bound:0 nc:27 ncall:2654 eff:12.5% logz-ratio=196088.49+/-0.12 dlogz:0.163>0.10]\u001b[A\n",
      "332it [01:43,  1.19it/s, bound:0 nc:23 ncall:2677 eff:12.4% logz-ratio=196088.50+/-0.12 dlogz:0.161>0.10]\u001b[A\n",
      "333it [01:44,  1.01s/it, bound:0 nc:37 ncall:2714 eff:12.3% logz-ratio=196088.50+/-0.12 dlogz:0.159>0.10]\u001b[A\n",
      "334it [01:45,  1.27it/s, bound:0 nc:7 ncall:2721 eff:12.3% logz-ratio=196088.50+/-0.12 dlogz:0.158>0.10] \u001b[A\n",
      "335it [01:46,  1.08s/it, bound:0 nc:47 ncall:2768 eff:12.1% logz-ratio=196088.50+/-0.12 dlogz:0.156>0.10]\u001b[A\n",
      "336it [01:47,  1.18it/s, bound:0 nc:8 ncall:2776 eff:12.1% logz-ratio=196088.50+/-0.12 dlogz:0.154>0.10] \u001b[A\n",
      "337it [01:47,  1.19it/s, bound:0 nc:22 ncall:2798 eff:12.0% logz-ratio=196088.50+/-0.12 dlogz:0.153>0.10]\u001b[A\n",
      "338it [01:48,  1.45it/s, bound:0 nc:9 ncall:2807 eff:12.0% logz-ratio=196088.50+/-0.12 dlogz:0.151>0.10] \u001b[A\n",
      "339it [01:51,  1.32s/it, bound:0 nc:75 ncall:2882 eff:11.8% logz-ratio=196088.50+/-0.12 dlogz:0.149>0.10]\u001b[A\n",
      "340it [01:53,  1.49s/it, bound:0 nc:50 ncall:2932 eff:11.6% logz-ratio=196088.51+/-0.12 dlogz:0.148>0.10]\u001b[A\n",
      "341it [01:54,  1.57s/it, bound:0 nc:47 ncall:2979 eff:11.4% logz-ratio=196088.51+/-0.12 dlogz:0.146>0.10]\u001b[A\n",
      "342it [01:56,  1.50s/it, bound:0 nc:35 ncall:3014 eff:11.3% logz-ratio=196088.51+/-0.12 dlogz:0.145>0.10]\u001b[A\n",
      "343it [01:56,  1.10s/it, bound:0 nc:4 ncall:3018 eff:11.4% logz-ratio=196088.51+/-0.12 dlogz:0.143>0.10] \u001b[A\n",
      "344it [01:59,  1.71s/it, bound:0 nc:84 ncall:3102 eff:11.1% logz-ratio=196088.51+/-0.12 dlogz:0.142>0.10]\u001b[A\n",
      "345it [02:00,  1.41s/it, bound:0 nc:19 ncall:3121 eff:11.1% logz-ratio=196088.51+/-0.12 dlogz:0.140>0.10]\u001b[A\n",
      "346it [02:03,  2.03s/it, bound:0 nc:93 ncall:3214 eff:10.8% logz-ratio=196088.51+/-0.12 dlogz:0.139>0.10]\u001b[A\n",
      "347it [02:05,  1.90s/it, bound:0 nc:42 ncall:3256 eff:10.7% logz-ratio=196088.51+/-0.12 dlogz:0.137>0.10]\u001b[A\n",
      "348it [02:06,  1.73s/it, bound:0 nc:36 ncall:3292 eff:10.6% logz-ratio=196088.52+/-0.12 dlogz:0.136>0.10]\u001b[A\n",
      "349it [02:07,  1.55s/it, bound:0 nc:30 ncall:3322 eff:10.5% logz-ratio=196088.52+/-0.12 dlogz:0.135>0.10]\u001b[A\n",
      "350it [02:09,  1.65s/it, bound:0 nc:50 ncall:3372 eff:10.4% logz-ratio=196088.52+/-0.12 dlogz:0.133>0.10]\u001b[A\n",
      "351it [02:10,  1.54s/it, bound:0 nc:34 ncall:3406 eff:10.3% logz-ratio=196088.52+/-0.12 dlogz:0.132>0.10]\u001b[A\n",
      "352it [02:11,  1.38s/it, bound:0 nc:27 ncall:3433 eff:10.3% logz-ratio=196088.52+/-0.12 dlogz:0.130>0.10]\u001b[A\n",
      "353it [02:13,  1.39s/it, bound:0 nc:38 ncall:3471 eff:10.2% logz-ratio=196088.52+/-0.12 dlogz:0.129>0.10]\u001b[A\n",
      "354it [02:14,  1.27s/it, bound:0 nc:26 ncall:3497 eff:10.1% logz-ratio=196088.52+/-0.12 dlogz:0.128>0.10]\u001b[A\n",
      "355it [02:15,  1.32s/it, bound:0 nc:38 ncall:3535 eff:10.0% logz-ratio=196088.52+/-0.12 dlogz:0.126>0.10]\u001b[A\n",
      "356it [02:15,  1.04it/s, bound:0 nc:3 ncall:3538 eff:10.1% logz-ratio=196088.53+/-0.12 dlogz:0.125>0.10] \u001b[A\n",
      "357it [02:16,  1.29it/s, bound:0 nc:9 ncall:3547 eff:10.1% logz-ratio=196088.53+/-0.12 dlogz:0.124>0.10]\u001b[A\n",
      "358it [02:17,  1.05s/it, bound:0 nc:45 ncall:3592 eff:10.0% logz-ratio=196088.53+/-0.12 dlogz:0.123>0.10]\u001b[A"
     ]
    },
    {
     "name": "stderr",
     "output_type": "stream",
     "text": [
      "/Users/zohaggard/anaconda2/envs/igwn-py37/lib/python3.7/site-packages/ipykernel_launcher.py:10: RuntimeWarning: overflow encountered in exp\n",
      "  # Remove the CWD from sys.path while we load stuff.\n"
     ]
    },
    {
     "name": "stdout",
     "output_type": "stream",
     "text": [
      "\n",
      "359it [02:18,  1.09it/s, bound:1 nc:15 ncall:3607 eff:10.0% logz-ratio=196088.53+/-0.12 dlogz:0.121>0.10]\u001b[A\n",
      "360it [02:18,  1.28it/s, bound:1 nc:11 ncall:3618 eff:10.0% logz-ratio=196088.53+/-0.12 dlogz:0.120>0.10]\u001b[A\n",
      "361it [02:19,  1.38it/s, bound:1 nc:15 ncall:3633 eff:9.9% logz-ratio=196088.53+/-0.12 dlogz:0.119>0.10] \u001b[A\n",
      "362it [02:20,  1.38it/s, bound:1 nc:18 ncall:3651 eff:9.9% logz-ratio=196088.53+/-0.12 dlogz:0.118>0.10]\u001b[A\n",
      "363it [02:20,  1.52it/s, bound:1 nc:12 ncall:3663 eff:9.9% logz-ratio=196088.53+/-0.12 dlogz:0.116>0.10]\u001b[A"
     ]
    },
    {
     "name": "stderr",
     "output_type": "stream",
     "text": [
      "/Users/zohaggard/anaconda2/envs/igwn-py37/lib/python3.7/site-packages/ipykernel_launcher.py:10: RuntimeWarning: overflow encountered in exp\n",
      "  # Remove the CWD from sys.path while we load stuff.\n"
     ]
    },
    {
     "name": "stdout",
     "output_type": "stream",
     "text": [
      "\n",
      "364it [02:21,  1.64it/s, bound:2 nc:12 ncall:3675 eff:9.9% logz-ratio=196088.53+/-0.12 dlogz:0.116>0.10]\u001b[A\n",
      "365it [02:21,  1.59it/s, bound:2 nc:17 ncall:3692 eff:9.9% logz-ratio=196088.54+/-0.12 dlogz:0.115>0.10]\u001b[A\n",
      "366it [02:22,  1.63it/s, bound:2 nc:14 ncall:3706 eff:9.9% logz-ratio=196088.54+/-0.12 dlogz:0.113>0.10]\u001b[A\n",
      "367it [02:23,  1.58it/s, bound:2 nc:17 ncall:3723 eff:9.9% logz-ratio=196088.54+/-0.12 dlogz:0.112>0.10]\u001b[A"
     ]
    },
    {
     "name": "stderr",
     "output_type": "stream",
     "text": [
      "/Users/zohaggard/anaconda2/envs/igwn-py37/lib/python3.7/site-packages/ipykernel_launcher.py:10: RuntimeWarning: overflow encountered in exp\n",
      "  # Remove the CWD from sys.path while we load stuff.\n"
     ]
    },
    {
     "name": "stdout",
     "output_type": "stream",
     "text": [
      "\n",
      "368it [02:23,  1.54it/s, bound:3 nc:17 ncall:3740 eff:9.8% logz-ratio=196088.54+/-0.12 dlogz:0.111>0.10]\u001b[A\n",
      "369it [02:24,  1.45it/s, bound:3 nc:20 ncall:3760 eff:9.8% logz-ratio=196088.54+/-0.12 dlogz:0.110>0.10]\u001b[A\n",
      "370it [02:25,  1.61it/s, bound:3 nc:11 ncall:3771 eff:9.8% logz-ratio=196088.54+/-0.12 dlogz:0.109>0.10]\u001b[A\n",
      "371it [02:25,  1.72it/s, bound:3 nc:12 ncall:3783 eff:9.8% logz-ratio=196088.54+/-0.12 dlogz:0.108>0.10]\u001b[A"
     ]
    },
    {
     "name": "stderr",
     "output_type": "stream",
     "text": [
      "/Users/zohaggard/anaconda2/envs/igwn-py37/lib/python3.7/site-packages/ipykernel_launcher.py:10: RuntimeWarning: overflow encountered in exp\n",
      "  # Remove the CWD from sys.path while we load stuff.\n"
     ]
    },
    {
     "name": "stdout",
     "output_type": "stream",
     "text": [
      "\n",
      "372it [02:26,  1.81it/s, bound:4 nc:11 ncall:3794 eff:9.8% logz-ratio=196088.54+/-0.12 dlogz:0.107>0.10]\u001b[A\n",
      "373it [02:26,  1.75it/s, bound:4 nc:15 ncall:3809 eff:9.8% logz-ratio=196088.54+/-0.12 dlogz:0.105>0.10]\u001b[A\n",
      "374it [02:27,  1.83it/s, bound:4 nc:10 ncall:3819 eff:9.8% logz-ratio=196088.54+/-0.12 dlogz:0.104>0.10]\u001b[A\n",
      "375it [02:27,  1.73it/s, bound:4 nc:14 ncall:3833 eff:9.8% logz-ratio=196088.55+/-0.12 dlogz:0.103>0.10]\u001b[A\n",
      "376it [02:28,  1.52it/s, bound:4 nc:19 ncall:3852 eff:9.8% logz-ratio=196088.55+/-0.12 dlogz:0.102>0.10]\u001b[A"
     ]
    },
    {
     "name": "stderr",
     "output_type": "stream",
     "text": [
      "/Users/zohaggard/anaconda2/envs/igwn-py37/lib/python3.7/site-packages/ipykernel_launcher.py:10: RuntimeWarning: overflow encountered in exp\n",
      "  # Remove the CWD from sys.path while we load stuff.\n"
     ]
    },
    {
     "name": "stdout",
     "output_type": "stream",
     "text": [
      "\n",
      "377it [02:29,  1.42it/s, bound:5 nc:18 ncall:3870 eff:9.7% logz-ratio=196088.55+/-0.12 dlogz:0.101>0.10]\u001b[A\n",
      "378it [02:30,  1.45it/s, bound:5 nc:15 ncall:3885 eff:9.7% logz-ratio=196088.55+/-0.12 dlogz:0.100>0.10]\u001b[A"
     ]
    },
    {
     "name": "stderr",
     "output_type": "stream",
     "text": [
      "22:05 bilby INFO    : Writing checkpoint file /Users/zohaggard/Desktop/LIGOSURF/add_quantummode/NRsurquantumfinal2/Mass100_dist100_nref3_Amp2e-22_CORRECT_resume.pickle\n"
     ]
    },
    {
     "name": "stdout",
     "output_type": "stream",
     "text": [
      "\n",
      "378it [02:30,  2.51it/s, bound:5 nc:1 ncall:3885 eff:12.3% logz-ratio=196088.64+/-0.11 dlogz:0.001>0.10]"
     ]
    },
    {
     "name": "stderr",
     "output_type": "stream",
     "text": [
      "22:05 bilby INFO    : Sampling time: 0:02:26.022587\n",
      "22:05 bilby INFO    : Summary of results:\n",
      "nsamples: 478\n",
      "log_noise_evidence: -208024.559\n",
      "log_evidence: -11935.920 +/-  0.111\n",
      "log_bayes_factor: 196088.639 +/-  0.111\n",
      "\n"
     ]
    },
    {
     "name": "stdout",
     "output_type": "stream",
     "text": [
      "\n",
      "\n"
     ]
    }
   ],
   "source": [
    "result = bilby.run_sampler(\n",
    "            likelihood=likelihood, priors=prior, sampler='dynesty', npoints=100, walks=5, \n",
    "            nact=3, outdir='/Users/zohaggard/Desktop/LIGOSURF/add_quantummode/NRsurquantumfinal2', #change nref5,40\n",
    "            label='Mass{}_dist{}_nref{}_Amp{}_CORRECT'.format(M, dist_mpc, n_ref, amplitude),\n",
    "            resume=False, injection_parameters=dict(freq=84.799,\n",
    "                                                    tau=0.0088))"
   ]
  },
  {
   "cell_type": "code",
   "execution_count": 60,
   "metadata": {},
   "outputs": [
    {
     "data": {
      "image/png": "[encoded data removed]",
      "text/plain": [
       "<Figure size 396x396 with 4 Axes>"
      ]
     },
     "execution_count": 60,
     "metadata": {},
     "output_type": "execute_result"
    }
   ],
   "source": [
    "result.plot_corner()"
   ]
  },
  {
   "cell_type": "code",
   "execution_count": null,
   "metadata": {},
   "outputs": [],
   "source": []
  }
 ],
 "metadata": {
  "kernelspec": {
   "display_name": "igwn-py37",
   "language": "python",
   "name": "igwn-py37"
  },
  "language_info": {
   "codemirror_mode": {
    "name": "ipython",
    "version": 3
   },
   "file_extension": ".py",
   "mimetype": "text/x-python",
   "name": "python",
   "nbconvert_exporter": "python",
   "pygments_lexer": "ipython3",
   "version": "3.7.6"
  }
 },
 "nbformat": 4,
 "nbformat_minor": 2
}
