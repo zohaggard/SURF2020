{
 "cells": [
  {
   "cell_type": "code",
   "execution_count": 74,
   "metadata": {},
   "outputs": [],
   "source": [
    "import gwsurrogate\n",
    "import numpy as np\n",
    "import matplotlib.pyplot as plt\n",
    "import bilby\n",
    "from gwpy.timeseries import TimeSeries"
   ]
  },
  {
   "cell_type": "code",
   "execution_count": 75,
   "metadata": {},
   "outputs": [
    {
     "name": "stderr",
     "output_type": "stream",
     "text": [
      "/Users/zohaggard/anaconda2/envs/igwn-py37/lib/python3.7/site-packages/gwsurrogate/new/precessing_surrogate.py:245: H5pyDeprecationWarning: dataset.value has been deprecated. Use dataset[()] instead.\n",
      "  self.t = h5file['t_ds'].value\n",
      "/Users/zohaggard/anaconda2/envs/igwn-py37/lib/python3.7/site-packages/gwsurrogate/new/precessing_surrogate.py:272: H5pyDeprecationWarning: dataset.value has been deprecated. Use dataset[()] instead.\n",
      "  'coefs': group['%s_coefs'%(key)].value,\n",
      "/Users/zohaggard/anaconda2/envs/igwn-py37/lib/python3.7/site-packages/gwsurrogate/new/precessing_surrogate.py:273: H5pyDeprecationWarning: dataset.value has been deprecated. Use dataset[()] instead.\n",
      "  'bfOrders': group['%s_bfOrders'%(key)].value\n",
      "/Users/zohaggard/anaconda2/envs/igwn-py37/lib/python3.7/site-packages/gwsurrogate/new/precessing_surrogate.py:282: H5pyDeprecationWarning: dataset.value has been deprecated. Use dataset[()] instead.\n",
      "  'coefs': group['%s_%d_coefs'%(key, i)].value,\n",
      "/Users/zohaggard/anaconda2/envs/igwn-py37/lib/python3.7/site-packages/gwsurrogate/new/precessing_surrogate.py:283: H5pyDeprecationWarning: dataset.value has been deprecated. Use dataset[()] instead.\n",
      "  'bfOrders': group['%s_%d_bfOrders'%(key, i)].value\n",
      "/Users/zohaggard/anaconda2/envs/igwn-py37/lib/python3.7/site-packages/gwsurrogate/new/precessing_surrogate.py:733: H5pyDeprecationWarning: dataset.value has been deprecated. Use dataset[()] instead.\n",
      "  self.t = h5file['t_coorb'].value\n",
      "/Users/zohaggard/anaconda2/envs/igwn-py37/lib/python3.7/site-packages/gwsurrogate/new/precessing_surrogate.py:691: H5pyDeprecationWarning: dataset.value has been deprecated. Use dataset[()] instead.\n",
      "  data['EI_basis'] = h5_group['EIBasis'].value\n",
      "/Users/zohaggard/anaconda2/envs/igwn-py37/lib/python3.7/site-packages/gwsurrogate/new/precessing_surrogate.py:692: H5pyDeprecationWarning: dataset.value has been deprecated. Use dataset[()] instead.\n",
      "  data['nodeIndices'] = h5_group['nodeIndices'].value\n",
      "/Users/zohaggard/anaconda2/envs/igwn-py37/lib/python3.7/site-packages/gwsurrogate/new/precessing_surrogate.py:694: H5pyDeprecationWarning: dataset.value has been deprecated. Use dataset[()] instead.\n",
      "  for i in range(len(data['nodeIndices']))]\n",
      "/Users/zohaggard/anaconda2/envs/igwn-py37/lib/python3.7/site-packages/gwsurrogate/new/precessing_surrogate.py:696: H5pyDeprecationWarning: dataset.value has been deprecated. Use dataset[()] instead.\n",
      "  for i in range(len(data['nodeIndices']))]\n"
     ]
    },
    {
     "name": "stdout",
     "output_type": "stream",
     "text": [
      "Loaded NRSur7dq4 model\n"
     ]
    }
   ],
   "source": [
    "sur=gwsurrogate.LoadSurrogate('NRSur7dq4')"
   ]
  },
  {
   "cell_type": "code",
   "execution_count": 76,
   "metadata": {},
   "outputs": [],
   "source": [
    "def sigmoid(x, x0, L, k):\n",
    "    \n",
    "    \"\"\" generate a sigmoid to be mult. to damped sinusoid.\n",
    "        x is time, x0 is the midpoint of the sigmoid, L is the amplitude, and k is the growth \n",
    "    \"\"\"\n",
    "    \n",
    "    sig = []\n",
    "    \n",
    "    for item in x:\n",
    "        value=L/(1+np.exp(-k*(item-x0)))\n",
    "        sig.append(value)\n",
    "    return sig"
   ]
  },
  {
   "cell_type": "code",
   "execution_count": 77,
   "metadata": {},
   "outputs": [],
   "source": [
    "def create_bru_values(m_odd, em, M, a, n_ref):\n",
    "    \n",
    "    \"\"\" \n",
    "    m_odd is odd integer, g_s is string coupling (GR == 1), em is 2,\n",
    "    M is total mass, a is dimensionless spin, and amplitude_qnm is \n",
    "    the amplitude of the mode of interest \n",
    "    \n",
    "    returns amplitude (quantum), omega_real, tau, and tp\n",
    "    \n",
    "    \"\"\"\n",
    "    \n",
    "    g_s = 1/n_ref\n",
    "    c = 3e8\n",
    "    G = 6.67e-11\n",
    "    Msun = 1.989e30\n",
    "    \n",
    "    conversion_w = (c**3)/(G * M * Msun)\n",
    "    R_con = (2 * G * M * Msun) / (c**2)\n",
    "    \n",
    "    r_s = (R_con + np.sqrt((R_con**2) - 4*(a**2)))/2 #units m\n",
    "    omega_real = (m_odd * np.pi /(2 * r_s * n_ref)) * c   #units 1/m --> 1/s\n",
    "    omega_im = - (1/r_s) * (1/(n_ref**2)) * c\n",
    "    \n",
    "    tau = 1/omega_im\n",
    "    tp = 1/omega_real \n",
    "    \n",
    "    print(\"Quantum freq is {}\".format(omega_real/(2*np.pi)))\n",
    "    print(\"Quantum tau is {}\".format(tau))\n",
    "    \n",
    "    return {'omega_real_Q': omega_real, 'omega_img_Q': omega_im,\n",
    "            'tau_Q': tau, 'tp_Q': tp, 'freq_Q': (omega_real/(2*np.pi))}"
   ]
  },
  {
   "cell_type": "code",
   "execution_count": 78,
   "metadata": {},
   "outputs": [],
   "source": [
    "def damped_sine(time, amplitude, tau, tp, omega_real, phase):\n",
    "    \n",
    "    \"\"\"\n",
    "    returns damped complex sine as h (type=array) \n",
    "    assumes that tau is negative number\n",
    "    starts a time tp: anytime before is 0\n",
    "\n",
    "    \"\"\"\n",
    "    \n",
    "    \n",
    "    h = np.zeros(len(time), dtype=np.complex128)\n",
    "    tidx = time >= tp\n",
    "    \n",
    "    damp_arg = (time[tidx])/tau\n",
    "    sin_arg = (omega_real * (time[tidx])) - phase\n",
    "    h[tidx] = amplitude*np.exp(damp_arg) * np.exp((1j*sin_arg)) \n",
    "    \n",
    "    return h"
   ]
  },
  {
   "cell_type": "code",
   "execution_count": 79,
   "metadata": {},
   "outputs": [],
   "source": [
    "def NRsur_Quantummodes(time, q, chiA, chiB, M, dist_mpc, inclination, a, n_ref, amplitude, phase, **kwargs):\n",
    "    \n",
    "    \"\"\" \n",
    "    model that has NR SUR (for given parameters) and associated quantum mode \n",
    "    chiA and chiB take [x,y,x] as input\n",
    "    assumes dt = 1/4096\n",
    "    highest l index is ellMax, assumed to be 4\n",
    "    f_ref=30, and f_low=0\n",
    "    \n",
    "    note: NRSUR peak of waveform packet is at t=0\n",
    "    \n",
    "          spin=0 for now (need to change em otherwise)\n",
    "    \n",
    "    \"\"\"\n",
    "    \n",
    "    #generate NRSUR\n",
    "\n",
    "    f_ref = 30     # Reference frequecny in Hz. The spins are assumed to specified at this frequency\n",
    "    f_low = 0      # initial frequency, f_low=0 returns the full surrogate  \n",
    "      # step size in seconds\n",
    "    ellMax = 4     # Highest l index for modes to use\n",
    "\n",
    "    t, h, dyn = sur(q, chiA, chiB, times=time, f_low=f_low, f_ref=f_ref, \n",
    "                    ellMax=ellMax, M=M, dist_mpc=dist_mpc, units='mks',\n",
    "                    inclination=inclination)\n",
    "    print(t)\n",
    "    bru_values = create_bru_values(m_odd=1, em=0, M=M, a=a, n_ref=n_ref)\n",
    "    \n",
    "    bru_sin = damped_sine(time=time, amplitude=amplitude, \n",
    "                       tau=bru_values['tau_Q'], tp=bru_values['tp_Q'], \n",
    "                       omega_real=bru_values['omega_real_Q'], phase=phase)\n",
    "    \n",
    "    sig = sigmoid(x=time, x0=bru_values['tp_Q']*2, L=amplitude, k=4096)\n",
    "    \n",
    "    h_total = bru_sin*sig/amplitude\n",
    "    \n",
    "    return {'plus':h_total.real, 'cross':h_total.imag}\n",
    "    "
   ]
  },
  {
   "cell_type": "code",
   "execution_count": 80,
   "metadata": {},
   "outputs": [
    {
     "data": {
      "text/plain": [
       "array([-0.84718446, -0.84694032, -0.84669618, ...,  0.01902648,\n",
       "        0.01927062,  0.01951476])"
      ]
     },
     "execution_count": 80,
     "metadata": {},
     "output_type": "execute_result"
    }
   ],
   "source": [
    "injection_waveform.time_array"
   ]
  },
  {
   "cell_type": "code",
   "execution_count": 68,
   "metadata": {},
   "outputs": [
    {
     "data": {
      "text/plain": [
       "array([-0.84718446, -0.84694032, -0.84669618, ...,  0.01902648,\n",
       "        0.01927062,  0.01951476])"
      ]
     },
     "execution_count": 68,
     "metadata": {},
     "output_type": "execute_result"
    }
   ],
   "source": [
    "t"
   ]
  },
  {
   "cell_type": "code",
   "execution_count": 71,
   "metadata": {},
   "outputs": [],
   "source": [
    "injection_parameters = dict(q=1, chiA=[0,0,0], chiB=[0,0,0], M=40, \n",
    "                            dist_mpc=235, inclination=0,\n",
    "                            a=0, n_ref=5,amplitude=1e-21, phase=0,\n",
    "                            ra=0, dec=, psi=0)"
   ]
  },
  {
   "cell_type": "code",
   "execution_count": 72,
   "metadata": {},
   "outputs": [],
   "source": [
    "injection_waveform = bilby.gw.waveform_generator.WaveformGenerator(\n",
    "    time_domain_source_model=NRsur_Quantummodes,\n",
    "    duration=len(t)/4096, sampling_frequency=4096, \n",
    "    start_time=t[0])"
   ]
  },
  {
   "cell_type": "code",
   "execution_count": null,
   "metadata": {},
   "outputs": [],
   "source": []
  },
  {
   "cell_type": "code",
   "execution_count": 73,
   "metadata": {},
   "outputs": [
    {
     "ename": "SyntaxError",
     "evalue": "invalid syntax (<ipython-input-73-b4219c2e754e>, line 4)",
     "output_type": "error",
     "traceback": [
      "\u001b[0;36m  File \u001b[0;32m\"<ipython-input-73-b4219c2e754e>\"\u001b[0;36m, line \u001b[0;32m4\u001b[0m\n\u001b[0;31m    start_time=)\u001b[0m\n\u001b[0m               ^\u001b[0m\n\u001b[0;31mSyntaxError\u001b[0m\u001b[0;31m:\u001b[0m invalid syntax\n"
     ]
    }
   ],
   "source": [
    "ifos = bilby.gw.detector.InterferometerList(['H1', 'L1'])\n",
    "ifos.set_strain_data_from_power_spectral_densities(\n",
    "    duration=len(t)/4096, sampling_frequency=4096,\n",
    "    start_time=)\n",
    "\n",
    "ifos.inject_signal(waveform_generator=injection_waveform,\n",
    "                   parameters=injection_parameters)"
   ]
  },
  {
   "cell_type": "code",
   "execution_count": 215,
   "metadata": {},
   "outputs": [
    {
     "ename": "TypeError",
     "evalue": "set_strain_data_from_power_spectral_densities() missing 2 required positional arguments: 'sampling_frequency' and 'duration'",
     "output_type": "error",
     "traceback": [
      "\u001b[0;31m---------------------------------------------------------------------------\u001b[0m",
      "\u001b[0;31mTypeError\u001b[0m                                 Traceback (most recent call last)",
      "\u001b[0;32m<ipython-input-215-6f82738de9df>\u001b[0m in \u001b[0;36m<module>\u001b[0;34m()\u001b[0m\n\u001b[0;32m----> 1\u001b[0;31m \u001b[0mifos\u001b[0m\u001b[0;34m.\u001b[0m\u001b[0mset_strain_data_from_power_spectral_densities\u001b[0m\u001b[0;34m(\u001b[0m\u001b[0;34m)\u001b[0m\u001b[0;34m\u001b[0m\u001b[0;34m\u001b[0m\u001b[0m\n\u001b[0m",
      "\u001b[0;31mTypeError\u001b[0m: set_strain_data_from_power_spectral_densities() missing 2 required positional arguments: 'sampling_frequency' and 'duration'"
     ]
    }
   ],
   "source": [
    "ifos.set_strain_data_from_power_spectral_densities()"
   ]
  },
  {
   "cell_type": "code",
   "execution_count": 153,
   "metadata": {},
   "outputs": [
    {
     "name": "stdout",
     "output_type": "stream",
     "text": [
      "[-1.         -0.99975586 -0.99951172 ...  0.99926758  0.99951172\n",
      "  0.99975586]\n"
     ]
    }
   ],
   "source": [
    "time=np.arange(-1,1,1/4096)\n",
    "print(time)"
   ]
  },
  {
   "cell_type": "code",
   "execution_count": 56,
   "metadata": {},
   "outputs": [
    {
     "ename": "TypeError",
     "evalue": "unsupported operand type(s) for /: 'list' and 'float'",
     "output_type": "error",
     "traceback": [
      "\u001b[0;31m---------------------------------------------------------------------------\u001b[0m",
      "\u001b[0;31mTypeError\u001b[0m                                 Traceback (most recent call last)",
      "\u001b[0;32m<ipython-input-56-8e9120cf9b85>\u001b[0m in \u001b[0;36m<module>\u001b[0;34m()\u001b[0m\n\u001b[1;32m     10\u001b[0m \u001b[0;31m# dyn stands for dynamics, do dyn.keys() to see contents\u001b[0m\u001b[0;34m\u001b[0m\u001b[0;34m\u001b[0m\u001b[0;34m\u001b[0m\u001b[0m\n\u001b[1;32m     11\u001b[0m times, h, dyn = sur(q, chiA, chiB, times=[0,0.001], f_low=0, ellMax=ellMax, M=M, dist_mpc=dist_mpc,\n\u001b[0;32m---> 12\u001b[0;31m                inclination=inclination, units='mks')\n\u001b[0m",
      "\u001b[0;32m/Users/zohaggard/anaconda2/envs/igwn-py37/lib/python3.7/site-packages/gwsurrogate/surrogate.py\u001b[0m in \u001b[0;36m__call__\u001b[0;34m(self, q, chiA0, chiB0, M, dist_mpc, f_low, f_ref, dt, df, times, freqs, mode_list, ellMax, inclination, phi_ref, precessing_opts, tidal_opts, par_dict, units, skip_param_checks, taper_end_duration)\u001b[0m\n\u001b[1;32m   1852\u001b[0m         \u001b[0;31m# Get dimensionless step size or times/freqs and reference time/freq\u001b[0m\u001b[0;34m\u001b[0m\u001b[0;34m\u001b[0m\u001b[0;34m\u001b[0m\u001b[0m\n\u001b[1;32m   1853\u001b[0m         \u001b[0mdtM\u001b[0m \u001b[0;34m=\u001b[0m \u001b[0;32mNone\u001b[0m \u001b[0;32mif\u001b[0m \u001b[0mdt\u001b[0m \u001b[0;32mis\u001b[0m \u001b[0;32mNone\u001b[0m \u001b[0;32melse\u001b[0m \u001b[0mdt\u001b[0m\u001b[0;34m/\u001b[0m\u001b[0mt_scale\u001b[0m\u001b[0;34m\u001b[0m\u001b[0;34m\u001b[0m\u001b[0m\n\u001b[0;32m-> 1854\u001b[0;31m         \u001b[0mtimesM\u001b[0m \u001b[0;34m=\u001b[0m \u001b[0;32mNone\u001b[0m \u001b[0;32mif\u001b[0m \u001b[0mtimes\u001b[0m \u001b[0;32mis\u001b[0m \u001b[0;32mNone\u001b[0m \u001b[0;32melse\u001b[0m \u001b[0mtimes\u001b[0m\u001b[0;34m/\u001b[0m\u001b[0mt_scale\u001b[0m\u001b[0;34m\u001b[0m\u001b[0;34m\u001b[0m\u001b[0m\n\u001b[0m\u001b[1;32m   1855\u001b[0m         \u001b[0mdfM\u001b[0m \u001b[0;34m=\u001b[0m \u001b[0;32mNone\u001b[0m \u001b[0;32mif\u001b[0m \u001b[0mdf\u001b[0m \u001b[0;32mis\u001b[0m \u001b[0;32mNone\u001b[0m \u001b[0;32melse\u001b[0m \u001b[0mdf\u001b[0m\u001b[0;34m*\u001b[0m\u001b[0mt_scale\u001b[0m\u001b[0;34m\u001b[0m\u001b[0;34m\u001b[0m\u001b[0m\n\u001b[1;32m   1856\u001b[0m         \u001b[0mfreqsM\u001b[0m \u001b[0;34m=\u001b[0m \u001b[0;32mNone\u001b[0m \u001b[0;32mif\u001b[0m \u001b[0mfreqs\u001b[0m \u001b[0;32mis\u001b[0m \u001b[0;32mNone\u001b[0m \u001b[0;32melse\u001b[0m \u001b[0mfreqs\u001b[0m\u001b[0;34m*\u001b[0m\u001b[0mt_scale\u001b[0m\u001b[0;34m\u001b[0m\u001b[0;34m\u001b[0m\u001b[0m\n",
      "\u001b[0;31mTypeError\u001b[0m: unsupported operand type(s) for /: 'list' and 'float'"
     ]
    }
   ],
   "source": [
    "q = 1\n",
    "chiA = [0,0,0]\n",
    "chiB = [0,0,0]      # Reference frequecny in Hz. The spins are assumed to specified at this frequency         # initial frequency, f_low=0 returns the full surrogate\n",
    "M = 40   # Total masss in solar masses\n",
    "dist_mpc = 235     # distance in megaparsecs       # step size in seconds\n",
    "ellMax = 4     # Highest l index for modes to use\n",
    "inclination = 0\n",
    "dt=1/4096\n",
    "\n",
    "# dyn stands for dynamics, do dyn.keys() to see contents\n",
    "times, h, dyn = sur(q, chiA, chiB, times=[0,0.001], f_low=0, ellMax=ellMax, M=M, dist_mpc=dist_mpc,\n",
    "               inclination=inclination, units='mks')"
   ]
  },
  {
   "cell_type": "code",
   "execution_count": 46,
   "metadata": {
    "scrolled": true
   },
   "outputs": [
    {
     "data": {
      "text/plain": [
       "[4.01, 0.801]"
      ]
     },
     "execution_count": 46,
     "metadata": {},
     "output_type": "execute_result"
    }
   ],
   "source": []
  },
  {
   "cell_type": "code",
   "execution_count": 39,
   "metadata": {},
   "outputs": [],
   "source": [
    "times=np.arange(-0.7,0.001,1/4096)"
   ]
  },
  {
   "cell_type": "code",
   "execution_count": 42,
   "metadata": {},
   "outputs": [
    {
     "ename": "Exception",
     "evalue": "times were given as input but returned domain somehow does not match.",
     "output_type": "error",
     "traceback": [
      "\u001b[0;31m---------------------------------------------------------------------------\u001b[0m",
      "\u001b[0;31mException\u001b[0m                                 Traceback (most recent call last)",
      "\u001b[0;32m<ipython-input-42-03324704c2a4>\u001b[0m in \u001b[0;36m<module>\u001b[0;34m()\u001b[0m\n\u001b[1;32m      1\u001b[0m _, h, dyn = sur(q, chiA, chiB, times=times, freqs=None, f_low=f_low, f_ref=f_ref, ellMax=ellMax, M=M, dist_mpc=dist_mpc,\n\u001b[0;32m----> 2\u001b[0;31m                inclination=inclination, units='mks')\n\u001b[0m",
      "\u001b[0;32m/Users/zohaggard/anaconda2/envs/igwn-py37/lib/python3.7/site-packages/gwsurrogate/surrogate.py\u001b[0m in \u001b[0;36m__call__\u001b[0;34m(self, q, chiA0, chiB0, M, dist_mpc, f_low, f_ref, dt, df, times, freqs, mode_list, ellMax, inclination, phi_ref, precessing_opts, tidal_opts, par_dict, units, skip_param_checks, taper_end_duration)\u001b[0m\n\u001b[1;32m   1902\u001b[0m         \u001b[0;32mif\u001b[0m \u001b[0;34m(\u001b[0m\u001b[0mtimes\u001b[0m \u001b[0;32mis\u001b[0m \u001b[0;32mnot\u001b[0m \u001b[0;32mNone\u001b[0m\u001b[0;34m)\u001b[0m\u001b[0;34m:\u001b[0m\u001b[0;34m\u001b[0m\u001b[0;34m\u001b[0m\u001b[0m\n\u001b[1;32m   1903\u001b[0m             \u001b[0;32mif\u001b[0m \u001b[0;32mnot\u001b[0m \u001b[0mnp\u001b[0m\u001b[0;34m.\u001b[0m\u001b[0marray_equal\u001b[0m\u001b[0;34m(\u001b[0m\u001b[0mdomain\u001b[0m\u001b[0;34m,\u001b[0m \u001b[0mtimes\u001b[0m\u001b[0;34m)\u001b[0m\u001b[0;34m:\u001b[0m\u001b[0;34m\u001b[0m\u001b[0;34m\u001b[0m\u001b[0m\n\u001b[0;32m-> 1904\u001b[0;31m                 raise Exception(\"times were given as input but returned \"\n\u001b[0m\u001b[1;32m   1905\u001b[0m                     \"domain somehow does not match.\")\n\u001b[1;32m   1906\u001b[0m         \u001b[0;32mif\u001b[0m \u001b[0;34m(\u001b[0m\u001b[0mfreqs\u001b[0m \u001b[0;32mis\u001b[0m \u001b[0;32mnot\u001b[0m \u001b[0;32mNone\u001b[0m\u001b[0;34m)\u001b[0m\u001b[0;34m:\u001b[0m\u001b[0;34m\u001b[0m\u001b[0;34m\u001b[0m\u001b[0m\n",
      "\u001b[0;31mException\u001b[0m: times were given as input but returned domain somehow does not match."
     ]
    }
   ],
   "source": [
    "_, h, dyn = sur(q, chiA, chiB, times=times, freqs=None, f_low=f_low, f_ref=f_ref, ellMax=ellMax, M=M, dist_mpc=dist_mpc,\n",
    "               inclination=inclination, units='mks')"
   ]
  },
  {
   "cell_type": "code",
   "execution_count": 167,
   "metadata": {},
   "outputs": [
    {
     "name": "stderr",
     "output_type": "stream",
     "text": [
      "/Users/zohaggard/anaconda2/envs/igwn-py37/lib/python3.7/site-packages/ipykernel_launcher.py:1: DeprecationWarning: elementwise comparison failed; this will raise an error in the future.\n",
      "  \"\"\"Entry point for launching an IPython kernel.\n"
     ]
    },
    {
     "data": {
      "text/plain": [
       "(array([], dtype=int64),)"
      ]
     },
     "execution_count": 167,
     "metadata": {},
     "output_type": "execute_result"
    }
   ],
   "source": []
  },
  {
   "cell_type": "code",
   "execution_count": 164,
   "metadata": {},
   "outputs": [
    {
     "data": {
      "text/plain": [
       "[<matplotlib.lines.Line2D at 0x135c63fd0>]"
      ]
     },
     "execution_count": 164,
     "metadata": {},
     "output_type": "execute_result"
    },
    {
     "data": {
      "image/png": "[encoded data removed]",
      "text/plain": [
       "<Figure size 432x288 with 1 Axes>"
      ]
     },
     "metadata": {
      "needs_background": "light"
     },
     "output_type": "display_data"
    }
   ],
   "source": [
    "plt.plot(t_new)"
   ]
  },
  {
   "cell_type": "code",
   "execution_count": null,
   "metadata": {},
   "outputs": [],
   "source": []
  }
 ],
 "metadata": {
  "kernelspec": {
   "display_name": "igwn-py37",
   "language": "python",
   "name": "igwn-py37"
  },
  "language_info": {
   "codemirror_mode": {
    "name": "ipython",
    "version": 3
   },
   "file_extension": ".py",
   "mimetype": "text/x-python",
   "name": "python",
   "nbconvert_exporter": "python",
   "pygments_lexer": "ipython3",
   "version": "3.7.6"
  }
 },
 "nbformat": 4,
 "nbformat_minor": 2
}
