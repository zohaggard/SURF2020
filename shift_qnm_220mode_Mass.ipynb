{
 "cells": [
  {
   "cell_type": "code",
   "execution_count": 1,
   "metadata": {},
   "outputs": [],
   "source": [
    "import numpy as np\n",
    "import qnm\n",
    "import bilby\n",
    "import matplotlib.pyplot as plt\n",
    "import pandas as pd"
   ]
  },
  {
   "cell_type": "code",
   "execution_count": 2,
   "metadata": {},
   "outputs": [],
   "source": [
    "def shift_model(time, ts, tau, tau_q, fo, f_q, phi, phi_q, A, Aq, t0, **kwargs):\n",
    "    \n",
    "    \"\"\" \n",
    "    \n",
    "    quantum shift (not fractional)\n",
    "    \n",
    "    \n",
    "    \"\"\"\n",
    "    \n",
    "    plus = np.zeros(len(time))\n",
    "    cross = np.zeros(len(time))\n",
    "    \n",
    "    tidxg = time >= t0\n",
    "    tidxq = time >= ts\n",
    "    \n",
    "    GR_part = A*np.exp(-(time[tidxg]-t0)/tau)*np.exp(1j*((time[tidxg]-t0)*2*np.pi*fo) + phi)\n",
    "    \n",
    "    \n",
    "    plus[tidxg] += GR_part.real \n",
    "    \n",
    "    plus[tidxq] += Q_part.real\n",
    "    \n",
    "    return {'plus': plus, 'cross': cross}"
   ]
  },
  {
   "cell_type": "code",
   "execution_count": 3,
   "metadata": {},
   "outputs": [],
   "source": [
    "def frac_shift_1(time, frac_dw, frac_dtau, dphi, A, w, ts, phi, tau, **kwargs):\n",
    "    \n",
    "    \"\"\" \n",
    "    \n",
    "    fractional shift: 1 Q mode \n",
    "    \n",
    "    frac_dw, frac_dtau are defined as dw/w (or dtau/tau)\n",
    "    ts is Q mode start time, phi is phase, w is angular freq., tau is damping time (assumed negative)\n",
    "        \n",
    "    outputs plus and cross polarizations as dictionary\n",
    "    \n",
    "    get Q values from create_bru_dict function\n",
    "    \n",
    "    \"\"\"\n",
    "    \n",
    "    wave = np.zeros(len(time), np.complex128)\n",
    "    \n",
    "    tidq = time >= ts\n",
    "     \n",
    "    omegar_term = w * (frac_dw) #q_w/w\n",
    "    time_term_q = (time[tidq] - ts)\n",
    "    phi_term = phi + dphi\n",
    "    tau_term = tau * (frac_dtau)\n",
    "    \n",
    "    wave[tidq] = A * np.exp(1j*(omegar_term*time_term_q)) * np.exp(1j*(phi_term)) * np.exp(time_term_q/(tau*frac_dtau))\n",
    "    \n",
    "    return {'plus': wave.real, 'cross': wave.imag}"
   ]
  },
  {
   "cell_type": "code",
   "execution_count": 4,
   "metadata": {},
   "outputs": [],
   "source": [
    "def frac_shift_2(time, frac_dw, frac_dtau, frac_amp, dphi, A, t0, w, ts, phi, tau, **kwargs):\n",
    "    \n",
    "    \"\"\" \n",
    "    \n",
    "    fractional shift: superposition of 1 GR mode and 1 Q mode \n",
    "    \n",
    "    get Q values from create_bru_dict function \n",
    "    \n",
    "    get GR values from qnm package\n",
    "    \n",
    "    \"\"\"\n",
    "    \n",
    "    wave = np.zeros(len(time), np.complex128)\n",
    "    \n",
    "    tidq = time >= ts\n",
    "    tidg = time >= t0\n",
    "    \n",
    "    amplitude = A\n",
    "    omegar_term = w * (frac_dw)\n",
    "    time_term_q = (time[tidq] - ts)\n",
    "    time_term_g = (time[tidg] - t0)\n",
    "    phi_term = phi + dphi\n",
    "    tau_term = tau * (frac_dtau)\n",
    "    \n",
    "    wave[tidq] += amplitude * np.exp(1j*(omegar_term*time_term_q)) * np.exp(1j*(phi_term)) * np.exp(time_term_q/(tau*frac_dtau))\n",
    "    wave[tidg] += amplitude * np.exp(1j*(w*time_term_g)) * np.exp(1j*(phi)) * np.exp(time_term_g/(tau))\n",
    "    \n",
    "    return {'plus': wave.real, 'cross': wave.imag}"
   ]
  },
  {
   "cell_type": "code",
   "execution_count": 5,
   "metadata": {},
   "outputs": [],
   "source": [
    "def create_bru_values(m_odd, em, M, a, n_ref, A):\n",
    "    \n",
    "    \"\"\" \n",
    "    m_odd is odd integer, g_s is string coupling (GR == 1), em is 2,\n",
    "    M is total mass, a is dimensionless spin, and amplitude_qnm is \n",
    "    the amplitude of the mode of interest \n",
    "    \n",
    "    returns dictionary: amplitude (quantum, g_s version), omega_real, tau, ts, freq\n",
    "    outputs tau as a negative number\n",
    "    \n",
    "    a refractive index of 1 implies no leakage, AND does not work in this limit (n ~ 1/g_s)\n",
    "    only the subrelativistic (slow) modes can escape (n>>1) based on boundary conditions \n",
    "    (the boundary conditions being the fact that this is a BH copycat)\n",
    "        \n",
    "    something to consider is that g_s cannot 0 (which it is in GR) in this model, otherwise there will be \n",
    "    no leakage or coupling to outside the \"event horizon,\" which allows stuff to escape\n",
    "        \n",
    "    From previous work we can constrain g_s^2 to, at max, be 0.6, which is corresponds to n=1.2\n",
    "    (this n won't work for this approximation anyway, because the modes close to n = 1 will not \n",
    "    escape)\n",
    "        \n",
    "    So: pick a g_s that is small but not too small! Strings gotta couple at least for stringy deviations, \n",
    "    so n can't be very big \n",
    "    \n",
    "    Also, larger n will result in lower frequency: we can't go too low! LIGO gets real noisy\n",
    "    if f is too low\n",
    "        higher mass systems will also be low in frequency, so it's a balancing act\n",
    "    \n",
    "        \n",
    "         \n",
    "    \"\"\"\n",
    "    c = 3e8\n",
    "    G = 6.67e-11\n",
    "    Msun = 1.989e30\n",
    "    g_s = 1/n_ref\n",
    "    \n",
    "    conversion_w = (c**3)/(G * M * Msun)\n",
    "    R_con = (2 * G * M * Msun) / (c**2)\n",
    "    \n",
    "    r_s = (R_con + np.sqrt((R_con**2) - 4*(a**2)))/2 #units m, kerr+ radius \n",
    "    omega_real = (m_odd * np.pi /(2 * r_s * n_ref)) * c   #units 1/m --> 1/s\n",
    "    omega_im = - (1/r_s) * (1/(n_ref**2)) * c\n",
    "    \n",
    "    tau = 1/omega_im\n",
    "    ts = 1/omega_real \n",
    "    \n",
    "    \n",
    "    print(\"Q freq is {}\".format(omega_real/(2*np.pi)))\n",
    "    #print(\"Q tau is {}\".format(tau))\n",
    "    \n",
    "    return {'omega_real_Q': omega_real,\n",
    "            'tau_Q': tau, 'ts_Q': ts}"
   ]
  },
  {
   "cell_type": "code",
   "execution_count": 6,
   "metadata": {},
   "outputs": [],
   "source": [
    "def create_GR_values(s, l, m, n, a, M):\n",
    "\n",
    "    \"\"\"\n",
    "    grabs GR values to compare to quantum values\n",
    "    assumes M in units Msun\n",
    "    converts from 1/m --> 1/s for angular frequency using GR conversion\n",
    "    \n",
    "    returns dictionary of GR tau and GR real omega\n",
    "    outputs tau as a negative number\n",
    "    \n",
    "    \"\"\"\n",
    "    \n",
    "    c = 3e8\n",
    "    G = 6.67e-11\n",
    "    Msun = 1.989e30\n",
    "    conversion_w = (c**3)/(G * M * Msun)\n",
    "    \n",
    "    grav = qnm.modes_cache(s=s,l=l,m=m,n=n)\n",
    "    omega_GR, _, _ = grav(a=a)\n",
    "    \n",
    "    omega_real_GR = omega_GR.real * conversion_w\n",
    "    omega_im_GR = omega_GR.imag * conversion_w\n",
    "    tau_GR = 1/omega_im_GR\n",
    "    \n",
    "    print(\"GR freq is {}\".format(omega_real_GR/(2*np.pi)))\n",
    "    #print(\"GR tau is {}\".format(tau_GR))\n",
    "    \n",
    "    return {'tau_GR': tau_GR, 'omega_real_GR': omega_real_GR}"
   ]
  },
  {
   "cell_type": "code",
   "execution_count": 7,
   "metadata": {},
   "outputs": [],
   "source": [
    "def calc_fracs(tau_GR, tau_Q, omega_real_GR, omega_real_Q, **kwargs):\n",
    "    \n",
    "    w = omega_real_GR\n",
    "    w_q = omega_real_Q\n",
    "    #dw = w - w_q\n",
    "    frac_dw = w_q/w\n",
    "    \n",
    "    print('frac_dw is {}'.format(frac_dw))\n",
    "    tau = tau_GR\n",
    "    tau_q = tau_Q\n",
    "    #dtau = np.abs(tau-tau_q)\n",
    "    frac_dtau = tau_q/tau\n",
    "    \n",
    "    return {'frac_dtau': frac_dtau, 'frac_dw': frac_dw}"
   ]
  },
  {
   "cell_type": "code",
   "execution_count": 12,
   "metadata": {},
   "outputs": [],
   "source": [
    "def main(s, l, m, n, a, t0, n_ref, A, Mass_list, outdir):\n",
    "    \n",
    "    \n",
    "    df = pd.DataFrame(columns={'frac_dw','w','H1_SNR','frac_dtau','tau','L1_SNR', 'log_bayes_factor'}, \n",
    "                      index=Mass_list)\n",
    "    \n",
    "    for value in Mass_list:\n",
    "        \n",
    "        #create GR/bru values\n",
    "        GR_values = create_GR_values(s, l , m, n, a, value) #(s, l, m, n, a, M)\n",
    "        Q_values = create_bru_values(1, 2, value, a, n_ref, A) #(m_odd, em, M, a, n_ref, A)\n",
    "        \n",
    "    \n",
    "        #create fractional shifts\n",
    "        fracs = calc_fracs(tau_GR=GR_values['tau_GR'], tau_Q=Q_values['tau_Q'], \n",
    "                           omega_real_GR=GR_values['omega_real_GR'], \n",
    "                           omega_real_Q=Q_values['omega_real_Q'])\n",
    "        \n",
    "        injection_parameters = dict(frac_dw=fracs['frac_dw'], frac_dtau=fracs['frac_dtau'], \n",
    "                            dphi=0, A=A, w=GR_values['omega_real_GR'], t0=0, phi=0, \n",
    "                            tau=GR_values['tau_GR'], geocent_time=0, ra=0, dec=0, psi=0, \n",
    "                            ts=0)\n",
    "        \n",
    "        print(injection_parameters)\n",
    "        waveform = bilby.gw.waveform_generator.WaveformGenerator(\n",
    "                    duration=1, sampling_frequency=4096,\n",
    "                    time_domain_source_model=frac_shift_1,\n",
    "                    start_time=injection_parameters['geocent_time'])\n",
    "        \n",
    "        #plot waveform for sanity check\n",
    "        times = waveform.time_array\n",
    "        wave = frac_shift_1(times, **injection_parameters)['plus']\n",
    "        plt.plot(times, wave, label=value)\n",
    "        plt.xlim(0,1)\n",
    "        plt.xlabel('time (s)')\n",
    "        plt.ylabel('amp')\n",
    "        plt.legend()\n",
    "        plt.show()\n",
    "        \n",
    "        ifos = bilby.gw.detector.InterferometerList(['H1', 'L1'])\n",
    "        ifos.set_strain_data_from_power_spectral_densities(\n",
    "            sampling_frequency=4096, duration=1,\n",
    "            start_time=injection_parameters['geocent_time'])\n",
    "        \n",
    "        ifos.inject_signal(waveform_generator=waveform, parameters=injection_parameters)\n",
    "        \n",
    "        #create priors\n",
    "        prior = injection_parameters.copy()\n",
    "        prior['frac_dtau'] = bilby.core.prior.Uniform(0, 20, r'$d\\tau/\\tau}$')\n",
    "        prior['frac_dw'] = bilby.core.prior.Uniform(0, 1, r'$d\\omega/\\omega$')\n",
    "        \n",
    "        #create likelihood\n",
    "        likelihood = bilby.gw.GravitationalWaveTransient(\n",
    "                    interferometers=ifos, waveform_generator=waveform)\n",
    "        \n",
    "        result = bilby.run_sampler(\n",
    "            likelihood=likelihood, priors=prior, sampler='dynesty', npoints=500, walks=10, \n",
    "            nact=5, injection_parameters=injection_parameters, outdir=outdir, \n",
    "            label='mass{}_220_{}_{}'.format(value, n_ref, A), resume=False)\n",
    "        \n",
    "        df.loc[value] = {'frac_dw': injection_parameters['frac_dw'],\n",
    "                         'w':injection_parameters['w'],\n",
    "                         'H1_SNR': ifos.meta_data['H1']['optimal_SNR'],\n",
    "                         'L1_SNR': ifos.meta_data['L1']['optimal_SNR'],\n",
    "                         'frac_dtau': injection_parameters['frac_dtau'],\n",
    "                         'tau': injection_parameters['tau'],\n",
    "                         'log_bayes_factor': result.log_bayes_factor}\n",
    "        \n",
    "        result.plot_corner(save=True)\n",
    "    \n",
    "    return df"
   ]
  },
  {
   "cell_type": "code",
   "execution_count": 25,
   "metadata": {},
   "outputs": [
    {
     "name": "stdout",
     "output_type": "stream",
     "text": [
      "GR freq is 862.5705847051892\n",
      "Q freq is 254.39768806966646\n",
      "frac_dw is 0.2949297049778424\n",
      "{'frac_dw': 0.2949297049778424, 'frac_dtau': 4.039643657181079, 'dphi': 0, 'A': 9e-22, 'w': 5419.690824224949, 't0': 0, 'phi': 0, 'tau': -0.0012163366581207057, 'geocent_time': 0, 'ra': 0, 'dec': 0, 'psi': 0, 'ts': 0}\n"
     ]
    },
    {
     "data": {
      "image/png": "[encoded data removed]",
      "text/plain": [
       "<Figure size 432x288 with 1 Axes>"
      ]
     },
     "metadata": {
      "needs_background": "light"
     },
     "output_type": "display_data"
    },
    {
     "name": "stderr",
     "output_type": "stream",
     "text": [
      "/Users/zohaggard/anaconda2/envs/igwn-py37/lib/python3.7/site-packages/bilby/gw/detector/psd.py:356: RuntimeWarning: invalid value encountered in multiply\n",
      "  frequency_domain_strain = self.__power_spectral_density_interpolated(frequencies) ** 0.5 * white_noise\n",
      "17:59 bilby INFO    : Injected signal in H1:\n",
      "17:59 bilby INFO    :   optimal SNR = 7.89\n",
      "17:59 bilby INFO    :   matched filter SNR = 8.28+0.98j\n",
      "17:59 bilby INFO    :   frac_dw = 0.2949297049778424\n",
      "17:59 bilby INFO    :   frac_dtau = 4.039643657181079\n",
      "17:59 bilby INFO    :   dphi = 0\n",
      "17:59 bilby INFO    :   A = 9e-22\n",
      "17:59 bilby INFO    :   w = 5419.690824224949\n",
      "17:59 bilby INFO    :   t0 = 0\n",
      "17:59 bilby INFO    :   phi = 0\n",
      "17:59 bilby INFO    :   tau = -0.0012163366581207057\n",
      "17:59 bilby INFO    :   geocent_time = 0\n",
      "17:59 bilby INFO    :   ra = 0\n",
      "17:59 bilby INFO    :   dec = 0\n",
      "17:59 bilby INFO    :   psi = 0\n",
      "17:59 bilby INFO    :   ts = 0\n",
      "17:59 bilby INFO    : Injected signal in L1:\n",
      "17:59 bilby INFO    :   optimal SNR = 9.43\n",
      "17:59 bilby INFO    :   matched filter SNR = 9.88-0.02j\n",
      "17:59 bilby INFO    :   frac_dw = 0.2949297049778424\n",
      "17:59 bilby INFO    :   frac_dtau = 4.039643657181079\n",
      "17:59 bilby INFO    :   dphi = 0\n",
      "17:59 bilby INFO    :   A = 9e-22\n",
      "17:59 bilby INFO    :   w = 5419.690824224949\n",
      "17:59 bilby INFO    :   t0 = 0\n",
      "17:59 bilby INFO    :   phi = 0\n",
      "17:59 bilby INFO    :   tau = -0.0012163366581207057\n",
      "17:59 bilby INFO    :   geocent_time = 0\n",
      "17:59 bilby INFO    :   ra = 0\n",
      "17:59 bilby INFO    :   dec = 0\n",
      "17:59 bilby INFO    :   psi = 0\n",
      "17:59 bilby INFO    :   ts = 0\n",
      "17:59 bilby INFO    : Running for label 'mass20_220_5_9e-22', output will be saved to 'outdir_07224020_n5_tschange/'\n",
      "17:59 bilby INFO    : Using LAL version Branch: None;Tag: lal-v6.22.0;Id: 38829b72bfb5f26391b9866d286dd77db7942dd1;;Builder: Duncan Macleod <duncan.macleod@ligo.org>;Repository status: CLEAN: All modifications committed\n",
      "17:59 bilby INFO    : Search parameters:\n",
      "17:59 bilby INFO    :   frac_dw = Uniform(minimum=0, maximum=1, name='$d\\\\omega/\\\\omega$', latex_label='$d\\\\omega/\\\\omega$', unit=None, boundary=None)\n",
      "17:59 bilby INFO    :   frac_dtau = Uniform(minimum=0, maximum=20, name='$d\\\\tau/\\\\tau}$', latex_label='$d\\\\tau/\\\\tau}$', unit=None, boundary=None)\n",
      "17:59 bilby INFO    :   dphi = 0\n",
      "17:59 bilby INFO    :   A = 9e-22\n",
      "17:59 bilby INFO    :   w = 5419.690824224949\n",
      "17:59 bilby INFO    :   t0 = 0\n",
      "17:59 bilby INFO    :   phi = 0\n",
      "17:59 bilby INFO    :   tau = -0.0012163366581207057\n",
      "17:59 bilby INFO    :   geocent_time = 0\n",
      "17:59 bilby INFO    :   ra = 0\n",
      "17:59 bilby INFO    :   dec = 0\n",
      "17:59 bilby INFO    :   psi = 0\n",
      "17:59 bilby INFO    :   ts = 0\n",
      "17:59 bilby INFO    : Single likelihood evaluation took 1.536e-03 s\n"
     ]
    },
    {
     "name": "stdout",
     "output_type": "stream",
     "text": [
      "\r",
      "0it [00:00, ?it/s]"
     ]
    },
    {
     "name": "stderr",
     "output_type": "stream",
     "text": [
      "17:59 bilby INFO    : Using sampler Dynesty with kwargs {'bound': 'multi', 'sample': 'rwalk', 'verbose': True, 'periodic': None, 'reflective': None, 'check_point_delta_t': 600, 'nlive': 500, 'first_update': None, 'walks': 10, 'npdim': None, 'rstate': None, 'queue_size': None, 'pool': None, 'use_pool': None, 'live_points': None, 'logl_args': None, 'logl_kwargs': None, 'ptform_args': None, 'ptform_kwargs': None, 'enlarge': 1.5, 'bootstrap': None, 'vol_dec': 0.5, 'vol_check': 8.0, 'facc': 0.2, 'slices': 5, 'update_interval': 300, 'print_func': <bound method Dynesty._print_func of <bilby.core.sampler.dynesty.Dynesty object at 0x1333c4690>>, 'dlogz': 0.1, 'maxiter': None, 'maxcall': None, 'logl_max': inf, 'add_live': True, 'print_progress': True, 'save_bounds': False, 'n_effective': None, 'maxmcmc': 5000, 'nact': 5}\n",
      "17:59 bilby INFO    : Checkpoint every n_check_point = 400000\n",
      "17:59 bilby INFO    : Using dynesty version 1.0.1\n",
      "17:59 bilby INFO    : Using the bilby-implemented rwalk sample method with ACT estimated walks\n"
     ]
    },
    {
     "name": "stdout",
     "output_type": "stream",
     "text": [
      "4945it [03:17, 17.82it/s, bound:484 nc:53 ncall:172938 eff:2.9% logz-ratio=75.84+/-0.16 dlogz:0.100>0.10]"
     ]
    },
    {
     "name": "stderr",
     "output_type": "stream",
     "text": [
      "18:02 bilby INFO    : Writing checkpoint file outdir_07224020_n5_tschange//mass20_220_5_9e-22_resume.pickle\n"
     ]
    },
    {
     "name": "stdout",
     "output_type": "stream",
     "text": [
      "\n",
      "4946it [03:18, 24.95it/s, bound:484 nc:1 ncall:172987 eff:3.1% logz-ratio=75.94+/-0.16 dlogz:0.000>0.10] \n",
      "\n"
     ]
    },
    {
     "name": "stderr",
     "output_type": "stream",
     "text": [
      "18:02 bilby INFO    : Sampling time: 0:03:16.762395\n",
      "18:02 bilby INFO    : Summary of results:\n",
      "nsamples: 5446\n",
      "log_noise_evidence: -4070.192\n",
      "log_evidence: -3994.253 +/-  0.161\n",
      "log_bayes_factor: 75.939 +/-  0.161\n",
      "\n"
     ]
    },
    {
     "name": "stdout",
     "output_type": "stream",
     "text": [
      "GR freq is 431.2852923525946\n",
      "Q freq is 127.19884402138752\n",
      "frac_dw is 0.2949297049466665\n",
      "{'frac_dw': 0.2949297049466665, 'frac_dtau': 4.039643657608094, 'dphi': 0, 'A': 9e-22, 'w': 2709.8454121124746, 't0': 0, 'phi': 0, 'tau': -0.0024326733162414113, 'geocent_time': 0, 'ra': 0, 'dec': 0, 'psi': 0, 'ts': 0}\n"
     ]
    },
    {
     "data": {
      "image/png": "[encoded data removed]",
      "text/plain": [
       "<Figure size 432x288 with 1 Axes>"
      ]
     },
     "metadata": {
      "needs_background": "light"
     },
     "output_type": "display_data"
    },
    {
     "name": "stderr",
     "output_type": "stream",
     "text": [
      "/Users/zohaggard/anaconda2/envs/igwn-py37/lib/python3.7/site-packages/bilby/gw/detector/psd.py:356: RuntimeWarning: invalid value encountered in multiply\n",
      "  frequency_domain_strain = self.__power_spectral_density_interpolated(frequencies) ** 0.5 * white_noise\n",
      "18:02 bilby INFO    : Injected signal in H1:\n",
      "18:02 bilby INFO    :   optimal SNR = 10.63\n",
      "18:02 bilby INFO    :   matched filter SNR = 10.24+0.22j\n",
      "18:02 bilby INFO    :   frac_dw = 0.2949297049466665\n",
      "18:02 bilby INFO    :   frac_dtau = 4.039643657608094\n",
      "18:02 bilby INFO    :   dphi = 0\n",
      "18:02 bilby INFO    :   A = 9e-22\n",
      "18:02 bilby INFO    :   w = 2709.8454121124746\n",
      "18:02 bilby INFO    :   t0 = 0\n",
      "18:02 bilby INFO    :   phi = 0\n",
      "18:02 bilby INFO    :   tau = -0.0024326733162414113\n",
      "18:02 bilby INFO    :   geocent_time = 0\n",
      "18:02 bilby INFO    :   ra = 0\n",
      "18:02 bilby INFO    :   dec = 0\n",
      "18:02 bilby INFO    :   psi = 0\n",
      "18:02 bilby INFO    :   ts = 0\n",
      "18:02 bilby INFO    : Injected signal in L1:\n",
      "18:02 bilby INFO    :   optimal SNR = 12.75\n",
      "18:02 bilby INFO    :   matched filter SNR = 12.16+0.99j\n",
      "18:02 bilby INFO    :   frac_dw = 0.2949297049466665\n",
      "18:02 bilby INFO    :   frac_dtau = 4.039643657608094\n",
      "18:02 bilby INFO    :   dphi = 0\n",
      "18:02 bilby INFO    :   A = 9e-22\n",
      "18:02 bilby INFO    :   w = 2709.8454121124746\n",
      "18:02 bilby INFO    :   t0 = 0\n",
      "18:02 bilby INFO    :   phi = 0\n",
      "18:02 bilby INFO    :   tau = -0.0024326733162414113\n",
      "18:02 bilby INFO    :   geocent_time = 0\n",
      "18:02 bilby INFO    :   ra = 0\n",
      "18:02 bilby INFO    :   dec = 0\n",
      "18:02 bilby INFO    :   psi = 0\n",
      "18:02 bilby INFO    :   ts = 0\n",
      "18:02 bilby INFO    : Running for label 'mass40_220_5_9e-22', output will be saved to 'outdir_07224020_n5_tschange/'\n",
      "18:02 bilby INFO    : Using LAL version Branch: None;Tag: lal-v6.22.0;Id: 38829b72bfb5f26391b9866d286dd77db7942dd1;;Builder: Duncan Macleod <duncan.macleod@ligo.org>;Repository status: CLEAN: All modifications committed\n",
      "18:02 bilby INFO    : Search parameters:\n",
      "18:02 bilby INFO    :   frac_dw = Uniform(minimum=0, maximum=1, name='$d\\\\omega/\\\\omega$', latex_label='$d\\\\omega/\\\\omega$', unit=None, boundary=None)\n",
      "18:02 bilby INFO    :   frac_dtau = Uniform(minimum=0, maximum=20, name='$d\\\\tau/\\\\tau}$', latex_label='$d\\\\tau/\\\\tau}$', unit=None, boundary=None)\n",
      "18:02 bilby INFO    :   dphi = 0\n",
      "18:02 bilby INFO    :   A = 9e-22\n",
      "18:02 bilby INFO    :   w = 2709.8454121124746\n",
      "18:02 bilby INFO    :   t0 = 0\n",
      "18:02 bilby INFO    :   phi = 0\n",
      "18:02 bilby INFO    :   tau = -0.0024326733162414113\n",
      "18:02 bilby INFO    :   geocent_time = 0\n",
      "18:02 bilby INFO    :   ra = 0\n",
      "18:02 bilby INFO    :   dec = 0\n",
      "18:02 bilby INFO    :   psi = 0\n",
      "18:02 bilby INFO    :   ts = 0\n",
      "18:02 bilby INFO    : Single likelihood evaluation took 1.324e-03 s\n"
     ]
    },
    {
     "name": "stdout",
     "output_type": "stream",
     "text": [
      "\r",
      "0it [00:00, ?it/s]"
     ]
    },
    {
     "name": "stderr",
     "output_type": "stream",
     "text": [
      "18:02 bilby INFO    : Using sampler Dynesty with kwargs {'bound': 'multi', 'sample': 'rwalk', 'verbose': True, 'periodic': None, 'reflective': None, 'check_point_delta_t': 600, 'nlive': 500, 'first_update': None, 'walks': 10, 'npdim': None, 'rstate': None, 'queue_size': None, 'pool': None, 'use_pool': None, 'live_points': None, 'logl_args': None, 'logl_kwargs': None, 'ptform_args': None, 'ptform_kwargs': None, 'enlarge': 1.5, 'bootstrap': None, 'vol_dec': 0.5, 'vol_check': 8.0, 'facc': 0.2, 'slices': 5, 'update_interval': 300, 'print_func': <bound method Dynesty._print_func of <bilby.core.sampler.dynesty.Dynesty object at 0x135470210>>, 'dlogz': 0.1, 'maxiter': None, 'maxcall': None, 'logl_max': inf, 'add_live': True, 'print_progress': True, 'save_bounds': False, 'n_effective': None, 'maxmcmc': 5000, 'nact': 5}\n",
      "18:02 bilby INFO    : Checkpoint every n_check_point = 500000\n",
      "18:02 bilby INFO    : Using dynesty version 1.0.1\n",
      "18:02 bilby INFO    : Using the bilby-implemented rwalk sample method with ACT estimated walks\n"
     ]
    },
    {
     "name": "stdout",
     "output_type": "stream",
     "text": [
      "5152it [03:32, 17.40it/s, bound:532 nc:49 ncall:186454 eff:2.8% logz-ratio=118.38+/-0.17 dlogz:0.100>0.10]"
     ]
    },
    {
     "name": "stderr",
     "output_type": "stream",
     "text": [
      "18:06 bilby INFO    : Writing checkpoint file outdir_07224020_n5_tschange//mass40_220_5_9e-22_resume.pickle\n"
     ]
    },
    {
     "name": "stdout",
     "output_type": "stream",
     "text": [
      "\n",
      "5152it [03:32, 24.21it/s, bound:532 nc:1 ncall:186454 eff:3.0% logz-ratio=118.47+/-0.17 dlogz:0.000>0.10] \n",
      "\n"
     ]
    },
    {
     "name": "stderr",
     "output_type": "stream",
     "text": [
      "18:06 bilby INFO    : Sampling time: 0:03:31.360911\n",
      "18:06 bilby INFO    : Summary of results:\n",
      "nsamples: 5652\n",
      "log_noise_evidence: -4150.076\n",
      "log_evidence: -4031.601 +/-  0.166\n",
      "log_bayes_factor: 118.475 +/-  0.166\n",
      "\n"
     ]
    },
    {
     "name": "stdout",
     "output_type": "stream",
     "text": [
      "GR freq is 287.523528235063\n",
      "Q freq is 84.79922934593168\n",
      "frac_dw is 0.2949297049408931\n",
      "{'frac_dw': 0.2949297049408931, 'frac_dtau': 4.039643657687172, 'dphi': 0, 'A': 9e-22, 'w': 1806.5636080749828, 't0': 0, 'phi': 0, 'tau': -0.0036490099743621174, 'geocent_time': 0, 'ra': 0, 'dec': 0, 'psi': 0, 'ts': 0}\n"
     ]
    },
    {
     "data": {
      "image/png": "[encoded data removed]",
      "text/plain": [
       "<Figure size 432x288 with 1 Axes>"
      ]
     },
     "metadata": {
      "needs_background": "light"
     },
     "output_type": "display_data"
    },
    {
     "name": "stderr",
     "output_type": "stream",
     "text": [
      "/Users/zohaggard/anaconda2/envs/igwn-py37/lib/python3.7/site-packages/bilby/gw/detector/psd.py:356: RuntimeWarning: invalid value encountered in multiply\n",
      "  frequency_domain_strain = self.__power_spectral_density_interpolated(frequencies) ** 0.5 * white_noise\n",
      "18:06 bilby INFO    : Injected signal in H1:\n",
      "18:06 bilby INFO    :   optimal SNR = 12.14\n",
      "18:06 bilby INFO    :   matched filter SNR = 12.08+0.97j\n",
      "18:06 bilby INFO    :   frac_dw = 0.2949297049408931\n",
      "18:06 bilby INFO    :   frac_dtau = 4.039643657687172\n",
      "18:06 bilby INFO    :   dphi = 0\n",
      "18:06 bilby INFO    :   A = 9e-22\n",
      "18:06 bilby INFO    :   w = 1806.5636080749828\n",
      "18:06 bilby INFO    :   t0 = 0\n",
      "18:06 bilby INFO    :   phi = 0\n",
      "18:06 bilby INFO    :   tau = -0.0036490099743621174\n",
      "18:06 bilby INFO    :   geocent_time = 0\n",
      "18:06 bilby INFO    :   ra = 0\n",
      "18:06 bilby INFO    :   dec = 0\n",
      "18:06 bilby INFO    :   psi = 0\n",
      "18:06 bilby INFO    :   ts = 0\n",
      "18:06 bilby INFO    : Injected signal in L1:\n",
      "18:06 bilby INFO    :   optimal SNR = 14.64\n",
      "18:06 bilby INFO    :   matched filter SNR = 12.58+0.83j\n",
      "18:06 bilby INFO    :   frac_dw = 0.2949297049408931\n",
      "18:06 bilby INFO    :   frac_dtau = 4.039643657687172\n",
      "18:06 bilby INFO    :   dphi = 0\n",
      "18:06 bilby INFO    :   A = 9e-22\n",
      "18:06 bilby INFO    :   w = 1806.5636080749828\n",
      "18:06 bilby INFO    :   t0 = 0\n",
      "18:06 bilby INFO    :   phi = 0\n",
      "18:06 bilby INFO    :   tau = -0.0036490099743621174\n",
      "18:06 bilby INFO    :   geocent_time = 0\n",
      "18:06 bilby INFO    :   ra = 0\n",
      "18:06 bilby INFO    :   dec = 0\n",
      "18:06 bilby INFO    :   psi = 0\n",
      "18:06 bilby INFO    :   ts = 0\n",
      "18:06 bilby INFO    : Running for label 'mass60_220_5_9e-22', output will be saved to 'outdir_07224020_n5_tschange/'\n",
      "18:06 bilby INFO    : Using LAL version Branch: None;Tag: lal-v6.22.0;Id: 38829b72bfb5f26391b9866d286dd77db7942dd1;;Builder: Duncan Macleod <duncan.macleod@ligo.org>;Repository status: CLEAN: All modifications committed\n",
      "18:06 bilby INFO    : Search parameters:\n",
      "18:06 bilby INFO    :   frac_dw = Uniform(minimum=0, maximum=1, name='$d\\\\omega/\\\\omega$', latex_label='$d\\\\omega/\\\\omega$', unit=None, boundary=None)\n",
      "18:06 bilby INFO    :   frac_dtau = Uniform(minimum=0, maximum=20, name='$d\\\\tau/\\\\tau}$', latex_label='$d\\\\tau/\\\\tau}$', unit=None, boundary=None)\n",
      "18:06 bilby INFO    :   dphi = 0\n",
      "18:06 bilby INFO    :   A = 9e-22\n",
      "18:06 bilby INFO    :   w = 1806.5636080749828\n",
      "18:06 bilby INFO    :   t0 = 0\n",
      "18:06 bilby INFO    :   phi = 0\n",
      "18:06 bilby INFO    :   tau = -0.0036490099743621174\n",
      "18:06 bilby INFO    :   geocent_time = 0\n",
      "18:06 bilby INFO    :   ra = 0\n",
      "18:06 bilby INFO    :   dec = 0\n",
      "18:06 bilby INFO    :   psi = 0\n",
      "18:06 bilby INFO    :   ts = 0\n",
      "18:06 bilby INFO    : Single likelihood evaluation took 1.268e-03 s\n"
     ]
    },
    {
     "name": "stdout",
     "output_type": "stream",
     "text": [
      "\r",
      "0it [00:00, ?it/s]"
     ]
    },
    {
     "name": "stderr",
     "output_type": "stream",
     "text": [
      "18:06 bilby INFO    : Using sampler Dynesty with kwargs {'bound': 'multi', 'sample': 'rwalk', 'verbose': True, 'periodic': None, 'reflective': None, 'check_point_delta_t': 600, 'nlive': 500, 'first_update': None, 'walks': 10, 'npdim': None, 'rstate': None, 'queue_size': None, 'pool': None, 'use_pool': None, 'live_points': None, 'logl_args': None, 'logl_kwargs': None, 'ptform_args': None, 'ptform_kwargs': None, 'enlarge': 1.5, 'bootstrap': None, 'vol_dec': 0.5, 'vol_check': 8.0, 'facc': 0.2, 'slices': 5, 'update_interval': 300, 'print_func': <bound method Dynesty._print_func of <bilby.core.sampler.dynesty.Dynesty object at 0x1331ab5d0>>, 'dlogz': 0.1, 'maxiter': None, 'maxcall': None, 'logl_max': inf, 'add_live': True, 'print_progress': True, 'save_bounds': False, 'n_effective': None, 'maxmcmc': 5000, 'nact': 5}\n",
      "18:06 bilby INFO    : Checkpoint every n_check_point = 500000\n",
      "18:06 bilby INFO    : Using dynesty version 1.0.1\n",
      "18:06 bilby INFO    : Using the bilby-implemented rwalk sample method with ACT estimated walks\n"
     ]
    },
    {
     "name": "stdout",
     "output_type": "stream",
     "text": [
      "5379it [03:40, 18.20it/s, bound:548 nc:49 ncall:193916 eff:2.8% logz-ratio=141.76+/-0.17 dlogz:0.100>0.10]"
     ]
    },
    {
     "name": "stderr",
     "output_type": "stream",
     "text": [
      "18:10 bilby INFO    : Writing checkpoint file outdir_07224020_n5_tschange//mass60_220_5_9e-22_resume.pickle\n"
     ]
    },
    {
     "name": "stdout",
     "output_type": "stream",
     "text": [
      "\n",
      "5380it [03:40, 24.36it/s, bound:549 nc:1 ncall:193968 eff:3.0% logz-ratio=141.86+/-0.17 dlogz:0.000>0.10] \n",
      "\n"
     ]
    },
    {
     "name": "stderr",
     "output_type": "stream",
     "text": [
      "18:10 bilby INFO    : Sampling time: 0:03:39.408649\n",
      "18:10 bilby INFO    : Summary of results:\n",
      "nsamples: 5880\n",
      "log_noise_evidence: -4225.581\n",
      "log_evidence: -4083.724 +/-  0.172\n",
      "log_bayes_factor: 141.857 +/-  0.172\n",
      "\n"
     ]
    },
    {
     "name": "stdout",
     "output_type": "stream",
     "text": [
      "GR freq is 215.6426461762973\n",
      "Q freq is 63.599422009013026\n",
      "frac_dw is 0.29492970493887244\n",
      "{'frac_dw': 0.29492970493887244, 'frac_dtau': 4.039643657714849, 'dphi': 0, 'A': 9e-22, 'w': 1354.9227060562373, 't0': 0, 'phi': 0, 'tau': -0.004865346632482823, 'geocent_time': 0, 'ra': 0, 'dec': 0, 'psi': 0, 'ts': 0}\n"
     ]
    },
    {
     "data": {
      "image/png": "[encoded data removed]",
      "text/plain": [
       "<Figure size 432x288 with 1 Axes>"
      ]
     },
     "metadata": {
      "needs_background": "light"
     },
     "output_type": "display_data"
    },
    {
     "name": "stderr",
     "output_type": "stream",
     "text": [
      "/Users/zohaggard/anaconda2/envs/igwn-py37/lib/python3.7/site-packages/bilby/gw/detector/psd.py:356: RuntimeWarning: invalid value encountered in multiply\n",
      "  frequency_domain_strain = self.__power_spectral_density_interpolated(frequencies) ** 0.5 * white_noise\n",
      "18:10 bilby INFO    : Injected signal in H1:\n",
      "18:10 bilby INFO    :   optimal SNR = 12.87\n",
      "18:10 bilby INFO    :   matched filter SNR = 14.08+0.24j\n",
      "18:10 bilby INFO    :   frac_dw = 0.29492970493887244\n",
      "18:10 bilby INFO    :   frac_dtau = 4.039643657714849\n",
      "18:10 bilby INFO    :   dphi = 0\n",
      "18:10 bilby INFO    :   A = 9e-22\n",
      "18:10 bilby INFO    :   w = 1354.9227060562373\n",
      "18:10 bilby INFO    :   t0 = 0\n",
      "18:10 bilby INFO    :   phi = 0\n",
      "18:10 bilby INFO    :   tau = -0.004865346632482823\n",
      "18:10 bilby INFO    :   geocent_time = 0\n",
      "18:10 bilby INFO    :   ra = 0\n",
      "18:10 bilby INFO    :   dec = 0\n",
      "18:10 bilby INFO    :   psi = 0\n",
      "18:10 bilby INFO    :   ts = 0\n",
      "18:10 bilby INFO    : Injected signal in L1:\n",
      "18:10 bilby INFO    :   optimal SNR = 15.62\n",
      "18:10 bilby INFO    :   matched filter SNR = 16.09+0.26j\n",
      "18:10 bilby INFO    :   frac_dw = 0.29492970493887244\n",
      "18:10 bilby INFO    :   frac_dtau = 4.039643657714849\n",
      "18:10 bilby INFO    :   dphi = 0\n",
      "18:10 bilby INFO    :   A = 9e-22\n",
      "18:10 bilby INFO    :   w = 1354.9227060562373\n",
      "18:10 bilby INFO    :   t0 = 0\n",
      "18:10 bilby INFO    :   phi = 0\n",
      "18:10 bilby INFO    :   tau = -0.004865346632482823\n",
      "18:10 bilby INFO    :   geocent_time = 0\n",
      "18:10 bilby INFO    :   ra = 0\n",
      "18:10 bilby INFO    :   dec = 0\n",
      "18:10 bilby INFO    :   psi = 0\n",
      "18:10 bilby INFO    :   ts = 0\n",
      "18:10 bilby INFO    : Running for label 'mass80_220_5_9e-22', output will be saved to 'outdir_07224020_n5_tschange/'\n",
      "18:10 bilby INFO    : Using LAL version Branch: None;Tag: lal-v6.22.0;Id: 38829b72bfb5f26391b9866d286dd77db7942dd1;;Builder: Duncan Macleod <duncan.macleod@ligo.org>;Repository status: CLEAN: All modifications committed\n",
      "18:10 bilby INFO    : Search parameters:\n",
      "18:10 bilby INFO    :   frac_dw = Uniform(minimum=0, maximum=1, name='$d\\\\omega/\\\\omega$', latex_label='$d\\\\omega/\\\\omega$', unit=None, boundary=None)\n",
      "18:10 bilby INFO    :   frac_dtau = Uniform(minimum=0, maximum=20, name='$d\\\\tau/\\\\tau}$', latex_label='$d\\\\tau/\\\\tau}$', unit=None, boundary=None)\n",
      "18:10 bilby INFO    :   dphi = 0\n",
      "18:10 bilby INFO    :   A = 9e-22\n",
      "18:10 bilby INFO    :   w = 1354.9227060562373\n",
      "18:10 bilby INFO    :   t0 = 0\n",
      "18:10 bilby INFO    :   phi = 0\n",
      "18:10 bilby INFO    :   tau = -0.004865346632482823\n",
      "18:10 bilby INFO    :   geocent_time = 0\n",
      "18:10 bilby INFO    :   ra = 0\n",
      "18:10 bilby INFO    :   dec = 0\n",
      "18:10 bilby INFO    :   psi = 0\n",
      "18:10 bilby INFO    :   ts = 0\n",
      "18:10 bilby INFO    : Single likelihood evaluation took 1.273e-03 s\n"
     ]
    },
    {
     "name": "stdout",
     "output_type": "stream",
     "text": [
      "\r",
      "0it [00:00, ?it/s]"
     ]
    },
    {
     "name": "stderr",
     "output_type": "stream",
     "text": [
      "18:10 bilby INFO    : Using sampler Dynesty with kwargs {'bound': 'multi', 'sample': 'rwalk', 'verbose': True, 'periodic': None, 'reflective': None, 'check_point_delta_t': 600, 'nlive': 500, 'first_update': None, 'walks': 10, 'npdim': None, 'rstate': None, 'queue_size': None, 'pool': None, 'use_pool': None, 'live_points': None, 'logl_args': None, 'logl_kwargs': None, 'ptform_args': None, 'ptform_kwargs': None, 'enlarge': 1.5, 'bootstrap': None, 'vol_dec': 0.5, 'vol_check': 8.0, 'facc': 0.2, 'slices': 5, 'update_interval': 300, 'print_func': <bound method Dynesty._print_func of <bilby.core.sampler.dynesty.Dynesty object at 0x133cdb490>>, 'dlogz': 0.1, 'maxiter': None, 'maxcall': None, 'logl_max': inf, 'add_live': True, 'print_progress': True, 'save_bounds': False, 'n_effective': None, 'maxmcmc': 5000, 'nact': 5}\n",
      "18:10 bilby INFO    : Checkpoint every n_check_point = 500000\n",
      "18:10 bilby INFO    : Using dynesty version 1.0.1\n",
      "18:10 bilby INFO    : Using the bilby-implemented rwalk sample method with ACT estimated walks\n"
     ]
    },
    {
     "name": "stdout",
     "output_type": "stream",
     "text": [
      "5456it [11:09, 15.82it/s, bound:572 nc:49 ncall:199799 eff:2.7% logz-ratio=220.44+/-0.17 dlogz:0.100>0.10]"
     ]
    },
    {
     "name": "stderr",
     "output_type": "stream",
     "text": [
      "18:21 bilby INFO    : Writing checkpoint file outdir_07224020_n5_tschange//mass80_220_5_9e-22_resume.pickle\n"
     ]
    },
    {
     "name": "stdout",
     "output_type": "stream",
     "text": [
      "\n",
      "5456it [11:09,  8.14it/s, bound:572 nc:1 ncall:199799 eff:3.0% logz-ratio=220.54+/-0.17 dlogz:0.000>0.10] \n",
      "\n"
     ]
    },
    {
     "name": "stderr",
     "output_type": "stream",
     "text": [
      "18:21 bilby INFO    : Sampling time: 0:11:08.421107\n",
      "18:21 bilby INFO    : Summary of results:\n",
      "nsamples: 5956\n",
      "log_noise_evidence: -4328.117\n",
      "log_evidence: -4107.579 +/-  0.174\n",
      "log_bayes_factor: 220.537 +/-  0.174\n",
      "\n"
     ]
    },
    {
     "name": "stdout",
     "output_type": "stream",
     "text": [
      "GR freq is 172.51411694103783\n",
      "Q freq is 50.879537607049066\n",
      "frac_dw is 0.29492970493793713\n",
      "{'frac_dw': 0.29492970493793713, 'frac_dtau': 4.039643657727659, 'dphi': 0, 'A': 9e-22, 'w': 1083.9381648449898, 't0': 0, 'phi': 0, 'tau': -0.006081683290603529, 'geocent_time': 0, 'ra': 0, 'dec': 0, 'psi': 0, 'ts': 0}\n"
     ]
    },
    {
     "data": {
      "image/png": "[encoded data removed]",
      "text/plain": [
       "<Figure size 432x288 with 1 Axes>"
      ]
     },
     "metadata": {
      "needs_background": "light"
     },
     "output_type": "display_data"
    },
    {
     "name": "stderr",
     "output_type": "stream",
     "text": [
      "/Users/zohaggard/anaconda2/envs/igwn-py37/lib/python3.7/site-packages/bilby/gw/detector/psd.py:356: RuntimeWarning: invalid value encountered in multiply\n",
      "  frequency_domain_strain = self.__power_spectral_density_interpolated(frequencies) ** 0.5 * white_noise\n",
      "18:21 bilby INFO    : Injected signal in H1:\n",
      "18:21 bilby INFO    :   optimal SNR = 12.92\n",
      "18:21 bilby INFO    :   matched filter SNR = 12.30-0.26j\n",
      "18:21 bilby INFO    :   frac_dw = 0.29492970493793713\n",
      "18:21 bilby INFO    :   frac_dtau = 4.039643657727659\n",
      "18:21 bilby INFO    :   dphi = 0\n",
      "18:21 bilby INFO    :   A = 9e-22\n",
      "18:21 bilby INFO    :   w = 1083.9381648449898\n",
      "18:21 bilby INFO    :   t0 = 0\n",
      "18:21 bilby INFO    :   phi = 0\n",
      "18:21 bilby INFO    :   tau = -0.006081683290603529\n",
      "18:21 bilby INFO    :   geocent_time = 0\n",
      "18:21 bilby INFO    :   ra = 0\n",
      "18:21 bilby INFO    :   dec = 0\n",
      "18:21 bilby INFO    :   psi = 0\n",
      "18:21 bilby INFO    :   ts = 0\n",
      "18:21 bilby INFO    : Injected signal in L1:\n",
      "18:21 bilby INFO    :   optimal SNR = 15.81\n",
      "18:21 bilby INFO    :   matched filter SNR = 15.71+1.03j\n",
      "18:21 bilby INFO    :   frac_dw = 0.29492970493793713\n",
      "18:21 bilby INFO    :   frac_dtau = 4.039643657727659\n",
      "18:21 bilby INFO    :   dphi = 0\n",
      "18:21 bilby INFO    :   A = 9e-22\n",
      "18:21 bilby INFO    :   w = 1083.9381648449898\n",
      "18:21 bilby INFO    :   t0 = 0\n",
      "18:21 bilby INFO    :   phi = 0\n",
      "18:21 bilby INFO    :   tau = -0.006081683290603529\n",
      "18:21 bilby INFO    :   geocent_time = 0\n",
      "18:21 bilby INFO    :   ra = 0\n",
      "18:21 bilby INFO    :   dec = 0\n",
      "18:21 bilby INFO    :   psi = 0\n",
      "18:21 bilby INFO    :   ts = 0\n",
      "18:21 bilby INFO    : Running for label 'mass100_220_5_9e-22', output will be saved to 'outdir_07224020_n5_tschange/'\n",
      "18:21 bilby INFO    : Using LAL version Branch: None;Tag: lal-v6.22.0;Id: 38829b72bfb5f26391b9866d286dd77db7942dd1;;Builder: Duncan Macleod <duncan.macleod@ligo.org>;Repository status: CLEAN: All modifications committed\n",
      "18:21 bilby INFO    : Search parameters:\n",
      "18:21 bilby INFO    :   frac_dw = Uniform(minimum=0, maximum=1, name='$d\\\\omega/\\\\omega$', latex_label='$d\\\\omega/\\\\omega$', unit=None, boundary=None)\n",
      "18:21 bilby INFO    :   frac_dtau = Uniform(minimum=0, maximum=20, name='$d\\\\tau/\\\\tau}$', latex_label='$d\\\\tau/\\\\tau}$', unit=None, boundary=None)\n",
      "18:21 bilby INFO    :   dphi = 0\n",
      "18:21 bilby INFO    :   A = 9e-22\n",
      "18:21 bilby INFO    :   w = 1083.9381648449898\n",
      "18:21 bilby INFO    :   t0 = 0\n",
      "18:21 bilby INFO    :   phi = 0\n",
      "18:21 bilby INFO    :   tau = -0.006081683290603529\n",
      "18:21 bilby INFO    :   geocent_time = 0\n",
      "18:21 bilby INFO    :   ra = 0\n",
      "18:21 bilby INFO    :   dec = 0\n",
      "18:21 bilby INFO    :   psi = 0\n",
      "18:21 bilby INFO    :   ts = 0\n",
      "18:21 bilby INFO    : Single likelihood evaluation took 1.791e-03 s\n"
     ]
    },
    {
     "name": "stdout",
     "output_type": "stream",
     "text": [
      "\r",
      "0it [00:00, ?it/s]"
     ]
    },
    {
     "name": "stderr",
     "output_type": "stream",
     "text": [
      "18:21 bilby INFO    : Using sampler Dynesty with kwargs {'bound': 'multi', 'sample': 'rwalk', 'verbose': True, 'periodic': None, 'reflective': None, 'check_point_delta_t': 600, 'nlive': 500, 'first_update': None, 'walks': 10, 'npdim': None, 'rstate': None, 'queue_size': None, 'pool': None, 'use_pool': None, 'live_points': None, 'logl_args': None, 'logl_kwargs': None, 'ptform_args': None, 'ptform_kwargs': None, 'enlarge': 1.5, 'bootstrap': None, 'vol_dec': 0.5, 'vol_check': 8.0, 'facc': 0.2, 'slices': 5, 'update_interval': 300, 'print_func': <bound method Dynesty._print_func of <bilby.core.sampler.dynesty.Dynesty object at 0x133da5890>>, 'dlogz': 0.1, 'maxiter': None, 'maxcall': None, 'logl_max': inf, 'add_live': True, 'print_progress': True, 'save_bounds': False, 'n_effective': None, 'maxmcmc': 5000, 'nact': 5}\n",
      "18:21 bilby INFO    : Checkpoint every n_check_point = 300000\n",
      "18:21 bilby INFO    : Using dynesty version 1.0.1\n",
      "18:21 bilby INFO    : Using the bilby-implemented rwalk sample method with ACT estimated walks\n"
     ]
    },
    {
     "name": "stdout",
     "output_type": "stream",
     "text": [
      "5466it [04:01, 17.11it/s, bound:568 nc:50 ncall:199367 eff:2.7% logz-ratio=190.62+/-0.17 dlogz:0.100>0.10]"
     ]
    },
    {
     "name": "stderr",
     "output_type": "stream",
     "text": [
      "18:25 bilby INFO    : Writing checkpoint file outdir_07224020_n5_tschange//mass100_220_5_9e-22_resume.pickle\n"
     ]
    },
    {
     "name": "stdout",
     "output_type": "stream",
     "text": [
      "\n",
      "5466it [04:02, 22.57it/s, bound:568 nc:1 ncall:199367 eff:3.0% logz-ratio=190.71+/-0.17 dlogz:0.000>0.10] \n",
      "\n"
     ]
    },
    {
     "name": "stderr",
     "output_type": "stream",
     "text": [
      "18:25 bilby INFO    : Sampling time: 0:04:00.601165\n",
      "18:25 bilby INFO    : Summary of results:\n",
      "nsamples: 5966\n",
      "log_noise_evidence: -4246.517\n",
      "log_evidence: -4055.805 +/-  0.174\n",
      "log_bayes_factor: 190.712 +/-  0.174\n",
      "\n"
     ]
    },
    {
     "name": "stdout",
     "output_type": "stream",
     "text": [
      "GR freq is 143.7617641175315\n",
      "Q freq is 42.399614672467855\n",
      "frac_dw is 0.29492970493742915\n",
      "{'frac_dw': 0.29492970493742915, 'frac_dtau': 4.039643657734619, 'dphi': 0, 'A': 9e-22, 'w': 903.2818040374914, 't0': 0, 'phi': 0, 'tau': -0.007298019948724235, 'geocent_time': 0, 'ra': 0, 'dec': 0, 'psi': 0, 'ts': 0}\n"
     ]
    },
    {
     "data": {
      "image/png": "[encoded data removed]",
      "text/plain": [
       "<Figure size 432x288 with 1 Axes>"
      ]
     },
     "metadata": {
      "needs_background": "light"
     },
     "output_type": "display_data"
    },
    {
     "name": "stderr",
     "output_type": "stream",
     "text": [
      "/Users/zohaggard/anaconda2/envs/igwn-py37/lib/python3.7/site-packages/bilby/gw/detector/psd.py:356: RuntimeWarning: invalid value encountered in multiply\n",
      "  frequency_domain_strain = self.__power_spectral_density_interpolated(frequencies) ** 0.5 * white_noise\n",
      "18:25 bilby INFO    : Injected signal in H1:\n",
      "18:25 bilby INFO    :   optimal SNR = 12.47\n",
      "18:25 bilby INFO    :   matched filter SNR = 11.33-0.16j\n",
      "18:25 bilby INFO    :   frac_dw = 0.29492970493742915\n",
      "18:25 bilby INFO    :   frac_dtau = 4.039643657734619\n",
      "18:25 bilby INFO    :   dphi = 0\n",
      "18:25 bilby INFO    :   A = 9e-22\n",
      "18:25 bilby INFO    :   w = 903.2818040374914\n",
      "18:25 bilby INFO    :   t0 = 0\n",
      "18:25 bilby INFO    :   phi = 0\n",
      "18:25 bilby INFO    :   tau = -0.007298019948724235\n",
      "18:25 bilby INFO    :   geocent_time = 0\n",
      "18:25 bilby INFO    :   ra = 0\n",
      "18:25 bilby INFO    :   dec = 0\n",
      "18:25 bilby INFO    :   psi = 0\n",
      "18:25 bilby INFO    :   ts = 0\n",
      "18:25 bilby INFO    : Injected signal in L1:\n",
      "18:25 bilby INFO    :   optimal SNR = 15.40\n",
      "18:25 bilby INFO    :   matched filter SNR = 15.41-0.93j\n",
      "18:25 bilby INFO    :   frac_dw = 0.29492970493742915\n",
      "18:25 bilby INFO    :   frac_dtau = 4.039643657734619\n",
      "18:25 bilby INFO    :   dphi = 0\n",
      "18:25 bilby INFO    :   A = 9e-22\n",
      "18:25 bilby INFO    :   w = 903.2818040374914\n",
      "18:25 bilby INFO    :   t0 = 0\n",
      "18:25 bilby INFO    :   phi = 0\n",
      "18:25 bilby INFO    :   tau = -0.007298019948724235\n",
      "18:25 bilby INFO    :   geocent_time = 0\n",
      "18:25 bilby INFO    :   ra = 0\n",
      "18:25 bilby INFO    :   dec = 0\n",
      "18:25 bilby INFO    :   psi = 0\n",
      "18:25 bilby INFO    :   ts = 0\n",
      "18:25 bilby INFO    : Running for label 'mass120_220_5_9e-22', output will be saved to 'outdir_07224020_n5_tschange/'\n",
      "18:25 bilby INFO    : Using LAL version Branch: None;Tag: lal-v6.22.0;Id: 38829b72bfb5f26391b9866d286dd77db7942dd1;;Builder: Duncan Macleod <duncan.macleod@ligo.org>;Repository status: CLEAN: All modifications committed\n",
      "18:25 bilby INFO    : Search parameters:\n",
      "18:25 bilby INFO    :   frac_dw = Uniform(minimum=0, maximum=1, name='$d\\\\omega/\\\\omega$', latex_label='$d\\\\omega/\\\\omega$', unit=None, boundary=None)\n",
      "18:25 bilby INFO    :   frac_dtau = Uniform(minimum=0, maximum=20, name='$d\\\\tau/\\\\tau}$', latex_label='$d\\\\tau/\\\\tau}$', unit=None, boundary=None)\n",
      "18:25 bilby INFO    :   dphi = 0\n",
      "18:25 bilby INFO    :   A = 9e-22\n",
      "18:25 bilby INFO    :   w = 903.2818040374914\n",
      "18:25 bilby INFO    :   t0 = 0\n",
      "18:25 bilby INFO    :   phi = 0\n",
      "18:25 bilby INFO    :   tau = -0.007298019948724235\n",
      "18:25 bilby INFO    :   geocent_time = 0\n",
      "18:25 bilby INFO    :   ra = 0\n",
      "18:25 bilby INFO    :   dec = 0\n",
      "18:25 bilby INFO    :   psi = 0\n",
      "18:25 bilby INFO    :   ts = 0\n",
      "18:25 bilby INFO    : Single likelihood evaluation took 1.410e-03 s\n"
     ]
    },
    {
     "name": "stdout",
     "output_type": "stream",
     "text": [
      "\r",
      "0it [00:00, ?it/s]"
     ]
    },
    {
     "name": "stderr",
     "output_type": "stream",
     "text": [
      "18:25 bilby INFO    : Using sampler Dynesty with kwargs {'bound': 'multi', 'sample': 'rwalk', 'verbose': True, 'periodic': None, 'reflective': None, 'check_point_delta_t': 600, 'nlive': 500, 'first_update': None, 'walks': 10, 'npdim': None, 'rstate': None, 'queue_size': None, 'pool': None, 'use_pool': None, 'live_points': None, 'logl_args': None, 'logl_kwargs': None, 'ptform_args': None, 'ptform_kwargs': None, 'enlarge': 1.5, 'bootstrap': None, 'vol_dec': 0.5, 'vol_check': 8.0, 'facc': 0.2, 'slices': 5, 'update_interval': 300, 'print_func': <bound method Dynesty._print_func of <bilby.core.sampler.dynesty.Dynesty object at 0x1356233d0>>, 'dlogz': 0.1, 'maxiter': None, 'maxcall': None, 'logl_max': inf, 'add_live': True, 'print_progress': True, 'save_bounds': False, 'n_effective': None, 'maxmcmc': 5000, 'nact': 5}\n",
      "18:25 bilby INFO    : Checkpoint every n_check_point = 400000\n",
      "18:25 bilby INFO    : Using dynesty version 1.0.1\n",
      "18:25 bilby INFO    : Using the bilby-implemented rwalk sample method with ACT estimated walks\n"
     ]
    },
    {
     "name": "stdout",
     "output_type": "stream",
     "text": [
      "5352it [03:46, 17.22it/s, bound:547 nc:49 ncall:193545 eff:2.8% logz-ratio=176.01+/-0.17 dlogz:0.100>0.10]"
     ]
    },
    {
     "name": "stderr",
     "output_type": "stream",
     "text": [
      "18:29 bilby INFO    : Writing checkpoint file outdir_07224020_n5_tschange//mass120_220_5_9e-22_resume.pickle\n"
     ]
    },
    {
     "name": "stdout",
     "output_type": "stream",
     "text": [
      "\n",
      "5353it [03:46, 23.61it/s, bound:548 nc:1 ncall:193599 eff:3.0% logz-ratio=176.11+/-0.17 dlogz:0.000>0.10] \n",
      "\n"
     ]
    },
    {
     "name": "stderr",
     "output_type": "stream",
     "text": [
      "18:29 bilby INFO    : Sampling time: 0:03:45.271963\n",
      "18:29 bilby INFO    : Summary of results:\n",
      "nsamples: 5853\n",
      "log_noise_evidence: -4242.092\n",
      "log_evidence: -4065.983 +/-  0.171\n",
      "log_bayes_factor: 176.109 +/-  0.171\n",
      "\n"
     ]
    },
    {
     "name": "stdout",
     "output_type": "stream",
     "text": [
      "GR freq is 123.22436924359845\n",
      "Q freq is 36.34252686207756\n",
      "frac_dw is 0.29492970493712284\n",
      "{'frac_dw': 0.29492970493712284, 'frac_dtau': 4.039643657738814, 'dphi': 0, 'A': 9e-22, 'w': 774.2415463178498, 't0': 0, 'phi': 0, 'tau': -0.00851435660684494, 'geocent_time': 0, 'ra': 0, 'dec': 0, 'psi': 0, 'ts': 0}\n"
     ]
    },
    {
     "data": {
      "image/png": "[encoded data removed]",
      "text/plain": [
       "<Figure size 432x288 with 1 Axes>"
      ]
     },
     "metadata": {
      "needs_background": "light"
     },
     "output_type": "display_data"
    },
    {
     "name": "stderr",
     "output_type": "stream",
     "text": [
      "/Users/zohaggard/anaconda2/envs/igwn-py37/lib/python3.7/site-packages/bilby/gw/detector/psd.py:356: RuntimeWarning: invalid value encountered in multiply\n",
      "  frequency_domain_strain = self.__power_spectral_density_interpolated(frequencies) ** 0.5 * white_noise\n",
      "18:29 bilby INFO    : Injected signal in H1:\n",
      "18:29 bilby INFO    :   optimal SNR = 11.71\n",
      "18:29 bilby INFO    :   matched filter SNR = 12.65-0.32j\n",
      "18:29 bilby INFO    :   frac_dw = 0.29492970493712284\n",
      "18:29 bilby INFO    :   frac_dtau = 4.039643657738814\n",
      "18:29 bilby INFO    :   dphi = 0\n",
      "18:29 bilby INFO    :   A = 9e-22\n",
      "18:29 bilby INFO    :   w = 774.2415463178498\n",
      "18:29 bilby INFO    :   t0 = 0\n",
      "18:29 bilby INFO    :   phi = 0\n",
      "18:29 bilby INFO    :   tau = -0.00851435660684494\n",
      "18:29 bilby INFO    :   geocent_time = 0\n",
      "18:29 bilby INFO    :   ra = 0\n",
      "18:29 bilby INFO    :   dec = 0\n",
      "18:29 bilby INFO    :   psi = 0\n",
      "18:29 bilby INFO    :   ts = 0\n",
      "18:29 bilby INFO    : Injected signal in L1:\n",
      "18:29 bilby INFO    :   optimal SNR = 14.63\n",
      "18:29 bilby INFO    :   matched filter SNR = 14.40-1.09j\n",
      "18:29 bilby INFO    :   frac_dw = 0.29492970493712284\n",
      "18:29 bilby INFO    :   frac_dtau = 4.039643657738814\n",
      "18:29 bilby INFO    :   dphi = 0\n",
      "18:29 bilby INFO    :   A = 9e-22\n",
      "18:29 bilby INFO    :   w = 774.2415463178498\n",
      "18:29 bilby INFO    :   t0 = 0\n",
      "18:29 bilby INFO    :   phi = 0\n",
      "18:29 bilby INFO    :   tau = -0.00851435660684494\n",
      "18:29 bilby INFO    :   geocent_time = 0\n",
      "18:29 bilby INFO    :   ra = 0\n",
      "18:29 bilby INFO    :   dec = 0\n",
      "18:29 bilby INFO    :   psi = 0\n",
      "18:29 bilby INFO    :   ts = 0\n",
      "18:29 bilby INFO    : Running for label 'mass140_220_5_9e-22', output will be saved to 'outdir_07224020_n5_tschange/'\n",
      "18:29 bilby INFO    : Using LAL version Branch: None;Tag: lal-v6.22.0;Id: 38829b72bfb5f26391b9866d286dd77db7942dd1;;Builder: Duncan Macleod <duncan.macleod@ligo.org>;Repository status: CLEAN: All modifications committed\n",
      "18:29 bilby INFO    : Search parameters:\n",
      "18:29 bilby INFO    :   frac_dw = Uniform(minimum=0, maximum=1, name='$d\\\\omega/\\\\omega$', latex_label='$d\\\\omega/\\\\omega$', unit=None, boundary=None)\n",
      "18:29 bilby INFO    :   frac_dtau = Uniform(minimum=0, maximum=20, name='$d\\\\tau/\\\\tau}$', latex_label='$d\\\\tau/\\\\tau}$', unit=None, boundary=None)\n",
      "18:29 bilby INFO    :   dphi = 0\n",
      "18:29 bilby INFO    :   A = 9e-22\n",
      "18:29 bilby INFO    :   w = 774.2415463178498\n",
      "18:29 bilby INFO    :   t0 = 0\n",
      "18:29 bilby INFO    :   phi = 0\n",
      "18:29 bilby INFO    :   tau = -0.00851435660684494\n",
      "18:29 bilby INFO    :   geocent_time = 0\n",
      "18:29 bilby INFO    :   ra = 0\n",
      "18:29 bilby INFO    :   dec = 0\n",
      "18:29 bilby INFO    :   psi = 0\n",
      "18:29 bilby INFO    :   ts = 0\n",
      "18:29 bilby INFO    : Single likelihood evaluation took 1.440e-03 s\n"
     ]
    },
    {
     "name": "stdout",
     "output_type": "stream",
     "text": [
      "\r",
      "0it [00:00, ?it/s]"
     ]
    },
    {
     "name": "stderr",
     "output_type": "stream",
     "text": [
      "18:29 bilby INFO    : Using sampler Dynesty with kwargs {'bound': 'multi', 'sample': 'rwalk', 'verbose': True, 'periodic': None, 'reflective': None, 'check_point_delta_t': 600, 'nlive': 500, 'first_update': None, 'walks': 10, 'npdim': None, 'rstate': None, 'queue_size': None, 'pool': None, 'use_pool': None, 'live_points': None, 'logl_args': None, 'logl_kwargs': None, 'ptform_args': None, 'ptform_kwargs': None, 'enlarge': 1.5, 'bootstrap': None, 'vol_dec': 0.5, 'vol_check': 8.0, 'facc': 0.2, 'slices': 5, 'update_interval': 300, 'print_func': <bound method Dynesty._print_func of <bilby.core.sampler.dynesty.Dynesty object at 0x134860350>>, 'dlogz': 0.1, 'maxiter': None, 'maxcall': None, 'logl_max': inf, 'add_live': True, 'print_progress': True, 'save_bounds': False, 'n_effective': None, 'maxmcmc': 5000, 'nact': 5}\n",
      "18:29 bilby INFO    : Checkpoint every n_check_point = 400000\n",
      "18:29 bilby INFO    : Using dynesty version 1.0.1\n",
      "18:29 bilby INFO    : Using the bilby-implemented rwalk sample method with ACT estimated walks\n"
     ]
    },
    {
     "name": "stdout",
     "output_type": "stream",
     "text": [
      "5305it [28:16, 16.54it/s, bound:537 nc:53 ncall:190161 eff:2.8% logz-ratio=176.08+/-0.17 dlogz:0.100>0.10] "
     ]
    },
    {
     "name": "stderr",
     "output_type": "stream",
     "text": [
      "18:57 bilby INFO    : Writing checkpoint file outdir_07224020_n5_tschange//mass140_220_5_9e-22_resume.pickle\n"
     ]
    },
    {
     "name": "stdout",
     "output_type": "stream",
     "text": [
      "\n",
      "5306it [28:17,  3.13it/s, bound:537 nc:1 ncall:190212 eff:3.1% logz-ratio=176.18+/-0.17 dlogz:0.000>0.10] \n",
      "\n"
     ]
    },
    {
     "name": "stderr",
     "output_type": "stream",
     "text": [
      "18:57 bilby INFO    : Sampling time: 0:28:15.802956\n",
      "18:57 bilby INFO    : Summary of results:\n",
      "nsamples: 5806\n",
      "log_noise_evidence: -4189.318\n",
      "log_evidence: -4013.140 +/-  0.171\n",
      "log_bayes_factor: 176.178 +/-  0.171\n",
      "\n"
     ]
    },
    {
     "name": "stdout",
     "output_type": "stream",
     "text": [
      "GR freq is 107.82132308814865\n",
      "Q freq is 31.799711004296423\n",
      "frac_dw is 0.29492970493692394\n",
      "{'frac_dw': 0.29492970493692394, 'frac_dtau': 4.0396436577415376, 'dphi': 0, 'A': 9e-22, 'w': 677.4613530281187, 't0': 0, 'phi': 0, 'tau': -0.009730693264965645, 'geocent_time': 0, 'ra': 0, 'dec': 0, 'psi': 0, 'ts': 0}\n"
     ]
    },
    {
     "data": {
      "image/png": "[encoded data removed]",
      "text/plain": [
       "<Figure size 432x288 with 1 Axes>"
      ]
     },
     "metadata": {
      "needs_background": "light"
     },
     "output_type": "display_data"
    },
    {
     "name": "stderr",
     "output_type": "stream",
     "text": [
      "/Users/zohaggard/anaconda2/envs/igwn-py37/lib/python3.7/site-packages/bilby/gw/detector/psd.py:356: RuntimeWarning: invalid value encountered in multiply\n",
      "  frequency_domain_strain = self.__power_spectral_density_interpolated(frequencies) ** 0.5 * white_noise\n",
      "18:57 bilby INFO    : Injected signal in H1:\n",
      "18:57 bilby INFO    :   optimal SNR = 10.84\n",
      "18:57 bilby INFO    :   matched filter SNR = 10.20-0.03j\n",
      "18:57 bilby INFO    :   frac_dw = 0.29492970493692394\n",
      "18:57 bilby INFO    :   frac_dtau = 4.0396436577415376\n",
      "18:57 bilby INFO    :   dphi = 0\n",
      "18:57 bilby INFO    :   A = 9e-22\n",
      "18:57 bilby INFO    :   w = 677.4613530281187\n",
      "18:57 bilby INFO    :   t0 = 0\n",
      "18:57 bilby INFO    :   phi = 0\n",
      "18:57 bilby INFO    :   tau = -0.009730693264965645\n",
      "18:57 bilby INFO    :   geocent_time = 0\n",
      "18:57 bilby INFO    :   ra = 0\n",
      "18:57 bilby INFO    :   dec = 0\n",
      "18:57 bilby INFO    :   psi = 0\n",
      "18:57 bilby INFO    :   ts = 0\n",
      "18:57 bilby INFO    : Injected signal in L1:\n",
      "18:57 bilby INFO    :   optimal SNR = 13.72\n",
      "18:57 bilby INFO    :   matched filter SNR = 13.37-1.19j\n",
      "18:57 bilby INFO    :   frac_dw = 0.29492970493692394\n",
      "18:57 bilby INFO    :   frac_dtau = 4.0396436577415376\n",
      "18:57 bilby INFO    :   dphi = 0\n",
      "18:57 bilby INFO    :   A = 9e-22\n",
      "18:57 bilby INFO    :   w = 677.4613530281187\n",
      "18:57 bilby INFO    :   t0 = 0\n",
      "18:57 bilby INFO    :   phi = 0\n",
      "18:57 bilby INFO    :   tau = -0.009730693264965645\n",
      "18:57 bilby INFO    :   geocent_time = 0\n",
      "18:57 bilby INFO    :   ra = 0\n",
      "18:57 bilby INFO    :   dec = 0\n",
      "18:57 bilby INFO    :   psi = 0\n",
      "18:57 bilby INFO    :   ts = 0\n",
      "18:57 bilby INFO    : Running for label 'mass160_220_5_9e-22', output will be saved to 'outdir_07224020_n5_tschange/'\n",
      "18:57 bilby INFO    : Using LAL version Branch: None;Tag: lal-v6.22.0;Id: 38829b72bfb5f26391b9866d286dd77db7942dd1;;Builder: Duncan Macleod <duncan.macleod@ligo.org>;Repository status: CLEAN: All modifications committed\n",
      "18:57 bilby INFO    : Search parameters:\n",
      "18:57 bilby INFO    :   frac_dw = Uniform(minimum=0, maximum=1, name='$d\\\\omega/\\\\omega$', latex_label='$d\\\\omega/\\\\omega$', unit=None, boundary=None)\n",
      "18:57 bilby INFO    :   frac_dtau = Uniform(minimum=0, maximum=20, name='$d\\\\tau/\\\\tau}$', latex_label='$d\\\\tau/\\\\tau}$', unit=None, boundary=None)\n",
      "18:57 bilby INFO    :   dphi = 0\n",
      "18:57 bilby INFO    :   A = 9e-22\n",
      "18:57 bilby INFO    :   w = 677.4613530281187\n",
      "18:57 bilby INFO    :   t0 = 0\n",
      "18:57 bilby INFO    :   phi = 0\n",
      "18:57 bilby INFO    :   tau = -0.009730693264965645\n",
      "18:57 bilby INFO    :   geocent_time = 0\n",
      "18:57 bilby INFO    :   ra = 0\n",
      "18:57 bilby INFO    :   dec = 0\n",
      "18:57 bilby INFO    :   psi = 0\n",
      "18:57 bilby INFO    :   ts = 0\n",
      "18:57 bilby INFO    : Single likelihood evaluation took 1.442e-03 s\n"
     ]
    },
    {
     "name": "stdout",
     "output_type": "stream",
     "text": [
      "\r",
      "0it [00:00, ?it/s]"
     ]
    },
    {
     "name": "stderr",
     "output_type": "stream",
     "text": [
      "18:57 bilby INFO    : Using sampler Dynesty with kwargs {'bound': 'multi', 'sample': 'rwalk', 'verbose': True, 'periodic': None, 'reflective': None, 'check_point_delta_t': 600, 'nlive': 500, 'first_update': None, 'walks': 10, 'npdim': None, 'rstate': None, 'queue_size': None, 'pool': None, 'use_pool': None, 'live_points': None, 'logl_args': None, 'logl_kwargs': None, 'ptform_args': None, 'ptform_kwargs': None, 'enlarge': 1.5, 'bootstrap': None, 'vol_dec': 0.5, 'vol_check': 8.0, 'facc': 0.2, 'slices': 5, 'update_interval': 300, 'print_func': <bound method Dynesty._print_func of <bilby.core.sampler.dynesty.Dynesty object at 0x124ecd5d0>>, 'dlogz': 0.1, 'maxiter': None, 'maxcall': None, 'logl_max': inf, 'add_live': True, 'print_progress': True, 'save_bounds': False, 'n_effective': None, 'maxmcmc': 5000, 'nact': 5}\n",
      "18:57 bilby INFO    : Checkpoint every n_check_point = 400000\n",
      "18:57 bilby INFO    : Using dynesty version 1.0.1\n",
      "18:57 bilby INFO    : Using the bilby-implemented rwalk sample method with ACT estimated walks\n"
     ]
    },
    {
     "name": "stdout",
     "output_type": "stream",
     "text": [
      "5154it [03:41, 16.62it/s, bound:524 nc:49 ncall:185219 eff:2.8% logz-ratio=133.56+/-0.17 dlogz:0.100>0.10]"
     ]
    },
    {
     "name": "stderr",
     "output_type": "stream",
     "text": [
      "19:01 bilby INFO    : Writing checkpoint file outdir_07224020_n5_tschange//mass160_220_5_9e-22_resume.pickle\n"
     ]
    },
    {
     "name": "stdout",
     "output_type": "stream",
     "text": [
      "\n",
      "5155it [03:41, 23.23it/s, bound:524 nc:1 ncall:185268 eff:3.1% logz-ratio=133.66+/-0.17 dlogz:0.000>0.10] \n",
      "\n"
     ]
    },
    {
     "name": "stderr",
     "output_type": "stream",
     "text": [
      "19:01 bilby INFO    : Sampling time: 0:03:40.393577\n",
      "19:01 bilby INFO    : Summary of results:\n",
      "nsamples: 5655\n",
      "log_noise_evidence: -4062.582\n",
      "log_evidence: -3928.924 +/-  0.167\n",
      "log_bayes_factor: 133.658 +/-  0.167\n",
      "\n"
     ]
    },
    {
     "name": "stdout",
     "output_type": "stream",
     "text": [
      "GR freq is 95.84117607835434\n",
      "Q freq is 28.26640978158375\n",
      "frac_dw is 0.2949297049367876\n",
      "{'frac_dw': 0.2949297049367876, 'frac_dtau': 4.039643657743405, 'dphi': 0, 'A': 9e-22, 'w': 602.1878693583276, 't0': 0, 'phi': 0, 'tau': -0.010947029923086353, 'geocent_time': 0, 'ra': 0, 'dec': 0, 'psi': 0, 'ts': 0}\n"
     ]
    },
    {
     "data": {
      "image/png": "[encoded data removed]",
      "text/plain": [
       "<Figure size 432x288 with 1 Axes>"
      ]
     },
     "metadata": {
      "needs_background": "light"
     },
     "output_type": "display_data"
    },
    {
     "name": "stderr",
     "output_type": "stream",
     "text": [
      "/Users/zohaggard/anaconda2/envs/igwn-py37/lib/python3.7/site-packages/bilby/gw/detector/psd.py:356: RuntimeWarning: invalid value encountered in multiply\n",
      "  frequency_domain_strain = self.__power_spectral_density_interpolated(frequencies) ** 0.5 * white_noise\n",
      "19:01 bilby INFO    : Injected signal in H1:\n",
      "19:01 bilby INFO    :   optimal SNR = 9.99\n",
      "19:01 bilby INFO    :   matched filter SNR = 11.27-0.51j\n",
      "19:01 bilby INFO    :   frac_dw = 0.2949297049367876\n",
      "19:01 bilby INFO    :   frac_dtau = 4.039643657743405\n",
      "19:01 bilby INFO    :   dphi = 0\n",
      "19:01 bilby INFO    :   A = 9e-22\n",
      "19:01 bilby INFO    :   w = 602.1878693583276\n",
      "19:01 bilby INFO    :   t0 = 0\n",
      "19:01 bilby INFO    :   phi = 0\n",
      "19:01 bilby INFO    :   tau = -0.010947029923086353\n",
      "19:01 bilby INFO    :   geocent_time = 0\n",
      "19:01 bilby INFO    :   ra = 0\n",
      "19:01 bilby INFO    :   dec = 0\n",
      "19:01 bilby INFO    :   psi = 0\n",
      "19:01 bilby INFO    :   ts = 0\n",
      "19:01 bilby INFO    : Injected signal in L1:\n",
      "19:01 bilby INFO    :   optimal SNR = 12.81\n",
      "19:01 bilby INFO    :   matched filter SNR = 13.40+0.41j\n",
      "19:01 bilby INFO    :   frac_dw = 0.2949297049367876\n",
      "19:01 bilby INFO    :   frac_dtau = 4.039643657743405\n",
      "19:01 bilby INFO    :   dphi = 0\n",
      "19:01 bilby INFO    :   A = 9e-22\n",
      "19:01 bilby INFO    :   w = 602.1878693583276\n",
      "19:01 bilby INFO    :   t0 = 0\n",
      "19:01 bilby INFO    :   phi = 0\n",
      "19:01 bilby INFO    :   tau = -0.010947029923086353\n",
      "19:01 bilby INFO    :   geocent_time = 0\n",
      "19:01 bilby INFO    :   ra = 0\n",
      "19:01 bilby INFO    :   dec = 0\n",
      "19:01 bilby INFO    :   psi = 0\n",
      "19:01 bilby INFO    :   ts = 0\n",
      "19:01 bilby INFO    : Running for label 'mass180_220_5_9e-22', output will be saved to 'outdir_07224020_n5_tschange/'\n",
      "19:01 bilby INFO    : Using LAL version Branch: None;Tag: lal-v6.22.0;Id: 38829b72bfb5f26391b9866d286dd77db7942dd1;;Builder: Duncan Macleod <duncan.macleod@ligo.org>;Repository status: CLEAN: All modifications committed\n",
      "19:01 bilby INFO    : Search parameters:\n",
      "19:01 bilby INFO    :   frac_dw = Uniform(minimum=0, maximum=1, name='$d\\\\omega/\\\\omega$', latex_label='$d\\\\omega/\\\\omega$', unit=None, boundary=None)\n",
      "19:01 bilby INFO    :   frac_dtau = Uniform(minimum=0, maximum=20, name='$d\\\\tau/\\\\tau}$', latex_label='$d\\\\tau/\\\\tau}$', unit=None, boundary=None)\n",
      "19:01 bilby INFO    :   dphi = 0\n",
      "19:01 bilby INFO    :   A = 9e-22\n",
      "19:01 bilby INFO    :   w = 602.1878693583276\n",
      "19:01 bilby INFO    :   t0 = 0\n",
      "19:01 bilby INFO    :   phi = 0\n",
      "19:01 bilby INFO    :   tau = -0.010947029923086353\n",
      "19:01 bilby INFO    :   geocent_time = 0\n",
      "19:01 bilby INFO    :   ra = 0\n",
      "19:01 bilby INFO    :   dec = 0\n",
      "19:01 bilby INFO    :   psi = 0\n",
      "19:01 bilby INFO    :   ts = 0\n",
      "19:01 bilby INFO    : Single likelihood evaluation took 1.478e-03 s\n"
     ]
    },
    {
     "name": "stdout",
     "output_type": "stream",
     "text": [
      "\r",
      "0it [00:00, ?it/s]"
     ]
    },
    {
     "name": "stderr",
     "output_type": "stream",
     "text": [
      "19:01 bilby INFO    : Using sampler Dynesty with kwargs {'bound': 'multi', 'sample': 'rwalk', 'verbose': True, 'periodic': None, 'reflective': None, 'check_point_delta_t': 600, 'nlive': 500, 'first_update': None, 'walks': 10, 'npdim': None, 'rstate': None, 'queue_size': None, 'pool': None, 'use_pool': None, 'live_points': None, 'logl_args': None, 'logl_kwargs': None, 'ptform_args': None, 'ptform_kwargs': None, 'enlarge': 1.5, 'bootstrap': None, 'vol_dec': 0.5, 'vol_check': 8.0, 'facc': 0.2, 'slices': 5, 'update_interval': 300, 'print_func': <bound method Dynesty._print_func of <bilby.core.sampler.dynesty.Dynesty object at 0x124e2cb50>>, 'dlogz': 0.1, 'maxiter': None, 'maxcall': None, 'logl_max': inf, 'add_live': True, 'print_progress': True, 'save_bounds': False, 'n_effective': None, 'maxmcmc': 5000, 'nact': 5}\n",
      "19:01 bilby INFO    : Checkpoint every n_check_point = 400000\n",
      "19:01 bilby INFO    : Using dynesty version 1.0.1\n",
      "19:01 bilby INFO    : Using the bilby-implemented rwalk sample method with ACT estimated walks\n"
     ]
    },
    {
     "name": "stdout",
     "output_type": "stream",
     "text": [
      "5038it [03:40, 16.57it/s, bound:506 nc:52 ncall:178608 eff:2.8% logz-ratio=145.54+/-0.16 dlogz:0.100>0.10]"
     ]
    },
    {
     "name": "stderr",
     "output_type": "stream",
     "text": [
      "19:04 bilby INFO    : Writing checkpoint file outdir_07224020_n5_tschange//mass180_220_5_9e-22_resume.pickle\n"
     ]
    },
    {
     "name": "stdout",
     "output_type": "stream",
     "text": [
      "\n",
      "5039it [03:41, 22.77it/s, bound:506 nc:1 ncall:178657 eff:3.1% logz-ratio=145.64+/-0.16 dlogz:0.000>0.10] \n",
      "\n"
     ]
    },
    {
     "name": "stderr",
     "output_type": "stream",
     "text": [
      "19:05 bilby INFO    : Sampling time: 0:03:39.802317\n",
      "19:05 bilby INFO    : Summary of results:\n",
      "nsamples: 5539\n",
      "log_noise_evidence: -4260.345\n",
      "log_evidence: -4114.709 +/-  0.164\n",
      "log_bayes_factor: 145.635 +/-  0.164\n",
      "\n"
     ]
    },
    {
     "name": "stdout",
     "output_type": "stream",
     "text": [
      "GR freq is 86.25705847051891\n",
      "Q freq is 25.439768803416968\n",
      "frac_dw is 0.2949297049366901\n",
      "{'frac_dw': 0.2949297049366901, 'frac_dtau': 4.03964365774474, 'dphi': 0, 'A': 9e-22, 'w': 541.9690824224949, 't0': 0, 'phi': 0, 'tau': -0.012163366581207058, 'geocent_time': 0, 'ra': 0, 'dec': 0, 'psi': 0, 'ts': 0}\n"
     ]
    },
    {
     "data": {
      "image/png": "[encoded data removed]",
      "text/plain": [
       "<Figure size 432x288 with 1 Axes>"
      ]
     },
     "metadata": {
      "needs_background": "light"
     },
     "output_type": "display_data"
    },
    {
     "name": "stderr",
     "output_type": "stream",
     "text": [
      "/Users/zohaggard/anaconda2/envs/igwn-py37/lib/python3.7/site-packages/bilby/gw/detector/psd.py:356: RuntimeWarning: invalid value encountered in multiply\n",
      "  frequency_domain_strain = self.__power_spectral_density_interpolated(frequencies) ** 0.5 * white_noise\n",
      "19:05 bilby INFO    : Injected signal in H1:\n",
      "19:05 bilby INFO    :   optimal SNR = 9.19\n",
      "19:05 bilby INFO    :   matched filter SNR = 9.75+1.44j\n",
      "19:05 bilby INFO    :   frac_dw = 0.2949297049366901\n",
      "19:05 bilby INFO    :   frac_dtau = 4.03964365774474\n",
      "19:05 bilby INFO    :   dphi = 0\n",
      "19:05 bilby INFO    :   A = 9e-22\n",
      "19:05 bilby INFO    :   w = 541.9690824224949\n",
      "19:05 bilby INFO    :   t0 = 0\n",
      "19:05 bilby INFO    :   phi = 0\n",
      "19:05 bilby INFO    :   tau = -0.012163366581207058\n",
      "19:05 bilby INFO    :   geocent_time = 0\n",
      "19:05 bilby INFO    :   ra = 0\n",
      "19:05 bilby INFO    :   dec = 0\n",
      "19:05 bilby INFO    :   psi = 0\n",
      "19:05 bilby INFO    :   ts = 0\n",
      "19:05 bilby INFO    : Injected signal in L1:\n",
      "19:05 bilby INFO    :   optimal SNR = 11.97\n",
      "19:05 bilby INFO    :   matched filter SNR = 11.42+0.58j\n",
      "19:05 bilby INFO    :   frac_dw = 0.2949297049366901\n",
      "19:05 bilby INFO    :   frac_dtau = 4.03964365774474\n",
      "19:05 bilby INFO    :   dphi = 0\n",
      "19:05 bilby INFO    :   A = 9e-22\n",
      "19:05 bilby INFO    :   w = 541.9690824224949\n",
      "19:05 bilby INFO    :   t0 = 0\n",
      "19:05 bilby INFO    :   phi = 0\n",
      "19:05 bilby INFO    :   tau = -0.012163366581207058\n",
      "19:05 bilby INFO    :   geocent_time = 0\n",
      "19:05 bilby INFO    :   ra = 0\n",
      "19:05 bilby INFO    :   dec = 0\n",
      "19:05 bilby INFO    :   psi = 0\n",
      "19:05 bilby INFO    :   ts = 0\n",
      "19:05 bilby INFO    : Running for label 'mass200_220_5_9e-22', output will be saved to 'outdir_07224020_n5_tschange/'\n",
      "19:05 bilby INFO    : Using LAL version Branch: None;Tag: lal-v6.22.0;Id: 38829b72bfb5f26391b9866d286dd77db7942dd1;;Builder: Duncan Macleod <duncan.macleod@ligo.org>;Repository status: CLEAN: All modifications committed\n",
      "19:05 bilby INFO    : Search parameters:\n",
      "19:05 bilby INFO    :   frac_dw = Uniform(minimum=0, maximum=1, name='$d\\\\omega/\\\\omega$', latex_label='$d\\\\omega/\\\\omega$', unit=None, boundary=None)\n",
      "19:05 bilby INFO    :   frac_dtau = Uniform(minimum=0, maximum=20, name='$d\\\\tau/\\\\tau}$', latex_label='$d\\\\tau/\\\\tau}$', unit=None, boundary=None)\n",
      "19:05 bilby INFO    :   dphi = 0\n",
      "19:05 bilby INFO    :   A = 9e-22\n",
      "19:05 bilby INFO    :   w = 541.9690824224949\n",
      "19:05 bilby INFO    :   t0 = 0\n",
      "19:05 bilby INFO    :   phi = 0\n",
      "19:05 bilby INFO    :   tau = -0.012163366581207058\n",
      "19:05 bilby INFO    :   geocent_time = 0\n",
      "19:05 bilby INFO    :   ra = 0\n",
      "19:05 bilby INFO    :   dec = 0\n",
      "19:05 bilby INFO    :   psi = 0\n",
      "19:05 bilby INFO    :   ts = 0\n",
      "19:05 bilby INFO    : Single likelihood evaluation took 1.350e-03 s\n"
     ]
    },
    {
     "name": "stdout",
     "output_type": "stream",
     "text": [
      "\r",
      "0it [00:00, ?it/s]"
     ]
    },
    {
     "name": "stderr",
     "output_type": "stream",
     "text": [
      "19:05 bilby INFO    : Using sampler Dynesty with kwargs {'bound': 'multi', 'sample': 'rwalk', 'verbose': True, 'periodic': None, 'reflective': None, 'check_point_delta_t': 600, 'nlive': 500, 'first_update': None, 'walks': 10, 'npdim': None, 'rstate': None, 'queue_size': None, 'pool': None, 'use_pool': None, 'live_points': None, 'logl_args': None, 'logl_kwargs': None, 'ptform_args': None, 'ptform_kwargs': None, 'enlarge': 1.5, 'bootstrap': None, 'vol_dec': 0.5, 'vol_check': 8.0, 'facc': 0.2, 'slices': 5, 'update_interval': 300, 'print_func': <bound method Dynesty._print_func of <bilby.core.sampler.dynesty.Dynesty object at 0x136bac550>>, 'dlogz': 0.1, 'maxiter': None, 'maxcall': None, 'logl_max': inf, 'add_live': True, 'print_progress': True, 'save_bounds': False, 'n_effective': None, 'maxmcmc': 5000, 'nact': 5}\n",
      "19:05 bilby INFO    : Checkpoint every n_check_point = 400000\n",
      "19:05 bilby INFO    : Using dynesty version 1.0.1\n",
      "19:05 bilby INFO    : Using the bilby-implemented rwalk sample method with ACT estimated walks\n"
     ]
    },
    {
     "name": "stdout",
     "output_type": "stream",
     "text": [
      "4923it [03:17, 17.28it/s, bound:481 nc:49 ncall:171803 eff:2.9% logz-ratio=105.14+/-0.16 dlogz:0.100>0.10]"
     ]
    },
    {
     "name": "stderr",
     "output_type": "stream",
     "text": [
      "19:08 bilby INFO    : Writing checkpoint file outdir_07224020_n5_tschange//mass200_220_5_9e-22_resume.pickle\n"
     ]
    },
    {
     "name": "stdout",
     "output_type": "stream",
     "text": [
      "\n",
      "4924it [03:18, 24.81it/s, bound:481 nc:1 ncall:171852 eff:3.2% logz-ratio=105.24+/-0.16 dlogz:0.000>0.10] \n",
      "\n"
     ]
    },
    {
     "name": "stderr",
     "output_type": "stream",
     "text": [
      "19:08 bilby INFO    : Sampling time: 0:03:17.084436\n",
      "19:08 bilby INFO    : Summary of results:\n",
      "nsamples: 5424\n",
      "log_noise_evidence: -4154.453\n",
      "log_evidence: -4049.213 +/-  0.161\n",
      "log_bayes_factor: 105.240 +/-  0.161\n",
      "\n"
     ]
    }
   ],
   "source": [
    "s=-2\n",
    "l=2\n",
    "m=2\n",
    "n=0\n",
    "a=0.7\n",
    "Mass_list=[20,40,60,80,100,120,140,160,180,200]\n",
    "t0=0\n",
    "n_ref=5\n",
    "A = 9e-22\n",
    "outdir = 'outdir_07224020_n5_tschange/'\n",
    "\n",
    "check = main(s=s, l=l, m=m, n=n, a=a, t0=t0, n_ref=n_ref, A=A,\n",
    "             Mass_list=Mass_list, outdir=outdir)"
   ]
  },
  {
   "cell_type": "code",
   "execution_count": 26,
   "metadata": {},
   "outputs": [
    {
     "data": {
      "text/html": [
       "<div>\n",
       "<style scoped>\n",
       "    .dataframe tbody tr th:only-of-type {\n",
       "        vertical-align: middle;\n",
       "    }\n",
       "\n",
       "    .dataframe tbody tr th {\n",
       "        vertical-align: top;\n",
       "    }\n",
       "\n",
       "    .dataframe thead th {\n",
       "        text-align: right;\n",
       "    }\n",
       "</style>\n",
       "<table border=\"1\" class=\"dataframe\">\n",
       "  <thead>\n",
       "    <tr style=\"text-align: right;\">\n",
       "      <th></th>\n",
       "      <th>H1_SNR</th>\n",
       "      <th>log_bayes_factor</th>\n",
       "      <th>w</th>\n",
       "      <th>L1_SNR</th>\n",
       "      <th>tau</th>\n",
       "      <th>frac_dw</th>\n",
       "      <th>frac_dtau</th>\n",
       "    </tr>\n",
       "  </thead>\n",
       "  <tbody>\n",
       "    <tr>\n",
       "      <th>20</th>\n",
       "      <td>7.88565</td>\n",
       "      <td>75.9393</td>\n",
       "      <td>5419.69</td>\n",
       "      <td>9.431</td>\n",
       "      <td>-0.00121634</td>\n",
       "      <td>0.29493</td>\n",
       "      <td>4.03964</td>\n",
       "    </tr>\n",
       "    <tr>\n",
       "      <th>40</th>\n",
       "      <td>10.6301</td>\n",
       "      <td>118.475</td>\n",
       "      <td>2709.85</td>\n",
       "      <td>12.753</td>\n",
       "      <td>-0.00243267</td>\n",
       "      <td>0.29493</td>\n",
       "      <td>4.03964</td>\n",
       "    </tr>\n",
       "    <tr>\n",
       "      <th>60</th>\n",
       "      <td>12.1423</td>\n",
       "      <td>141.857</td>\n",
       "      <td>1806.56</td>\n",
       "      <td>14.6409</td>\n",
       "      <td>-0.00364901</td>\n",
       "      <td>0.29493</td>\n",
       "      <td>4.03964</td>\n",
       "    </tr>\n",
       "    <tr>\n",
       "      <th>80</th>\n",
       "      <td>12.8693</td>\n",
       "      <td>220.537</td>\n",
       "      <td>1354.92</td>\n",
       "      <td>15.6183</td>\n",
       "      <td>-0.00486535</td>\n",
       "      <td>0.29493</td>\n",
       "      <td>4.03964</td>\n",
       "    </tr>\n",
       "    <tr>\n",
       "      <th>100</th>\n",
       "      <td>12.9244</td>\n",
       "      <td>190.712</td>\n",
       "      <td>1083.94</td>\n",
       "      <td>15.8119</td>\n",
       "      <td>-0.00608168</td>\n",
       "      <td>0.29493</td>\n",
       "      <td>4.03964</td>\n",
       "    </tr>\n",
       "    <tr>\n",
       "      <th>120</th>\n",
       "      <td>12.4666</td>\n",
       "      <td>176.109</td>\n",
       "      <td>903.282</td>\n",
       "      <td>15.4004</td>\n",
       "      <td>-0.00729802</td>\n",
       "      <td>0.29493</td>\n",
       "      <td>4.03964</td>\n",
       "    </tr>\n",
       "    <tr>\n",
       "      <th>140</th>\n",
       "      <td>11.7099</td>\n",
       "      <td>176.178</td>\n",
       "      <td>774.242</td>\n",
       "      <td>14.6296</td>\n",
       "      <td>-0.00851436</td>\n",
       "      <td>0.29493</td>\n",
       "      <td>4.03964</td>\n",
       "    </tr>\n",
       "    <tr>\n",
       "      <th>160</th>\n",
       "      <td>10.8432</td>\n",
       "      <td>133.658</td>\n",
       "      <td>677.461</td>\n",
       "      <td>13.7197</td>\n",
       "      <td>-0.00973069</td>\n",
       "      <td>0.29493</td>\n",
       "      <td>4.03964</td>\n",
       "    </tr>\n",
       "    <tr>\n",
       "      <th>180</th>\n",
       "      <td>9.98587</td>\n",
       "      <td>145.635</td>\n",
       "      <td>602.188</td>\n",
       "      <td>12.8118</td>\n",
       "      <td>-0.010947</td>\n",
       "      <td>0.29493</td>\n",
       "      <td>4.03964</td>\n",
       "    </tr>\n",
       "    <tr>\n",
       "      <th>200</th>\n",
       "      <td>9.19069</td>\n",
       "      <td>105.24</td>\n",
       "      <td>541.969</td>\n",
       "      <td>11.9704</td>\n",
       "      <td>-0.0121634</td>\n",
       "      <td>0.29493</td>\n",
       "      <td>4.03964</td>\n",
       "    </tr>\n",
       "  </tbody>\n",
       "</table>\n",
       "</div>"
      ],
      "text/plain": [
       "      H1_SNR log_bayes_factor        w   L1_SNR         tau  frac_dw frac_dtau\n",
       "20   7.88565          75.9393  5419.69    9.431 -0.00121634  0.29493   4.03964\n",
       "40   10.6301          118.475  2709.85   12.753 -0.00243267  0.29493   4.03964\n",
       "60   12.1423          141.857  1806.56  14.6409 -0.00364901  0.29493   4.03964\n",
       "80   12.8693          220.537  1354.92  15.6183 -0.00486535  0.29493   4.03964\n",
       "100  12.9244          190.712  1083.94  15.8119 -0.00608168  0.29493   4.03964\n",
       "120  12.4666          176.109  903.282  15.4004 -0.00729802  0.29493   4.03964\n",
       "140  11.7099          176.178  774.242  14.6296 -0.00851436  0.29493   4.03964\n",
       "160  10.8432          133.658  677.461  13.7197 -0.00973069  0.29493   4.03964\n",
       "180  9.98587          145.635  602.188  12.8118   -0.010947  0.29493   4.03964\n",
       "200  9.19069           105.24  541.969  11.9704  -0.0121634  0.29493   4.03964"
      ]
     },
     "execution_count": 26,
     "metadata": {},
     "output_type": "execute_result"
    }
   ],
   "source": [
    "check"
   ]
  },
  {
   "cell_type": "code",
   "execution_count": 27,
   "metadata": {},
   "outputs": [],
   "source": [
    "check.to_csv(path_or_buf='outdir_07224020_n5_tschange/9e-22_n5_20-200_ts')"
   ]
  },
  {
   "cell_type": "code",
   "execution_count": null,
   "metadata": {},
   "outputs": [],
   "source": []
  }
 ],
 "metadata": {
  "kernelspec": {
   "display_name": "igwn-py37",
   "language": "python",
   "name": "igwn-py37"
  },
  "language_info": {
   "codemirror_mode": {
    "name": "ipython",
    "version": 3
   },
   "file_extension": ".py",
   "mimetype": "text/x-python",
   "name": "python",
   "nbconvert_exporter": "python",
   "pygments_lexer": "ipython3",
   "version": "3.7.6"
  }
 },
 "nbformat": 4,
 "nbformat_minor": 2
}
